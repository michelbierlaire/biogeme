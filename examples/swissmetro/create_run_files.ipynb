{
  "cells": [
    {
      "cell_type": "code",
      "metadata": {},
      "source": [
        "#%%\n",
        "import glob\n",
        "import os\n",
        "\n",
        "file_list = glob.glob('*.py')\n",
        "file_list.remove('create_run_files.py')\n",
        "\n",
        "for test in file_list:\n",
        "    name, ext = os.path.splitext(test)\n",
        "    run_text = f'''#!/bin/bash -l\n",
        "#SBATCH --chdir /home/bierlair/swissmetro\n",
        "#SBATCH --nodes 1\n",
        "#SBATCH --ntasks 1\n",
        "#SBATCH --cpus-per-task 12\n",
        "#SBATCH --mem 192000\n",
        "#SBATCH --time 70:00:00\n",
        "\n",
        "source ~/env_biogeme/bin/activate\n",
        "echo STARTING AT `date`\n",
        "echo {test}\n",
        "srun python -u {test}\n",
        "echo FINISHED AT `date`\n",
        "'''\n",
        "\n",
        "    with open(f'{name}.run', 'w') as f:\n",
        "        print(run_text, file=f)\n"
      ],
      "outputs": [],
      "execution_count": null
    }
  ],
  "metadata": {
    "anaconda-cloud": {},
    "kernelspec": {
      "display_name": "Python 3",
      "language": "python",
      "name": "python3"
    },
    "language_info": {
      "codemirror_mode": {
        "name": "ipython",
        "version": 3
      },
      "file_extension": ".py",
      "mimetype": "text/x-python",
      "name": "python",
      "nbconvert_exporter": "python",
      "pygments_lexer": "ipython3",
      "version": "3.6.1"
    }
  },
  "nbformat": 4,
  "nbformat_minor": 4
}