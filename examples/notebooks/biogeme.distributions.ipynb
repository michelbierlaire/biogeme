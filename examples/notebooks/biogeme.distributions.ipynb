{
 "cells": [
  {
   "cell_type": "markdown",
   "metadata": {},
   "source": [
    "# Module biogeme.distributions"
   ]
  },
  {
   "cell_type": "markdown",
   "metadata": {},
   "source": [
    "## Examples of use of each function"
   ]
  },
  {
   "cell_type": "markdown",
   "metadata": {},
   "source": [
    "This webpage is for programmers who need examples of use of the functions of the class. The examples are designed to illustrate the syntax. They do not correspond to any meaningful model. For examples of models, visit  [biogeme.epfl.ch](http://biogeme.epfl.ch)."
   ]
  },
  {
   "cell_type": "code",
   "execution_count": 1,
   "metadata": {},
   "outputs": [
    {
     "name": "stdout",
     "output_type": "stream",
     "text": [
      "2021-10-26 16:01:45.374556\n"
     ]
    }
   ],
   "source": [
    "import datetime\n",
    "print(datetime.datetime.now())"
   ]
  },
  {
   "cell_type": "code",
   "execution_count": 2,
   "metadata": {},
   "outputs": [
    {
     "name": "stdout",
     "output_type": "stream",
     "text": [
      "biogeme 3.2.9a [2021-10-26]\n",
      "Version entirely written in Python\n",
      "Home page: http://biogeme.epfl.ch\n",
      "Submit questions to https://groups.google.com/d/forum/biogeme\n",
      "Michel Bierlaire, Transport and Mobility Laboratory, Ecole Polytechnique Fédérale de Lausanne (EPFL)\n",
      "\n"
     ]
    }
   ],
   "source": [
    "import biogeme.version as ver\n",
    "print(ver.getText())"
   ]
  },
  {
   "cell_type": "code",
   "execution_count": 3,
   "metadata": {},
   "outputs": [],
   "source": [
    "import biogeme.distributions as dist\n",
    "from biogeme.expressions import Beta"
   ]
  },
  {
   "cell_type": "markdown",
   "metadata": {},
   "source": [
    "## pdf of the normal distribution"
   ]
  },
  {
   "cell_type": "markdown",
   "metadata": {},
   "source": [
    "Returns the biogeme expression of the probability density function of the normal distribution\n",
    "\\\\[ f(x;\\mu, \\sigma) =\n",
    "        \\frac{1}{\\sigma \\sqrt{2\\pi}} \\exp{-\\frac{(x-\\mu)^2}{2\\sigma^2}}\\\\]\n"
   ]
  },
  {
   "cell_type": "markdown",
   "metadata": {},
   "source": [
    "Calculated for a numeric value"
   ]
  },
  {
   "cell_type": "code",
   "execution_count": 4,
   "metadata": {},
   "outputs": [
    {
     "name": "stdout",
     "output_type": "stream",
     "text": [
      "(exp(`-0.0`) / `2.506628275`)\n"
     ]
    }
   ],
   "source": [
    "print(dist.normalpdf(0))"
   ]
  },
  {
   "cell_type": "markdown",
   "metadata": {},
   "source": [
    "Calculated for an expression"
   ]
  },
  {
   "cell_type": "code",
   "execution_count": 5,
   "metadata": {},
   "outputs": [],
   "source": [
    "aParameter = Beta('aParameter', 0, None, None, 0)\n",
    "mu = Beta('mu', 0, None, None, 0)\n",
    "sigma = Beta('sigma', 0, None, None, 0)"
   ]
  },
  {
   "cell_type": "code",
   "execution_count": 6,
   "metadata": {
    "scrolled": true
   },
   "outputs": [
    {
     "name": "stdout",
     "output_type": "stream",
     "text": [
      "(exp((((-(aParameter(0) - mu(0))) * (aParameter(0) - mu(0))) / ((`2.0` * sigma(0)) * sigma(0)))) / (sigma(0) * `2.506628275`))\n"
     ]
    }
   ],
   "source": [
    "print(dist.normalpdf(aParameter, mu=mu, s=sigma))"
   ]
  },
  {
   "cell_type": "markdown",
   "metadata": {},
   "source": [
    "## pdf of the lognormal distribution"
   ]
  },
  {
   "cell_type": "markdown",
   "metadata": {},
   "source": [
    "Returns the biogeme expression of the probability density function of the lognormal distribution\n",
    "\\\\[f(x;\\mu, \\sigma) =\n",
    "              \\frac{1}{x\\sigma \\sqrt{2\\pi}}\n",
    "              \\exp{-\\frac{(\\ln x-\\mu)^2}{2\\sigma^2}} \\\\]\n"
   ]
  },
  {
   "cell_type": "markdown",
   "metadata": {},
   "source": [
    "Calculated for a numeric value"
   ]
  },
  {
   "cell_type": "code",
   "execution_count": 7,
   "metadata": {},
   "outputs": [
    {
     "name": "stdout",
     "output_type": "stream",
     "text": [
      "((`False` * exp((((-(log(`0`) - `0.0`)) * (log(`0`) - `0.0`)) / `2.0`))) / `0.0`)\n"
     ]
    }
   ],
   "source": [
    "print(dist.lognormalpdf(0))"
   ]
  },
  {
   "cell_type": "markdown",
   "metadata": {},
   "source": [
    "Calculated for an expression"
   ]
  },
  {
   "cell_type": "code",
   "execution_count": 8,
   "metadata": {},
   "outputs": [],
   "source": [
    "aParameter = Beta('aParameter', 0, None, None, 0)\n",
    "mu = Beta('mu', 0, None, None, 0)\n",
    "sigma = Beta('sigma', 0, None, None, 0)"
   ]
  },
  {
   "cell_type": "code",
   "execution_count": 9,
   "metadata": {},
   "outputs": [
    {
     "name": "stdout",
     "output_type": "stream",
     "text": [
      "(((aParameter(0) > `0`) * exp((((-(log(aParameter(0)) - mu(0))) * (log(aParameter(0)) - mu(0))) / ((`2.0` * sigma(0)) * sigma(0))))) / ((aParameter(0) * sigma(0)) * `2.506628275`))\n"
     ]
    }
   ],
   "source": [
    "print(dist.lognormalpdf(aParameter, mu=mu, s=sigma))"
   ]
  },
  {
   "cell_type": "markdown",
   "metadata": {},
   "source": [
    "## pdf of the uniform distribution"
   ]
  },
  {
   "cell_type": "markdown",
   "metadata": {},
   "source": [
    "Returns the biogeme expression of the probability density function of the uniform distribution\n",
    "\n",
    "\\\\[f(x; a, b) = \\left\\{ \\begin{array}{ll}\n",
    "              \\frac{1}{b-a} & \\mbox{for } x \\in [a, b] \\\\\n",
    "              0 & \\mbox{otherwise}\\end{array} \\right. \\\\]\n"
   ]
  },
  {
   "cell_type": "markdown",
   "metadata": {},
   "source": [
    "Calculated for a numeric value"
   ]
  },
  {
   "cell_type": "code",
   "execution_count": 10,
   "metadata": {},
   "outputs": [
    {
     "name": "stdout",
     "output_type": "stream",
     "text": [
      "0.5\n"
     ]
    }
   ],
   "source": [
    "print(dist.uniformpdf(0))"
   ]
  },
  {
   "cell_type": "markdown",
   "metadata": {},
   "source": [
    "Calculated for an expression"
   ]
  },
  {
   "cell_type": "code",
   "execution_count": 11,
   "metadata": {},
   "outputs": [],
   "source": [
    "aParameter = Beta('aParameter', 0, None, None, 0)\n",
    "a = Beta('a', 0, None, None, 0)\n",
    "b = Beta('b', 0, None, None, 0)"
   ]
  },
  {
   "cell_type": "code",
   "execution_count": 12,
   "metadata": {},
   "outputs": [
    {
     "name": "stdout",
     "output_type": "stream",
     "text": [
      "((((aParameter(0) < a(0)) * `0.0`) + ((aParameter(0) >= b(0)) * `0.0`)) + (((aParameter(0) >= a(0)) * (aParameter(0) < b(0))) / (b(0) - a(0))))\n"
     ]
    }
   ],
   "source": [
    "print(dist.uniformpdf(aParameter, a=a, b=b))"
   ]
  },
  {
   "cell_type": "markdown",
   "metadata": {},
   "source": [
    "## pdf of the triangular distribution"
   ]
  },
  {
   "cell_type": "markdown",
   "metadata": {},
   "source": [
    "Returns the biogeme expression of the probability density function of the triangular distribution\n",
    "\n",
    "\\\\[f(x;a, b, c) = \\left\\{ \\begin{array}{ll} 0 &\n",
    "             \\text{if } x < a \\\\\\frac{2(x-a)}{(b-a)(c-a)} &\n",
    "             \\text{if } a \\leq x < c \\\\\\frac{2(b-x)}{(b-a)(b-c)} &\n",
    "             \\text{if } c \\leq x < b \\\\0 & \\text{if } x \\geq b.\n",
    "             \\end{array} \\right. \\\\]\n",
    "\n",
    "It is assumed that $a < c < b$. It is not verified.\n"
   ]
  },
  {
   "cell_type": "markdown",
   "metadata": {},
   "source": [
    "Calculated for a numeric value"
   ]
  },
  {
   "cell_type": "code",
   "execution_count": 13,
   "metadata": {},
   "outputs": [
    {
     "name": "stdout",
     "output_type": "stream",
     "text": [
      "0.0\n"
     ]
    }
   ],
   "source": [
    "print(dist.triangularpdf(0))"
   ]
  },
  {
   "cell_type": "markdown",
   "metadata": {},
   "source": [
    "Calculated for an expression"
   ]
  },
  {
   "cell_type": "code",
   "execution_count": 14,
   "metadata": {},
   "outputs": [],
   "source": [
    "aParameter = Beta('aParameter', 0, None, None, 0)\n",
    "a = Beta('a', 0, None, None, 0)\n",
    "b = Beta('b', 0, None, None, 0)\n",
    "c = Beta('c', 0, None, None, 0)"
   ]
  },
  {
   "cell_type": "code",
   "execution_count": 15,
   "metadata": {},
   "outputs": [
    {
     "name": "stdout",
     "output_type": "stream",
     "text": [
      "((((aParameter(0) < a(0)) * `0.0`) + ((aParameter(0) >= b(0)) * `0.0`)) + (((((((((aParameter(0) >= a(0)) * (aParameter(0) < c(0))) * `2.0`) * ((aParameter(0) - a(0)) / ((b(0) - a(0)) * (c(0) - a(0))))) * (aParameter(0) >= c(0))) * (aParameter(0) < b(0))) * `2.0`) * (b(0) - aParameter(0))) / ((b(0) - a(0)) * (b(0) - c(0)))))\n"
     ]
    }
   ],
   "source": [
    "print(dist.triangularpdf(aParameter, a=a, b=b, c=c))"
   ]
  },
  {
   "cell_type": "markdown",
   "metadata": {},
   "source": [
    "## CDF of the logistic distribution"
   ]
  },
  {
   "cell_type": "markdown",
   "metadata": {},
   "source": [
    "Returns the biogeme expression of the cumulative distribution function of the logistic distribution\n",
    "\n",
    "\\\\[ f(x;\\mu, \\sigma) = \\frac{1}{1+\\exp\\left(-\\frac{x-\\mu}{\\sigma} \\right)}\\\\]\n",
    "\n",
    "\n"
   ]
  },
  {
   "cell_type": "markdown",
   "metadata": {},
   "source": [
    "Calculated for a numeric value"
   ]
  },
  {
   "cell_type": "code",
   "execution_count": 16,
   "metadata": {},
   "outputs": [
    {
     "name": "stdout",
     "output_type": "stream",
     "text": [
      "(`1.0` / (`1.0` + exp(`-0.0`)))\n"
     ]
    }
   ],
   "source": [
    "print(dist.logisticcdf(0))"
   ]
  },
  {
   "cell_type": "markdown",
   "metadata": {},
   "source": [
    "Calculated for an expression"
   ]
  },
  {
   "cell_type": "code",
   "execution_count": 17,
   "metadata": {},
   "outputs": [],
   "source": [
    "aParameter = Beta('aParameter', 0, None, None, 0)\n",
    "mu = Beta('mu', 0, None, None, 0)\n",
    "sigma = Beta('sigma', 0, None, None, 0)"
   ]
  },
  {
   "cell_type": "code",
   "execution_count": 18,
   "metadata": {},
   "outputs": [
    {
     "name": "stdout",
     "output_type": "stream",
     "text": [
      "(`1.0` / (`1.0` + exp(((-(aParameter(0) - mu(0))) / sigma(0)))))\n"
     ]
    }
   ],
   "source": [
    "print(dist.logisticcdf(aParameter, mu=mu, s=sigma))"
   ]
  }
 ],
 "metadata": {
  "kernelspec": {
   "display_name": "Python 3",
   "language": "python",
   "name": "python3"
  },
  "language_info": {
   "codemirror_mode": {
    "name": "ipython",
    "version": 3
   },
   "file_extension": ".py",
   "mimetype": "text/x-python",
   "name": "python",
   "nbconvert_exporter": "python",
   "pygments_lexer": "ipython3",
   "version": "3.9.5"
  }
 },
 "nbformat": 4,
 "nbformat_minor": 4
}
