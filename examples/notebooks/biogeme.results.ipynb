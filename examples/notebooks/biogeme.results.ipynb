{
 "cells": [
  {
   "cell_type": "markdown",
   "metadata": {},
   "source": [
    "# Module biogeme.results"
   ]
  },
  {
   "cell_type": "markdown",
   "metadata": {},
   "source": [
    "## Examples of use of each function"
   ]
  },
  {
   "cell_type": "markdown",
   "metadata": {},
   "source": [
    "This webpage is for programmers who need examples of use of the functions of the class. The examples are designed to illustrate the syntax. They do not correspond to any meaningful model. For examples of models, visit  [biogeme.epfl.ch](http://biogeme.epfl.ch)."
   ]
  },
  {
   "cell_type": "code",
   "execution_count": 1,
   "metadata": {},
   "outputs": [
    {
     "name": "stdout",
     "output_type": "stream",
     "text": [
      "2022-06-29 19:08:27.263630\n"
     ]
    }
   ],
   "source": [
    "import datetime\n",
    "print(datetime.datetime.now())"
   ]
  },
  {
   "cell_type": "code",
   "execution_count": 2,
   "metadata": {},
   "outputs": [
    {
     "name": "stdout",
     "output_type": "stream",
     "text": [
      "biogeme 3.2.9b [2022-06-29]\n",
      "Version entirely written in Python\n",
      "Home page: http://biogeme.epfl.ch\n",
      "Submit questions to https://groups.google.com/d/forum/biogeme\n",
      "Michel Bierlaire, Transport and Mobility Laboratory, Ecole Polytechnique Fédérale de Lausanne (EPFL)\n",
      "\n"
     ]
    }
   ],
   "source": [
    "import biogeme.version as ver\n",
    "print(ver.getText())"
   ]
  },
  {
   "cell_type": "code",
   "execution_count": 3,
   "metadata": {},
   "outputs": [],
   "source": [
    "import numpy as np\n",
    "import pandas as pd"
   ]
  },
  {
   "cell_type": "code",
   "execution_count": 4,
   "metadata": {},
   "outputs": [],
   "source": [
    "import biogeme.biogeme as bio\n",
    "import biogeme.database as db\n",
    "import biogeme.results as res\n",
    "from biogeme.expressions import Beta, Variable, exp"
   ]
  },
  {
   "cell_type": "markdown",
   "metadata": {},
   "source": [
    "##  Definition of a database"
   ]
  },
  {
   "cell_type": "code",
   "execution_count": 5,
   "metadata": {},
   "outputs": [],
   "source": [
    "df = pd.DataFrame({'Person': [1, 1, 1, 2, 2],\n",
    "                   'Exclude': [0, 0, 1, 0, 1],\n",
    "                   'Variable1': [1, 2, 3, 4, 5],\n",
    "                   'Variable2': [10, 20, 30,40, 50],\n",
    "                   'Choice': [1, 2, 3, 1, 2],\n",
    "                   'Av1': [0, 1, 1, 1, 1],\n",
    "                   'Av2': [1, 1, 1, 1, 1],\n",
    "                   'Av3': [0, 1, 1, 1, 1]})\n",
    "myData = db.Database('test', df)"
   ]
  },
  {
   "cell_type": "markdown",
   "metadata": {},
   "source": [
    "## Definition of various expressions"
   ]
  },
  {
   "cell_type": "code",
   "execution_count": 6,
   "metadata": {},
   "outputs": [],
   "source": [
    "Variable1 = Variable('Variable1')\n",
    "Variable2 = Variable('Variable2')\n",
    "beta1 = Beta('beta1', -1.0, -3, 3, 0)\n",
    "beta2 = Beta('beta2', 2.0, -3, 10, 0)\n",
    "likelihood = -beta1**2 * Variable1 - exp(beta2 * beta1) * \\\n",
    "    Variable2 - beta2**4\n",
    "simul = beta1 / Variable1 + beta2 / Variable2\n",
    "dictOfExpressions = {'loglike':likelihood,\n",
    "                     'beta1':beta1,\n",
    "                     'simul':simul}"
   ]
  },
  {
   "cell_type": "markdown",
   "metadata": {},
   "source": [
    "## Creation of the BIOGEME object"
   ]
  },
  {
   "cell_type": "code",
   "execution_count": 7,
   "metadata": {},
   "outputs": [
    {
     "name": "stderr",
     "output_type": "stream",
     "text": [
      "100%|████████████████████████████████████████████████████████████████████████████████████████████████████████████████████████████████████████████████████████████████████████████████████████████████████████████████████████| 10/10 [00:00<00:00, 433.11it/s]"
     ]
    },
    {
     "name": "stdout",
     "output_type": "stream",
     "text": [
      "\n",
      "Results for model simpleExample\n",
      "Output file (HTML):\t\t\tsimpleExample~05.html\n",
      "Nbr of parameters:\t\t2\n",
      "Sample size:\t\t\t5\n",
      "Excluded data:\t\t\t0\n",
      "Init log likelihood:\t\t-67.5536\n",
      "Final log likelihood:\t\t-67.06549\n",
      "Likelihood ratio test (init):\t\t0.9762237\n",
      "Rho square (init):\t\t\t0.00723\n",
      "Rho bar square (init):\t\t\t-0.0224\n",
      "Akaike Information Criterion:\t138.131\n",
      "Bayesian Information Criterion:\t137.3499\n",
      "Final gradient norm:\t\t0.0001314937\n",
      "beta1          : -1.27[0.115 -11.1 0][0.0137 -92.8 0][0.016 -79.5 0]\n",
      "beta2          : 1.25[0.0848 14.7 0][0.0591 21.1 0][0.0689 18.1 0]\n",
      "('beta2', 'beta1'):\t0.00167\t0.171\t19.3\t0\t0.000811\t1\t55.6\t0\n",
      "\n"
     ]
    },
    {
     "name": "stderr",
     "output_type": "stream",
     "text": [
      "\n"
     ]
    }
   ],
   "source": [
    "myBiogeme = bio.BIOGEME(myData, dictOfExpressions)\n",
    "myBiogeme.modelName = 'simpleExample'\n",
    "results = myBiogeme.estimate(bootstrap=10)\n",
    "print(results)"
   ]
  },
  {
   "cell_type": "markdown",
   "metadata": {},
   "source": [
    "Dump results on a file"
   ]
  },
  {
   "cell_type": "code",
   "execution_count": 8,
   "metadata": {},
   "outputs": [
    {
     "name": "stdout",
     "output_type": "stream",
     "text": [
      "simpleExample~12.pickle\n"
     ]
    }
   ],
   "source": [
    "the_pickle_file = results.writePickle()\n",
    "print(the_pickle_file)"
   ]
  },
  {
   "cell_type": "markdown",
   "metadata": {},
   "source": [
    "Results can be imported from a file previously generated"
   ]
  },
  {
   "cell_type": "code",
   "execution_count": 9,
   "metadata": {},
   "outputs": [
    {
     "name": "stdout",
     "output_type": "stream",
     "text": [
      "\n",
      "Results for model simpleExample\n",
      "Output file (HTML):\t\t\tsimpleExample~05.html\n",
      "Nbr of parameters:\t\t2\n",
      "Sample size:\t\t\t5\n",
      "Excluded data:\t\t\t0\n",
      "Init log likelihood:\t\t-67.5536\n",
      "Final log likelihood:\t\t-67.06549\n",
      "Likelihood ratio test (init):\t\t0.9762237\n",
      "Rho square (init):\t\t\t0.00723\n",
      "Rho bar square (init):\t\t\t-0.0224\n",
      "Akaike Information Criterion:\t138.131\n",
      "Bayesian Information Criterion:\t137.3499\n",
      "Final gradient norm:\t\t0.0001314937\n",
      "beta1          : -1.27[0.115 -11.1 0][0.0137 -92.8 0][0.016 -79.5 0]\n",
      "beta2          : 1.25[0.0848 14.7 0][0.0591 21.1 0][0.0689 18.1 0]\n",
      "('beta2', 'beta1'):\t0.00167\t0.171\t19.3\t0\t0.000811\t1\t55.6\t0\n",
      "\n"
     ]
    }
   ],
   "source": [
    "readResults = res.bioResults(pickleFile=the_pickle_file)\n",
    "print(readResults)"
   ]
  },
  {
   "cell_type": "markdown",
   "metadata": {},
   "source": [
    "Results can be formatted in LaTeX"
   ]
  },
  {
   "cell_type": "code",
   "execution_count": 10,
   "metadata": {},
   "outputs": [
    {
     "name": "stderr",
     "output_type": "stream",
     "text": [
      "/Users/michelbierlaire/ToBackupOnGoogleDrive/github/biogeme/biogeme/results.py:735: FutureWarning: In future versions `DataFrame.to_latex` is expected to utilise the base implementation of `Styler.to_latex` for formatting and rendering. The arguments signature may therefore change. It is recommended instead to use `DataFrame.style.to_latex` which also contains additional functionality.\n",
      "  h += table.to_latex(float_format=formatting)\n"
     ]
    },
    {
     "name": "stdout",
     "output_type": "stream",
     "text": [
      "%% This file is designed to be included into a LaTeX document\n",
      "%% See http://www.latex-project.org for information about LaTeX\n",
      "%% simpleExample - Report from biogeme 3.2.9b [2022-06-29]\n",
      "%% biogeme 3.2.9b [2022-06-29]\n",
      "%% Version entirely written in Python\n",
      "%% Home page: http://biogeme.epfl.ch\n",
      "%% Submit questions to https://groups.google.com/d/forum/biogeme\n",
      "%% Michel Bierlaire, Transport and Mobility Laboratory, Ecole Polytechnique Fédérale de Lausanne (EPFL)\n",
      "\n",
      "%% This file has automatically been generated on 2022-06-29 19:08:27.917313</p>\n",
      "\n",
      "%%Database name: test\n",
      "\n",
      "%% General statistics\n",
      "\\section{General statistics}\n",
      "\\begin{tabular}{ll}\n",
      "Number of estimated parameters & 2 \\\\\n",
      "Sample size & 5 \\\\\n",
      "Excluded observations & 0 \\\\\n",
      "Init log likelihood & -67.5536 \\\\\n",
      "Final log likelihood & -67.06549 \\\\\n",
      "Likelihood ratio test for the init. model & 0.9762237 \\\\\n",
      "Rho-square for the init. model & 0.00723 \\\\\n",
      "Rho-square-bar for the init. model & -0.0224 \\\\\n",
      "Akaike Information Criterion & 138.131 \\\\\n",
      "Bayesian Information Criterion & 137.3499 \\\\\n",
      "Final gradient norm & 1.3149E-04 \\\\\n",
      "Bootstrapping time & 0:00:00.034716 \\\\\n",
      "Nbr of threads & 16 \\\\\n",
      "Algorithm & \\verb$Newton with trust region for simple bound constraints$ \\\\\n",
      "Proportion analytical hessian & \\verb$100.0%$ \\\\\n",
      "Relative projected gradient & \\verb$2.390418e-06$ \\\\\n",
      "Relative change & \\verb$0.001379638$ \\\\\n",
      "Number of iterations & \\verb$2$ \\\\\n",
      "Number of function evaluations & \\verb$7$ \\\\\n",
      "Number of gradient evaluations & \\verb$3$ \\\\\n",
      "Number of hessian evaluations & \\verb$3$ \\\\\n",
      "Cause of termination & \\verb$Relative gradient = 2.4e-06 <= 6.1e-06$ \\\\\n",
      "Optimization time & \\verb$0:00:00.002434$ \\\\\n",
      "\\end{tabular}\n",
      "\n",
      "%%Parameter estimates\n",
      "\\section{Parameter estimates}\n",
      "\\begin{tabular}{lrrrr}\n",
      "\\toprule\n",
      "{} &  Value &  Rob. Std err &  Rob. t-test &  Rob. p-value \\\\\n",
      "\\midrule\n",
      "beta1 &  -1.27 &        0.0137 &        -92.8 &           0.0 \\\\\n",
      "beta2 &   1.25 &        0.0591 &         21.1 &           0.0 \\\\\n",
      "\\bottomrule\n",
      "\\end{tabular}\n",
      "\n",
      "%%Correlation\n",
      "\\section{Correlation}\n",
      "\\begin{tabular}{lrrrrrrrrrrrr}\n",
      "\\toprule\n",
      "{} &  Covariance &  Correlation &  t-test &  p-value &  Rob. cov. &  Rob. corr. &  Rob. t-test &  Rob. p-value &  Boot. cov. &  Boot. corr. &  Boot. t-test &  Boot. p-value \\\\\n",
      "\\midrule\n",
      "beta2-beta1 &     0.00167 &        0.171 &    19.3 &      0.0 &   0.000811 &         1.0 &         55.6 &           0.0 &      0.0011 &          1.0 &          47.7 &            0.0 \\\\\n",
      "\\bottomrule\n",
      "\\end{tabular}\n",
      "\n"
     ]
    },
    {
     "name": "stderr",
     "output_type": "stream",
     "text": [
      "/Users/michelbierlaire/ToBackupOnGoogleDrive/github/biogeme/biogeme/results.py:740: FutureWarning: In future versions `DataFrame.to_latex` is expected to utilise the base implementation of `Styler.to_latex` for formatting and rendering. The arguments signature may therefore change. It is recommended instead to use `DataFrame.style.to_latex` which also contains additional functionality.\n",
      "  h += table.to_latex(float_format=formatting)\n"
     ]
    }
   ],
   "source": [
    "print(readResults.getLaTeX())"
   ]
  },
  {
   "cell_type": "markdown",
   "metadata": {},
   "source": [
    "Results can be formatted in HTML"
   ]
  },
  {
   "cell_type": "code",
   "execution_count": 11,
   "metadata": {},
   "outputs": [
    {
     "name": "stdout",
     "output_type": "stream",
     "text": [
      "<html>\n",
      "<head>\n",
      "<script src=\"http://transp-or.epfl.ch/biogeme/sorttable.js\"></script>\n",
      "<meta http-equiv=\"Content-Type\" content=\"text/html; charset=utf-8\" />\n",
      "<title>simpleExample - Report from biogeme 3.2.9b [2022-06-29]</title>\n",
      "<meta name=\"keywords\" content=\"biogeme, discrete choice, random utility\">\n",
      "<meta name=\"description\" content=\"Report from biogeme 3.2.9b [2022-06-29]\">\n",
      "<meta name=\"author\" content=\"{bv.author}\">\n",
      "<style type=text/css>\n",
      ".biostyle\n",
      "\t{font-size:10.0pt;\n",
      "\tfont-weight:400;\n",
      "\tfont-style:normal;\n",
      "\tfont-family:Courier;}\n",
      ".boundstyle\n",
      "\t{font-size:10.0pt;\n",
      "\tfont-weight:400;\n",
      "\tfont-style:normal;\n",
      "\tfont-family:Courier;\n",
      "        color:red}\n",
      "</style>\n",
      "</head>\n",
      "<body bgcolor=\"#ffffff\">\n",
      "<p>biogeme 3.2.9b [2022-06-29]</p>\n",
      "<p><a href=\"https://www.python.org/\" target=\"_blank\">Python</a> package</p>\n",
      "<p>Home page: <a href=\"http://biogeme.epfl.ch\" target=\"_blank\">http://biogeme.epfl.ch</a></p>\n",
      "<p>Submit questions to <a href=\"https://groups.google.com/d/forum/biogeme\" target=\"_blank\">https://groups.google.com/d/forum/biogeme</a></p>\n",
      "<p><a href=\"http://people.epfl.ch/michel.bierlaire\">Michel Bierlaire</a>, <a href=\"http://transp-or.epfl.ch\">Transport and Mobility Laboratory</a>, <a href=\"http://www.epfl.ch\">Ecole Polytechnique F&#233;d&#233;rale de Lausanne (EPFL)</a></p>\n",
      "<p>This file has automatically been generated on 2022-06-29 19:08:28.093081</p>\n",
      "<table>\n",
      "<tr class=biostyle><td align=right><strong>Report file</strong>:\t</td><td>simpleExample~05.html</td></tr>\n",
      "<tr class=biostyle><td align=right><strong>Database name</strong>:\t</td><td>test</td></tr>\n",
      "</table>\n",
      "<h1>Estimation report</h1>\n",
      "<table border=\"0\">\n",
      "<tr class=biostyle><td align=right ><strong>Number of estimated parameters</strong>: </td> <td>2</td></tr>\n",
      "<tr class=biostyle><td align=right ><strong>Sample size</strong>: </td> <td>5</td></tr>\n",
      "<tr class=biostyle><td align=right ><strong>Excluded observations</strong>: </td> <td>0</td></tr>\n",
      "<tr class=biostyle><td align=right ><strong>Init log likelihood</strong>: </td> <td>-67.5536</td></tr>\n",
      "<tr class=biostyle><td align=right ><strong>Final log likelihood</strong>: </td> <td>-67.06549</td></tr>\n",
      "<tr class=biostyle><td align=right ><strong>Likelihood ratio test for the init. model</strong>: </td> <td>0.9762237</td></tr>\n",
      "<tr class=biostyle><td align=right ><strong>Rho-square for the init. model</strong>: </td> <td>0.00723</td></tr>\n",
      "<tr class=biostyle><td align=right ><strong>Rho-square-bar for the init. model</strong>: </td> <td>-0.0224</td></tr>\n",
      "<tr class=biostyle><td align=right ><strong>Akaike Information Criterion</strong>: </td> <td>138.131</td></tr>\n",
      "<tr class=biostyle><td align=right ><strong>Bayesian Information Criterion</strong>: </td> <td>137.3499</td></tr>\n",
      "<tr class=biostyle><td align=right ><strong>Final gradient norm</strong>: </td> <td>1.3149E-04</td></tr>\n",
      "<tr class=biostyle><td align=right ><strong>Bootstrapping time</strong>: </td> <td>0:00:00.034716</td></tr>\n",
      "<tr class=biostyle><td align=right ><strong>Nbr of threads</strong>: </td> <td>16</td></tr>\n",
      "<tr class=biostyle><td align=right ><strong>Algorithm</strong>: </td> <td>Newton with trust region for simple bound constraints</td></tr>\n",
      "<tr class=biostyle><td align=right ><strong>Proportion analytical hessian</strong>: </td> <td>100.0%</td></tr>\n",
      "<tr class=biostyle><td align=right ><strong>Relative projected gradient</strong>: </td> <td>2.390418e-06</td></tr>\n",
      "<tr class=biostyle><td align=right ><strong>Relative change</strong>: </td> <td>0.0013796384032595055</td></tr>\n",
      "<tr class=biostyle><td align=right ><strong>Number of iterations</strong>: </td> <td>2</td></tr>\n",
      "<tr class=biostyle><td align=right ><strong>Number of function evaluations</strong>: </td> <td>7</td></tr>\n",
      "<tr class=biostyle><td align=right ><strong>Number of gradient evaluations</strong>: </td> <td>3</td></tr>\n",
      "<tr class=biostyle><td align=right ><strong>Number of hessian evaluations</strong>: </td> <td>3</td></tr>\n",
      "<tr class=biostyle><td align=right ><strong>Cause of termination</strong>: </td> <td>Relative gradient = 2.4e-06 <= 6.1e-06</td></tr>\n",
      "<tr class=biostyle><td align=right ><strong>Optimization time</strong>: </td> <td>0:00:00.002434</td></tr>\n",
      "</table>\n",
      "<h1>Estimated parameters</h1>\n",
      "<table border=\"1\">\n",
      "<tr class=biostyle><th>Name</th><th>Value</th><th>Rob. Std err</th><th>Rob. t-test</th><th>Rob. p-value</th></tr>\n",
      "<tr class=biostyle><td>beta1</td><td>-1.27</td><td>0.0137</td><td>-92.8</td><td>0</td></tr>\n",
      "<tr class=biostyle><td>beta2</td><td>1.25</td><td>0.0591</td><td>21.1</td><td>0</td></tr>\n",
      "</table>\n",
      "<h2>Correlation of coefficients</h2>\n",
      "<table border=\"1\">\n",
      "<tr class=biostyle><th>Coefficient1</th><th>Coefficient2</th><th>Covariance</th><th>Correlation</th><th>t-test</th><th>p-value</th><th>Rob. cov.</th><th>Rob. corr.</th><th>Rob. t-test</th><th>Rob. p-value</th><th>Boot. cov.</th><th>Boot. corr.</th><th>Boot. t-test</th><th>Boot. p-value</th></tr>\n",
      "<tr class=biostyle><td>beta2</td><td>beta1</td><td>0.00167</td><td>0.171</td><td>19.3</td><td>0</td><td>0.000811</td><td>1</td><td>55.6</td><td>0</td><td>0.0011</td><td>1</td><td>47.7</td><td>0</td></tr>\n",
      "</table>\n",
      "<p>Smallest eigenvalue: 73.054</p>\n",
      "<p>Largest eigenvalue: 147.802</p>\n",
      "<p>Condition number: 2.02319</p>\n",
      "</html>\n"
     ]
    }
   ],
   "source": [
    "print(readResults.getHtml())"
   ]
  },
  {
   "cell_type": "markdown",
   "metadata": {},
   "source": [
    "General statistics, including a suggested format."
   ]
  },
  {
   "cell_type": "code",
   "execution_count": 12,
   "metadata": {},
   "outputs": [
    {
     "data": {
      "text/plain": [
       "{'Number of estimated parameters': (2, ''),\n",
       " 'Sample size': (5, ''),\n",
       " 'Excluded observations': (0, ''),\n",
       " 'Init log likelihood': (-67.55360233858966, '.7g'),\n",
       " 'Final log likelihood': (-67.06549047952232, '.7g'),\n",
       " 'Likelihood ratio test for the init. model': (0.976223718134662, '.7g'),\n",
       " 'Rho-square for the init. model': (0.0072255489295868225, '.3g'),\n",
       " 'Rho-square-bar for the init. model': (-0.022380570222663154, '.3g'),\n",
       " 'Akaike Information Criterion': (138.13098095904465, '.7g'),\n",
       " 'Bayesian Information Criterion': (137.34985678391286, '.7g'),\n",
       " 'Final gradient norm': (0.00013149371433604645, '.4E'),\n",
       " 'Bootstrapping time': (datetime.timedelta(microseconds=34716), ''),\n",
       " 'Nbr of threads': (16, '')}"
      ]
     },
     "execution_count": 12,
     "metadata": {},
     "output_type": "execute_result"
    }
   ],
   "source": [
    "statistics = readResults.getGeneralStatistics()\n",
    "statistics"
   ]
  },
  {
   "cell_type": "markdown",
   "metadata": {},
   "source": [
    "The suggested format can be used as follows"
   ]
  },
  {
   "cell_type": "markdown",
   "metadata": {},
   "source": [
    "for k, (v, p) in statistics.items():\n",
    "    print(f'{k}:\\t{v:{p}}')"
   ]
  },
  {
   "cell_type": "markdown",
   "metadata": {},
   "source": [
    "This result can be generated directly with the following function"
   ]
  },
  {
   "cell_type": "code",
   "execution_count": 13,
   "metadata": {},
   "outputs": [
    {
     "name": "stdout",
     "output_type": "stream",
     "text": [
      "Number of estimated parameters:\t2\n",
      "Sample size:\t5\n",
      "Excluded observations:\t0\n",
      "Init log likelihood:\t-67.5536\n",
      "Final log likelihood:\t-67.06549\n",
      "Likelihood ratio test for the init. model:\t0.9762237\n",
      "Rho-square for the init. model:\t0.00723\n",
      "Rho-square-bar for the init. model:\t-0.0224\n",
      "Akaike Information Criterion:\t138.131\n",
      "Bayesian Information Criterion:\t137.3499\n",
      "Final gradient norm:\t1.3149E-04\n",
      "Bootstrapping time:\t0:00:00.034716\n",
      "Nbr of threads:\t16\n",
      "\n"
     ]
    }
   ],
   "source": [
    "print(results.printGeneralStatistics())"
   ]
  },
  {
   "cell_type": "markdown",
   "metadata": {},
   "source": [
    "Estimated parameters as pandas dataframe"
   ]
  },
  {
   "cell_type": "code",
   "execution_count": 14,
   "metadata": {},
   "outputs": [
    {
     "data": {
      "text/html": [
       "<div>\n",
       "<style scoped>\n",
       "    .dataframe tbody tr th:only-of-type {\n",
       "        vertical-align: middle;\n",
       "    }\n",
       "\n",
       "    .dataframe tbody tr th {\n",
       "        vertical-align: top;\n",
       "    }\n",
       "\n",
       "    .dataframe thead th {\n",
       "        text-align: right;\n",
       "    }\n",
       "</style>\n",
       "<table border=\"1\" class=\"dataframe\">\n",
       "  <thead>\n",
       "    <tr style=\"text-align: right;\">\n",
       "      <th></th>\n",
       "      <th>Value</th>\n",
       "      <th>Rob. Std err</th>\n",
       "      <th>Rob. t-test</th>\n",
       "      <th>Rob. p-value</th>\n",
       "    </tr>\n",
       "  </thead>\n",
       "  <tbody>\n",
       "    <tr>\n",
       "      <th>beta1</th>\n",
       "      <td>-1.273264</td>\n",
       "      <td>0.013724</td>\n",
       "      <td>-92.776307</td>\n",
       "      <td>0.0</td>\n",
       "    </tr>\n",
       "    <tr>\n",
       "      <th>beta2</th>\n",
       "      <td>1.248770</td>\n",
       "      <td>0.059086</td>\n",
       "      <td>21.134842</td>\n",
       "      <td>0.0</td>\n",
       "    </tr>\n",
       "  </tbody>\n",
       "</table>\n",
       "</div>"
      ],
      "text/plain": [
       "          Value  Rob. Std err  Rob. t-test  Rob. p-value\n",
       "beta1 -1.273264      0.013724   -92.776307           0.0\n",
       "beta2  1.248770      0.059086    21.134842           0.0"
      ]
     },
     "execution_count": 14,
     "metadata": {},
     "output_type": "execute_result"
    }
   ],
   "source": [
    "readResults.getEstimatedParameters()"
   ]
  },
  {
   "cell_type": "markdown",
   "metadata": {},
   "source": [
    "Correlation results"
   ]
  },
  {
   "cell_type": "code",
   "execution_count": 15,
   "metadata": {},
   "outputs": [
    {
     "data": {
      "text/html": [
       "<div>\n",
       "<style scoped>\n",
       "    .dataframe tbody tr th:only-of-type {\n",
       "        vertical-align: middle;\n",
       "    }\n",
       "\n",
       "    .dataframe tbody tr th {\n",
       "        vertical-align: top;\n",
       "    }\n",
       "\n",
       "    .dataframe thead th {\n",
       "        text-align: right;\n",
       "    }\n",
       "</style>\n",
       "<table border=\"1\" class=\"dataframe\">\n",
       "  <thead>\n",
       "    <tr style=\"text-align: right;\">\n",
       "      <th></th>\n",
       "      <th>Covariance</th>\n",
       "      <th>Correlation</th>\n",
       "      <th>t-test</th>\n",
       "      <th>p-value</th>\n",
       "      <th>Rob. cov.</th>\n",
       "      <th>Rob. corr.</th>\n",
       "      <th>Rob. t-test</th>\n",
       "      <th>Rob. p-value</th>\n",
       "      <th>Boot. cov.</th>\n",
       "      <th>Boot. corr.</th>\n",
       "      <th>Boot. t-test</th>\n",
       "      <th>Boot. p-value</th>\n",
       "    </tr>\n",
       "  </thead>\n",
       "  <tbody>\n",
       "    <tr>\n",
       "      <th>beta2-beta1</th>\n",
       "      <td>0.001671</td>\n",
       "      <td>0.171121</td>\n",
       "      <td>19.28005</td>\n",
       "      <td>0.0</td>\n",
       "      <td>0.000811</td>\n",
       "      <td>1.0</td>\n",
       "      <td>55.598175</td>\n",
       "      <td>0.0</td>\n",
       "      <td>0.001103</td>\n",
       "      <td>0.999955</td>\n",
       "      <td>47.67909</td>\n",
       "      <td>0.0</td>\n",
       "    </tr>\n",
       "  </tbody>\n",
       "</table>\n",
       "</div>"
      ],
      "text/plain": [
       "             Covariance  Correlation    t-test  p-value  Rob. cov.  \\\n",
       "beta2-beta1    0.001671     0.171121  19.28005      0.0   0.000811   \n",
       "\n",
       "             Rob. corr.  Rob. t-test  Rob. p-value  Boot. cov.  Boot. corr.  \\\n",
       "beta2-beta1         1.0    55.598175           0.0    0.001103     0.999955   \n",
       "\n",
       "             Boot. t-test  Boot. p-value  \n",
       "beta2-beta1      47.67909            0.0  "
      ]
     },
     "execution_count": 15,
     "metadata": {},
     "output_type": "execute_result"
    }
   ],
   "source": [
    "readResults.getCorrelationResults()"
   ]
  },
  {
   "cell_type": "markdown",
   "metadata": {},
   "source": [
    "Obtain the values of the parameters"
   ]
  },
  {
   "cell_type": "code",
   "execution_count": 16,
   "metadata": {},
   "outputs": [
    {
     "data": {
      "text/plain": [
       "{'beta1': -1.2732640875536856, 'beta2': 1.248769699775698}"
      ]
     },
     "execution_count": 16,
     "metadata": {},
     "output_type": "execute_result"
    }
   ],
   "source": [
    "readResults.getBetaValues()"
   ]
  },
  {
   "cell_type": "code",
   "execution_count": 17,
   "metadata": {},
   "outputs": [
    {
     "data": {
      "text/plain": [
       "{'beta2': 1.248769699775698}"
      ]
     },
     "execution_count": 17,
     "metadata": {},
     "output_type": "execute_result"
    }
   ],
   "source": [
    "readResults.getBetaValues(myBetas=['beta2'])"
   ]
  },
  {
   "cell_type": "markdown",
   "metadata": {},
   "source": [
    "Variance-covariance matrix (Rao-Cramer)"
   ]
  },
  {
   "cell_type": "code",
   "execution_count": 18,
   "metadata": {},
   "outputs": [
    {
     "data": {
      "text/html": [
       "<div>\n",
       "<style scoped>\n",
       "    .dataframe tbody tr th:only-of-type {\n",
       "        vertical-align: middle;\n",
       "    }\n",
       "\n",
       "    .dataframe tbody tr th {\n",
       "        vertical-align: top;\n",
       "    }\n",
       "\n",
       "    .dataframe thead th {\n",
       "        text-align: right;\n",
       "    }\n",
       "</style>\n",
       "<table border=\"1\" class=\"dataframe\">\n",
       "  <thead>\n",
       "    <tr style=\"text-align: right;\">\n",
       "      <th></th>\n",
       "      <th>beta1</th>\n",
       "      <th>beta2</th>\n",
       "    </tr>\n",
       "  </thead>\n",
       "  <tbody>\n",
       "    <tr>\n",
       "      <th>beta1</th>\n",
       "      <td>0.013258</td>\n",
       "      <td>0.001671</td>\n",
       "    </tr>\n",
       "    <tr>\n",
       "      <th>beta2</th>\n",
       "      <td>0.001671</td>\n",
       "      <td>0.007196</td>\n",
       "    </tr>\n",
       "  </tbody>\n",
       "</table>\n",
       "</div>"
      ],
      "text/plain": [
       "          beta1     beta2\n",
       "beta1  0.013258  0.001671\n",
       "beta2  0.001671  0.007196"
      ]
     },
     "execution_count": 18,
     "metadata": {},
     "output_type": "execute_result"
    }
   ],
   "source": [
    "readResults.getVarCovar()"
   ]
  },
  {
   "cell_type": "markdown",
   "metadata": {},
   "source": [
    "Variance-covariance matrix (robust)"
   ]
  },
  {
   "cell_type": "code",
   "execution_count": 19,
   "metadata": {},
   "outputs": [
    {
     "data": {
      "text/html": [
       "<div>\n",
       "<style scoped>\n",
       "    .dataframe tbody tr th:only-of-type {\n",
       "        vertical-align: middle;\n",
       "    }\n",
       "\n",
       "    .dataframe tbody tr th {\n",
       "        vertical-align: top;\n",
       "    }\n",
       "\n",
       "    .dataframe thead th {\n",
       "        text-align: right;\n",
       "    }\n",
       "</style>\n",
       "<table border=\"1\" class=\"dataframe\">\n",
       "  <thead>\n",
       "    <tr style=\"text-align: right;\">\n",
       "      <th></th>\n",
       "      <th>beta1</th>\n",
       "      <th>beta2</th>\n",
       "    </tr>\n",
       "  </thead>\n",
       "  <tbody>\n",
       "    <tr>\n",
       "      <th>beta1</th>\n",
       "      <td>0.000188</td>\n",
       "      <td>0.000811</td>\n",
       "    </tr>\n",
       "    <tr>\n",
       "      <th>beta2</th>\n",
       "      <td>0.000811</td>\n",
       "      <td>0.003491</td>\n",
       "    </tr>\n",
       "  </tbody>\n",
       "</table>\n",
       "</div>"
      ],
      "text/plain": [
       "          beta1     beta2\n",
       "beta1  0.000188  0.000811\n",
       "beta2  0.000811  0.003491"
      ]
     },
     "execution_count": 19,
     "metadata": {},
     "output_type": "execute_result"
    }
   ],
   "source": [
    "readResults.getRobustVarCovar()"
   ]
  },
  {
   "cell_type": "markdown",
   "metadata": {},
   "source": [
    "Variance-covaraince matrix (bootstrap)"
   ]
  },
  {
   "cell_type": "code",
   "execution_count": 20,
   "metadata": {},
   "outputs": [
    {
     "data": {
      "text/html": [
       "<div>\n",
       "<style scoped>\n",
       "    .dataframe tbody tr th:only-of-type {\n",
       "        vertical-align: middle;\n",
       "    }\n",
       "\n",
       "    .dataframe tbody tr th {\n",
       "        vertical-align: top;\n",
       "    }\n",
       "\n",
       "    .dataframe thead th {\n",
       "        text-align: right;\n",
       "    }\n",
       "</style>\n",
       "<table border=\"1\" class=\"dataframe\">\n",
       "  <thead>\n",
       "    <tr style=\"text-align: right;\">\n",
       "      <th></th>\n",
       "      <th>beta1</th>\n",
       "      <th>beta2</th>\n",
       "    </tr>\n",
       "  </thead>\n",
       "  <tbody>\n",
       "    <tr>\n",
       "      <th>beta1</th>\n",
       "      <td>0.000256</td>\n",
       "      <td>0.001103</td>\n",
       "    </tr>\n",
       "    <tr>\n",
       "      <th>beta2</th>\n",
       "      <td>0.001103</td>\n",
       "      <td>0.004748</td>\n",
       "    </tr>\n",
       "  </tbody>\n",
       "</table>\n",
       "</div>"
      ],
      "text/plain": [
       "          beta1     beta2\n",
       "beta1  0.000256  0.001103\n",
       "beta2  0.001103  0.004748"
      ]
     },
     "execution_count": 20,
     "metadata": {},
     "output_type": "execute_result"
    }
   ],
   "source": [
    "readResults.getBootstrapVarCovar()"
   ]
  },
  {
   "cell_type": "markdown",
   "metadata": {},
   "source": [
    "Draws for sensitivity analysis are generated using bootstrapping. Any indicator can be generated by the model for each draw, and its empirical distribution can be investigate . "
   ]
  },
  {
   "cell_type": "code",
   "execution_count": 21,
   "metadata": {},
   "outputs": [
    {
     "data": {
      "text/plain": [
       "[{'beta1': -1.2925578214672562, 'beta2': 1.1643222175105554},\n",
       " {'beta1': -1.2471072737744642, 'beta2': 1.3600596419340159},\n",
       " {'beta1': -1.2777126116343736, 'beta2': 1.229556814073922},\n",
       " {'beta1': -1.2732640875536856, 'beta2': 1.248769699775698},\n",
       " {'beta1': -1.2690260405244063, 'beta2': 1.2669668838387975},\n",
       " {'beta1': -1.2471072737744642, 'beta2': 1.3600596419340159},\n",
       " {'beta1': -1.2732640875536856, 'beta2': 1.248769699775698},\n",
       " {'beta1': -1.257397879949385, 'beta2': 1.3165120809947877},\n",
       " {'beta1': -1.2925578214672562, 'beta2': 1.1643222175105554},\n",
       " {'beta1': -1.2690260405244063, 'beta2': 1.2669668838387977}]"
      ]
     },
     "execution_count": 21,
     "metadata": {},
     "output_type": "execute_result"
    }
   ],
   "source": [
    "readResults.getBetasForSensitivityAnalysis(['beta1', 'beta2'],\n",
    "                                           size=10)"
   ]
  },
  {
   "cell_type": "markdown",
   "metadata": {},
   "source": [
    "Results can be produced in the ALOGIT F12 format"
   ]
  },
  {
   "cell_type": "code",
   "execution_count": 22,
   "metadata": {},
   "outputs": [
    {
     "data": {
      "text/plain": [
       "'                                                                  simpleExample\\nFrom biogeme 3.2.9b                                     2022-06-29 19:08:28  \\nEND\\n   0      beta1 F  -1.273264087554e+00 +1.372402216626e-02\\n   0      beta2 F  +1.248769699776e+00 +5.908583062960e-02\\n  -1\\n       5                  0                   0 -6.706549047952e+01\\n   0   0  2022-06-29 19:08:28\\n  99999\\n'"
      ]
     },
     "execution_count": 22,
     "metadata": {},
     "output_type": "execute_result"
    }
   ],
   "source": [
    "readResults.getF12()"
   ]
  },
  {
   "cell_type": "markdown",
   "metadata": {},
   "source": [
    "# Miscellaneous functions"
   ]
  },
  {
   "cell_type": "markdown",
   "metadata": {},
   "source": [
    "## Likelihood ratio test"
   ]
  },
  {
   "cell_type": "markdown",
   "metadata": {},
   "source": [
    "Let's first estimate a constrained model"
   ]
  },
  {
   "cell_type": "code",
   "execution_count": 23,
   "metadata": {},
   "outputs": [
    {
     "name": "stdout",
     "output_type": "stream",
     "text": [
      "Results for model simpleExampleConstrained\n",
      "Nbr of parameters:\t\t1\n",
      "Sample size:\t\t\t5\n",
      "Excluded data:\t\t\t0\n",
      "Final log likelihood:\t\t-114.7702\n",
      "Akaike Information Criterion:\t231.5403\n",
      "Bayesian Information Criterion:\t231.1498\n",
      "\n"
     ]
    }
   ],
   "source": [
    "beta2_constrained = Beta('beta2_constrained', 2.0, -3, 10, 1)\n",
    "likelihood_constrained = -beta1**2 * Variable1 - exp(beta2_constrained * beta1) * \\\n",
    "    Variable2 - beta2_constrained**4\n",
    "myBiogemeConstrained = bio.BIOGEME(myData, likelihood_constrained)\n",
    "myBiogemeConstrained.modelName = 'simpleExampleConstrained'\n",
    "results_constrained = myBiogemeConstrained.estimate()\n",
    "print(results_constrained.shortSummary())"
   ]
  },
  {
   "cell_type": "markdown",
   "metadata": {},
   "source": [
    "We can now perform a likelihood ratio test."
   ]
  },
  {
   "cell_type": "code",
   "execution_count": 24,
   "metadata": {},
   "outputs": [
    {
     "data": {
      "text/plain": [
       "LRTuple(message='H0 can be rejected at level 0.95', statistic=95.4093641320429, threshold=3.841458820694124)"
      ]
     },
     "execution_count": 24,
     "metadata": {},
     "output_type": "execute_result"
    }
   ],
   "source": [
    "results.likelihood_ratio_test(results_constrained, 0.95)"
   ]
  },
  {
   "cell_type": "markdown",
   "metadata": {},
   "source": [
    "## Calculation of the $p$-value"
   ]
  },
  {
   "cell_type": "code",
   "execution_count": 25,
   "metadata": {},
   "outputs": [
    {
     "data": {
      "text/plain": [
       "0.04999579029644097"
      ]
     },
     "execution_count": 25,
     "metadata": {},
     "output_type": "execute_result"
    }
   ],
   "source": [
    "res.calcPValue(1.96)"
   ]
  },
  {
   "cell_type": "markdown",
   "metadata": {},
   "source": [
    "# Compilation of results"
   ]
  },
  {
   "cell_type": "code",
   "execution_count": 26,
   "metadata": {},
   "outputs": [],
   "source": [
    "dict_of_results = {'Model A': readResults, 'Model B': the_pickle_file}"
   ]
  },
  {
   "cell_type": "code",
   "execution_count": 27,
   "metadata": {},
   "outputs": [],
   "source": [
    "df = res.compileEstimationResults(dict_of_results)"
   ]
  },
  {
   "cell_type": "code",
   "execution_count": 28,
   "metadata": {},
   "outputs": [
    {
     "data": {
      "text/html": [
       "<div>\n",
       "<style scoped>\n",
       "    .dataframe tbody tr th:only-of-type {\n",
       "        vertical-align: middle;\n",
       "    }\n",
       "\n",
       "    .dataframe tbody tr th {\n",
       "        vertical-align: top;\n",
       "    }\n",
       "\n",
       "    .dataframe thead th {\n",
       "        text-align: right;\n",
       "    }\n",
       "</style>\n",
       "<table border=\"1\" class=\"dataframe\">\n",
       "  <thead>\n",
       "    <tr style=\"text-align: right;\">\n",
       "      <th></th>\n",
       "      <th>Model A</th>\n",
       "      <th>Model B</th>\n",
       "    </tr>\n",
       "  </thead>\n",
       "  <tbody>\n",
       "    <tr>\n",
       "      <th>Number of estimated parameters</th>\n",
       "      <td>2.000000</td>\n",
       "      <td>2.000000</td>\n",
       "    </tr>\n",
       "    <tr>\n",
       "      <th>Sample size</th>\n",
       "      <td>5.000000</td>\n",
       "      <td>5.000000</td>\n",
       "    </tr>\n",
       "    <tr>\n",
       "      <th>Final log likelihood</th>\n",
       "      <td>-67.065490</td>\n",
       "      <td>-67.065490</td>\n",
       "    </tr>\n",
       "    <tr>\n",
       "      <th>Akaike Information Criterion</th>\n",
       "      <td>138.130981</td>\n",
       "      <td>138.130981</td>\n",
       "    </tr>\n",
       "    <tr>\n",
       "      <th>Bayesian Information Criterion</th>\n",
       "      <td>137.349857</td>\n",
       "      <td>137.349857</td>\n",
       "    </tr>\n",
       "    <tr>\n",
       "      <th>beta1</th>\n",
       "      <td>-1.273264</td>\n",
       "      <td>-1.273264</td>\n",
       "    </tr>\n",
       "    <tr>\n",
       "      <th>beta2</th>\n",
       "      <td>1.248770</td>\n",
       "      <td>1.248770</td>\n",
       "    </tr>\n",
       "  </tbody>\n",
       "</table>\n",
       "</div>"
      ],
      "text/plain": [
       "                                   Model A     Model B\n",
       "Number of estimated parameters    2.000000    2.000000\n",
       "Sample size                       5.000000    5.000000\n",
       "Final log likelihood            -67.065490  -67.065490\n",
       "Akaike Information Criterion    138.130981  138.130981\n",
       "Bayesian Information Criterion  137.349857  137.349857\n",
       "beta1                            -1.273264   -1.273264\n",
       "beta2                             1.248770    1.248770"
      ]
     },
     "execution_count": 28,
     "metadata": {},
     "output_type": "execute_result"
    }
   ],
   "source": [
    "df"
   ]
  },
  {
   "cell_type": "code",
   "execution_count": null,
   "metadata": {},
   "outputs": [],
   "source": []
  }
 ],
 "metadata": {
  "kernelspec": {
   "display_name": "Python 3 (ipykernel)",
   "language": "python",
   "name": "python3"
  },
  "language_info": {
   "codemirror_mode": {
    "name": "ipython",
    "version": 3
   },
   "file_extension": ".py",
   "mimetype": "text/x-python",
   "name": "python",
   "nbconvert_exporter": "python",
   "pygments_lexer": "ipython3",
   "version": "3.10.0"
  }
 },
 "nbformat": 4,
 "nbformat_minor": 2
}
