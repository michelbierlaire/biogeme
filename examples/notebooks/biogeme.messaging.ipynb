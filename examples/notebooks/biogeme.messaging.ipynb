{
 "cells": [
  {
   "cell_type": "markdown",
   "metadata": {},
   "source": [
    "# Module biogeme.messaging"
   ]
  },
  {
   "cell_type": "markdown",
   "metadata": {},
   "source": [
    "## Examples of use of each function"
   ]
  },
  {
   "cell_type": "markdown",
   "metadata": {},
   "source": [
    "This webpage is for programmers who need examples of use of the functions of the module. The examples are designed to illustrate the syntax. They do not correspond to any meaningful model. For examples of models, visit  [biogeme.epfl.ch](http://biogeme.epfl.ch)."
   ]
  },
  {
   "cell_type": "code",
   "execution_count": 1,
   "metadata": {},
   "outputs": [
    {
     "name": "stdout",
     "output_type": "stream",
     "text": [
      "2021-10-26 16:03:12.890354\n"
     ]
    }
   ],
   "source": [
    "import datetime\n",
    "print(datetime.datetime.now())"
   ]
  },
  {
   "cell_type": "code",
   "execution_count": 2,
   "metadata": {},
   "outputs": [
    {
     "name": "stdout",
     "output_type": "stream",
     "text": [
      "biogeme 3.2.9a [2021-10-26]\n",
      "Version entirely written in Python\n",
      "Home page: http://biogeme.epfl.ch\n",
      "Submit questions to https://groups.google.com/d/forum/biogeme\n",
      "Michel Bierlaire, Transport and Mobility Laboratory, Ecole Polytechnique Fédérale de Lausanne (EPFL)\n",
      "\n"
     ]
    }
   ],
   "source": [
    "import biogeme.version as ver\n",
    "print(ver.getText())"
   ]
  },
  {
   "cell_type": "code",
   "execution_count": 3,
   "metadata": {},
   "outputs": [],
   "source": [
    "import biogeme.messaging as msg"
   ]
  },
  {
   "cell_type": "code",
   "execution_count": 4,
   "metadata": {},
   "outputs": [],
   "source": [
    "logger = msg.bioMessage()"
   ]
  },
  {
   "cell_type": "markdown",
   "metadata": {},
   "source": [
    "We consider 5 levels of reporting:\n",
    "           - 0: no output (silent, default for screen)\n",
    "           - 1: warnings only\n",
    "           - 2: only warnings and general information\n",
    "           - 3: more verbose (default for file)\n",
    "           - 4: debug messages"
   ]
  },
  {
   "cell_type": "markdown",
   "metadata": {},
   "source": [
    "By default, the logger is silent on the screen. No message is displayed."
   ]
  },
  {
   "cell_type": "code",
   "execution_count": 5,
   "metadata": {},
   "outputs": [],
   "source": [
    "logger.addMessage(\"A test\", 1)"
   ]
  },
  {
   "cell_type": "markdown",
   "metadata": {},
   "source": [
    "Here we ask to display all messages of level 3 or lower. "
   ]
  },
  {
   "cell_type": "code",
   "execution_count": 6,
   "metadata": {},
   "outputs": [],
   "source": [
    "logger.setScreenLevel(3)"
   ]
  },
  {
   "cell_type": "markdown",
   "metadata": {},
   "source": [
    "Equivalent, the following function can be used."
   ]
  },
  {
   "cell_type": "code",
   "execution_count": 7,
   "metadata": {},
   "outputs": [],
   "source": [
    "logger.setDetailed()"
   ]
  },
  {
   "cell_type": "markdown",
   "metadata": {},
   "source": [
    "Writing a message of a given level"
   ]
  },
  {
   "cell_type": "code",
   "execution_count": 8,
   "metadata": {},
   "outputs": [
    {
     "name": "stdout",
     "output_type": "stream",
     "text": [
      "[16:03:12] < Warning >   A test\n"
     ]
    }
   ],
   "source": [
    "logger.addMessage(\"A test\", 1)"
   ]
  },
  {
   "cell_type": "markdown",
   "metadata": {},
   "source": [
    "The following statements are easier to use. "
   ]
  },
  {
   "cell_type": "code",
   "execution_count": 9,
   "metadata": {},
   "outputs": [
    {
     "name": "stdout",
     "output_type": "stream",
     "text": [
      "[16:03:12] < General >   A general message\n"
     ]
    }
   ],
   "source": [
    "logger.general(\"A general message\")"
   ]
  },
  {
   "cell_type": "code",
   "execution_count": 10,
   "metadata": {},
   "outputs": [
    {
     "name": "stdout",
     "output_type": "stream",
     "text": [
      "[16:03:12] < Warning >   A warning message\n"
     ]
    }
   ],
   "source": [
    "logger.warning(\"A warning message\")"
   ]
  },
  {
   "cell_type": "code",
   "execution_count": 11,
   "metadata": {},
   "outputs": [
    {
     "name": "stdout",
     "output_type": "stream",
     "text": [
      "[16:03:12] < Detailed >  A detailed message\n"
     ]
    }
   ],
   "source": [
    "logger.detailed(\"A detailed message\")"
   ]
  },
  {
   "cell_type": "code",
   "execution_count": 12,
   "metadata": {},
   "outputs": [],
   "source": [
    "logger.debug(\"A debug message\")"
   ]
  },
  {
   "cell_type": "markdown",
   "metadata": {},
   "source": [
    "All messages can be reported."
   ]
  },
  {
   "cell_type": "code",
   "execution_count": 13,
   "metadata": {},
   "outputs": [
    {
     "name": "stdout",
     "output_type": "stream",
     "text": [
      "*** Messages from biogeme 3.2.9a [2021-10-26]\n",
      "[16:03:12] < Warning >   A test\n",
      "[16:03:12] < Warning >   A test\n",
      "[16:03:12] < General >   A general message\n",
      "[16:03:12] < Warning >   A warning message\n",
      "[16:03:12] < Detailed >  A detailed message\n",
      "[16:03:12] < Debug >     A debug message\n",
      "\n"
     ]
    }
   ],
   "source": [
    "print(logger.allMessages())"
   ]
  },
  {
   "cell_type": "markdown",
   "metadata": {},
   "source": [
    "Or dumped in a log file can be created"
   ]
  },
  {
   "cell_type": "code",
   "execution_count": 14,
   "metadata": {},
   "outputs": [
    {
     "name": "stdout",
     "output_type": "stream",
     "text": [
      "[16:03:12] < General >   Log file created: _test.log\n"
     ]
    }
   ],
   "source": [
    "theFile = logger.createLog(fileName=\"_test\")"
   ]
  },
  {
   "cell_type": "code",
   "execution_count": 15,
   "metadata": {},
   "outputs": [
    {
     "name": "stdout",
     "output_type": "stream",
     "text": [
      "*** File created 2021-10-26 16:03:12.945493 ***\n",
      "*** Log file from biogeme 3.2.9a [2021-10-26]\n",
      "[16:03:12] < Warning >   A test\n",
      "[16:03:12] < Warning >   A test\n",
      "[16:03:12] < General >   A general message\n",
      "[16:03:12] < Warning >   A warning message\n",
      "[16:03:12] < Detailed >  A detailed message\n",
      "[16:03:12] < Debug >     A debug message\n",
      "[16:03:12] < General >   Log file created: _test.log\n",
      "\n"
     ]
    }
   ],
   "source": [
    "with open(theFile) as f:\n",
    "    print(f.read())"
   ]
  },
  {
   "cell_type": "markdown",
   "metadata": {},
   "source": [
    "The messages can be filtered by level."
   ]
  },
  {
   "cell_type": "code",
   "execution_count": 16,
   "metadata": {},
   "outputs": [
    {
     "name": "stdout",
     "output_type": "stream",
     "text": [
      "*** Messages from biogeme 3.2.9a [2021-10-26]\n",
      "[16:03:12] < Warning >   A test\n",
      "[16:03:12] < Warning >   A test\n",
      "[16:03:12] < General >   A general message\n",
      "[16:03:12] < Warning >   A warning message\n",
      "[16:03:12] < General >   Log file created: _test.log\n",
      "\n"
     ]
    }
   ],
   "source": [
    "print(logger.allMessages(screenLevel=2))"
   ]
  },
  {
   "cell_type": "markdown",
   "metadata": {},
   "source": [
    "Same for the log file. "
   ]
  },
  {
   "cell_type": "code",
   "execution_count": 17,
   "metadata": {},
   "outputs": [
    {
     "name": "stdout",
     "output_type": "stream",
     "text": [
      "[16:03:12] < General >   Log file created: _test~00.log\n"
     ]
    }
   ],
   "source": [
    "theFile = logger.createLog(fileLevel=2, fileName=\"_test\")"
   ]
  },
  {
   "cell_type": "code",
   "execution_count": 18,
   "metadata": {},
   "outputs": [
    {
     "name": "stdout",
     "output_type": "stream",
     "text": [
      "*** File created 2021-10-26 16:03:12.957354 ***\n",
      "*** Log file from biogeme 3.2.9a [2021-10-26]\n",
      "[16:03:12] < Warning >   A test\n",
      "[16:03:12] < Warning >   A test\n",
      "[16:03:12] < General >   A general message\n",
      "[16:03:12] < Warning >   A warning message\n",
      "[16:03:12] < General >   Log file created: _test.log\n",
      "[16:03:12] < General >   Log file created: _test~00.log\n",
      "\n"
     ]
    }
   ],
   "source": [
    "with open(theFile) as f:\n",
    "    print(f.read())"
   ]
  },
  {
   "cell_type": "markdown",
   "metadata": {},
   "source": [
    "The list of messages can be erased."
   ]
  },
  {
   "cell_type": "code",
   "execution_count": 19,
   "metadata": {},
   "outputs": [
    {
     "name": "stdout",
     "output_type": "stream",
     "text": [
      "*** Messages from biogeme 3.2.9a [2021-10-26]\n",
      "\n"
     ]
    }
   ],
   "source": [
    "logger.resetMessages()\n",
    "print(logger.allMessages())"
   ]
  }
 ],
 "metadata": {
  "kernelspec": {
   "display_name": "Python 3",
   "language": "python",
   "name": "python3"
  },
  "language_info": {
   "codemirror_mode": {
    "name": "ipython",
    "version": 3
   },
   "file_extension": ".py",
   "mimetype": "text/x-python",
   "name": "python",
   "nbconvert_exporter": "python",
   "pygments_lexer": "ipython3",
   "version": "3.9.5"
  }
 },
 "nbformat": 4,
 "nbformat_minor": 2
}
