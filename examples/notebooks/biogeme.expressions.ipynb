{
 "cells": [
  {
   "cell_type": "markdown",
   "metadata": {},
   "source": [
    "# Module biogeme.expressions "
   ]
  },
  {
   "cell_type": "markdown",
   "metadata": {},
   "source": [
    "## Examples of use of each function"
   ]
  },
  {
   "cell_type": "markdown",
   "metadata": {},
   "source": [
    "This webpage is for programmers who need examples of use of the functions of the module. The examples are designed to illustrate the syntax. They do not correspond to any meaningful model. For examples of models, visit  [biogeme.epfl.ch](http://biogeme.epfl.ch)."
   ]
  },
  {
   "cell_type": "code",
   "execution_count": 1,
   "metadata": {},
   "outputs": [
    {
     "name": "stdout",
     "output_type": "stream",
     "text": [
      "2022-08-17 15:08:06.479661\n"
     ]
    }
   ],
   "source": [
    "import datetime\n",
    "print(datetime.datetime.now())"
   ]
  },
  {
   "cell_type": "code",
   "execution_count": 2,
   "metadata": {},
   "outputs": [
    {
     "name": "stdout",
     "output_type": "stream",
     "text": [
      "biogeme 3.2.9 [2022-08-17]\n",
      "Version entirely written in Python\n",
      "Home page: http://biogeme.epfl.ch\n",
      "Submit questions to https://groups.google.com/d/forum/biogeme\n",
      "Michel Bierlaire, Transport and Mobility Laboratory, Ecole Polytechnique Fédérale de Lausanne (EPFL)\n",
      "\n"
     ]
    }
   ],
   "source": [
    "import biogeme.version as ver\n",
    "print(ver.getText())"
   ]
  },
  {
   "cell_type": "code",
   "execution_count": 3,
   "metadata": {},
   "outputs": [],
   "source": [
    "import numpy as np\n",
    "import pandas as pd"
   ]
  },
  {
   "cell_type": "code",
   "execution_count": 4,
   "metadata": {},
   "outputs": [],
   "source": [
    "import biogeme.expressions as ex\n",
    "import biogeme.database as db\n",
    "import biogeme.exceptions as excep\n",
    "import biogeme.models as models\n",
    "from biogeme import tools\n",
    "from biogeme.idmanager import IdManager\n",
    "import biogeme.messaging as msg"
   ]
  },
  {
   "cell_type": "code",
   "execution_count": 5,
   "metadata": {},
   "outputs": [],
   "source": [
    "logger = msg.bioMessage()\n",
    "logger.setDebug()"
   ]
  },
  {
   "cell_type": "markdown",
   "metadata": {},
   "source": [
    "We set the number of draws for Monte-Carlo integration. It should be a large number. For the sake of computational efficiency, as this notebook is designed to illustrate the various function, we use a  low value. "
   ]
  },
  {
   "cell_type": "code",
   "execution_count": 6,
   "metadata": {},
   "outputs": [],
   "source": [
    "number_of_draws = 100"
   ]
  },
  {
   "cell_type": "markdown",
   "metadata": {},
   "source": [
    "We first create a small database"
   ]
  },
  {
   "cell_type": "code",
   "execution_count": 7,
   "metadata": {},
   "outputs": [
    {
     "data": {
      "text/html": [
       "<div>\n",
       "<style scoped>\n",
       "    .dataframe tbody tr th:only-of-type {\n",
       "        vertical-align: middle;\n",
       "    }\n",
       "\n",
       "    .dataframe tbody tr th {\n",
       "        vertical-align: top;\n",
       "    }\n",
       "\n",
       "    .dataframe thead th {\n",
       "        text-align: right;\n",
       "    }\n",
       "</style>\n",
       "<table border=\"1\" class=\"dataframe\">\n",
       "  <thead>\n",
       "    <tr style=\"text-align: right;\">\n",
       "      <th></th>\n",
       "      <th>Person</th>\n",
       "      <th>Exclude</th>\n",
       "      <th>Variable1</th>\n",
       "      <th>Variable2</th>\n",
       "      <th>Choice</th>\n",
       "      <th>Av1</th>\n",
       "      <th>Av2</th>\n",
       "      <th>Av3</th>\n",
       "    </tr>\n",
       "  </thead>\n",
       "  <tbody>\n",
       "    <tr>\n",
       "      <th>0</th>\n",
       "      <td>1</td>\n",
       "      <td>0</td>\n",
       "      <td>10</td>\n",
       "      <td>100</td>\n",
       "      <td>2</td>\n",
       "      <td>0</td>\n",
       "      <td>1</td>\n",
       "      <td>0</td>\n",
       "    </tr>\n",
       "    <tr>\n",
       "      <th>1</th>\n",
       "      <td>1</td>\n",
       "      <td>0</td>\n",
       "      <td>20</td>\n",
       "      <td>200</td>\n",
       "      <td>2</td>\n",
       "      <td>1</td>\n",
       "      <td>1</td>\n",
       "      <td>1</td>\n",
       "    </tr>\n",
       "    <tr>\n",
       "      <th>2</th>\n",
       "      <td>1</td>\n",
       "      <td>1</td>\n",
       "      <td>30</td>\n",
       "      <td>300</td>\n",
       "      <td>3</td>\n",
       "      <td>1</td>\n",
       "      <td>1</td>\n",
       "      <td>1</td>\n",
       "    </tr>\n",
       "    <tr>\n",
       "      <th>3</th>\n",
       "      <td>2</td>\n",
       "      <td>0</td>\n",
       "      <td>40</td>\n",
       "      <td>400</td>\n",
       "      <td>1</td>\n",
       "      <td>1</td>\n",
       "      <td>1</td>\n",
       "      <td>1</td>\n",
       "    </tr>\n",
       "    <tr>\n",
       "      <th>4</th>\n",
       "      <td>2</td>\n",
       "      <td>1</td>\n",
       "      <td>50</td>\n",
       "      <td>500</td>\n",
       "      <td>2</td>\n",
       "      <td>1</td>\n",
       "      <td>1</td>\n",
       "      <td>1</td>\n",
       "    </tr>\n",
       "  </tbody>\n",
       "</table>\n",
       "</div>"
      ],
      "text/plain": [
       "   Person  Exclude  Variable1  Variable2  Choice  Av1  Av2  Av3\n",
       "0       1        0         10        100       2    0    1    0\n",
       "1       1        0         20        200       2    1    1    1\n",
       "2       1        1         30        300       3    1    1    1\n",
       "3       2        0         40        400       1    1    1    1\n",
       "4       2        1         50        500       2    1    1    1"
      ]
     },
     "execution_count": 7,
     "metadata": {},
     "output_type": "execute_result"
    }
   ],
   "source": [
    "df = pd.DataFrame({'Person': [1, 1, 1, 2, 2],\n",
    "                   'Exclude': [0, 0, 1, 0, 1],\n",
    "                   'Variable1': [10, 20, 30, 40, 50],\n",
    "                   'Variable2': [100, 200, 300, 400, 500],\n",
    "                   'Choice': [2, 2, 3, 1, 2],\n",
    "                   'Av1': [0, 1, 1, 1, 1],\n",
    "                   'Av2': [1, 1, 1, 1, 1],\n",
    "                   'Av3': [0, 1, 1, 1, 1]})\n",
    "df"
   ]
  },
  {
   "cell_type": "code",
   "execution_count": 8,
   "metadata": {},
   "outputs": [],
   "source": [
    "myData = db.Database('test', df)"
   ]
  },
  {
   "cell_type": "markdown",
   "metadata": {},
   "source": [
    "The following type of expression is a literal called Variable that corresponds to an entry in the database."
   ]
  },
  {
   "cell_type": "code",
   "execution_count": 9,
   "metadata": {},
   "outputs": [],
   "source": [
    "Person = ex.Variable('Person')\n",
    "Variable1 = ex.Variable('Variable1')\n",
    "Variable2 = ex.Variable('Variable2')\n",
    "Choice = ex.Variable('Choice')\n",
    "Av1 = ex.Variable('Av1')\n",
    "Av2 = ex.Variable('Av2')\n",
    "Av3 = ex.Variable('Av3')"
   ]
  },
  {
   "cell_type": "markdown",
   "metadata": {},
   "source": [
    "It is possible to add a new column to the database, that creates a new variable that can be used in expressions."
   ]
  },
  {
   "cell_type": "code",
   "execution_count": 10,
   "metadata": {},
   "outputs": [
    {
     "name": "stdout",
     "output_type": "stream",
     "text": [
      "biogeme database test:\n",
      "   Person  Exclude  Variable1  Variable2  Choice  Av1  Av2  Av3  newvar_b\n",
      "0       1        0         10        100       2    0    1    0     110.0\n",
      "1       1        0         20        200       2    1    1    1     220.0\n",
      "2       1        1         30        300       3    1    1    1     330.0\n",
      "3       2        0         40        400       1    1    1    1     440.0\n",
      "4       2        1         50        500       2    1    1    1     550.0\n"
     ]
    }
   ],
   "source": [
    "newvar_b = myData.DefineVariable('newvar_b',\n",
    "                           Variable1 + Variable2)\n",
    "print(myData)"
   ]
  },
  {
   "cell_type": "markdown",
   "metadata": {},
   "source": [
    "It is equivalent to the following Pandas statement"
   ]
  },
  {
   "cell_type": "code",
   "execution_count": 11,
   "metadata": {},
   "outputs": [
    {
     "data": {
      "text/html": [
       "<div>\n",
       "<style scoped>\n",
       "    .dataframe tbody tr th:only-of-type {\n",
       "        vertical-align: middle;\n",
       "    }\n",
       "\n",
       "    .dataframe tbody tr th {\n",
       "        vertical-align: top;\n",
       "    }\n",
       "\n",
       "    .dataframe thead th {\n",
       "        text-align: right;\n",
       "    }\n",
       "</style>\n",
       "<table border=\"1\" class=\"dataframe\">\n",
       "  <thead>\n",
       "    <tr style=\"text-align: right;\">\n",
       "      <th></th>\n",
       "      <th>Person</th>\n",
       "      <th>Exclude</th>\n",
       "      <th>Variable1</th>\n",
       "      <th>Variable2</th>\n",
       "      <th>Choice</th>\n",
       "      <th>Av1</th>\n",
       "      <th>Av2</th>\n",
       "      <th>Av3</th>\n",
       "      <th>newvar_b</th>\n",
       "      <th>newvar_p</th>\n",
       "    </tr>\n",
       "  </thead>\n",
       "  <tbody>\n",
       "    <tr>\n",
       "      <th>0</th>\n",
       "      <td>1</td>\n",
       "      <td>0</td>\n",
       "      <td>10</td>\n",
       "      <td>100</td>\n",
       "      <td>2</td>\n",
       "      <td>0</td>\n",
       "      <td>1</td>\n",
       "      <td>0</td>\n",
       "      <td>110.0</td>\n",
       "      <td>110</td>\n",
       "    </tr>\n",
       "    <tr>\n",
       "      <th>1</th>\n",
       "      <td>1</td>\n",
       "      <td>0</td>\n",
       "      <td>20</td>\n",
       "      <td>200</td>\n",
       "      <td>2</td>\n",
       "      <td>1</td>\n",
       "      <td>1</td>\n",
       "      <td>1</td>\n",
       "      <td>220.0</td>\n",
       "      <td>220</td>\n",
       "    </tr>\n",
       "    <tr>\n",
       "      <th>2</th>\n",
       "      <td>1</td>\n",
       "      <td>1</td>\n",
       "      <td>30</td>\n",
       "      <td>300</td>\n",
       "      <td>3</td>\n",
       "      <td>1</td>\n",
       "      <td>1</td>\n",
       "      <td>1</td>\n",
       "      <td>330.0</td>\n",
       "      <td>330</td>\n",
       "    </tr>\n",
       "    <tr>\n",
       "      <th>3</th>\n",
       "      <td>2</td>\n",
       "      <td>0</td>\n",
       "      <td>40</td>\n",
       "      <td>400</td>\n",
       "      <td>1</td>\n",
       "      <td>1</td>\n",
       "      <td>1</td>\n",
       "      <td>1</td>\n",
       "      <td>440.0</td>\n",
       "      <td>440</td>\n",
       "    </tr>\n",
       "    <tr>\n",
       "      <th>4</th>\n",
       "      <td>2</td>\n",
       "      <td>1</td>\n",
       "      <td>50</td>\n",
       "      <td>500</td>\n",
       "      <td>2</td>\n",
       "      <td>1</td>\n",
       "      <td>1</td>\n",
       "      <td>1</td>\n",
       "      <td>550.0</td>\n",
       "      <td>550</td>\n",
       "    </tr>\n",
       "  </tbody>\n",
       "</table>\n",
       "</div>"
      ],
      "text/plain": [
       "   Person  Exclude  Variable1  Variable2  Choice  Av1  Av2  Av3  newvar_b  \\\n",
       "0       1        0         10        100       2    0    1    0     110.0   \n",
       "1       1        0         20        200       2    1    1    1     220.0   \n",
       "2       1        1         30        300       3    1    1    1     330.0   \n",
       "3       2        0         40        400       1    1    1    1     440.0   \n",
       "4       2        1         50        500       2    1    1    1     550.0   \n",
       "\n",
       "   newvar_p  \n",
       "0       110  \n",
       "1       220  \n",
       "2       330  \n",
       "3       440  \n",
       "4       550  "
      ]
     },
     "execution_count": 11,
     "metadata": {},
     "output_type": "execute_result"
    }
   ],
   "source": [
    "myData.data['newvar_p'] = myData.data['Variable1'] + myData.data['Variable2']\n",
    "myData.data"
   ]
  },
  {
   "cell_type": "markdown",
   "metadata": {},
   "source": [
    "**Do not use chaining comparison expressions with Biogeme. Not only it does not provide the expected expression, but it does not trigger a warning or an exception.**"
   ]
  },
  {
   "cell_type": "code",
   "execution_count": 12,
   "metadata": {},
   "outputs": [
    {
     "name": "stdout",
     "output_type": "stream",
     "text": [
      "(Variable2 <= `400.0`)\n"
     ]
    }
   ],
   "source": [
    "my_expression = (200 <= Variable2 <= 400)\n",
    "print(my_expression)"
   ]
  },
  {
   "cell_type": "markdown",
   "metadata": {},
   "source": [
    "The reason is that Python executes `200 <= Variable2 <= 400` as `(200 <= Variable2) and (Variable2 <= 400)`. The `and` operator cannot be overloaded in Python. Therefore, it does not return a Biogeme expression. Note that Pandas does not allow chaining either, and has implemented a `between` function instead. "
   ]
  },
  {
   "cell_type": "code",
   "execution_count": 13,
   "metadata": {},
   "outputs": [],
   "source": [
    "myData.data['chaining_p'] = myData.data['Variable2'].between(200, 400)"
   ]
  },
  {
   "cell_type": "code",
   "execution_count": 14,
   "metadata": {},
   "outputs": [
    {
     "data": {
      "text/html": [
       "<div>\n",
       "<style scoped>\n",
       "    .dataframe tbody tr th:only-of-type {\n",
       "        vertical-align: middle;\n",
       "    }\n",
       "\n",
       "    .dataframe tbody tr th {\n",
       "        vertical-align: top;\n",
       "    }\n",
       "\n",
       "    .dataframe thead th {\n",
       "        text-align: right;\n",
       "    }\n",
       "</style>\n",
       "<table border=\"1\" class=\"dataframe\">\n",
       "  <thead>\n",
       "    <tr style=\"text-align: right;\">\n",
       "      <th></th>\n",
       "      <th>Person</th>\n",
       "      <th>Exclude</th>\n",
       "      <th>Variable1</th>\n",
       "      <th>Variable2</th>\n",
       "      <th>Choice</th>\n",
       "      <th>Av1</th>\n",
       "      <th>Av2</th>\n",
       "      <th>Av3</th>\n",
       "      <th>newvar_b</th>\n",
       "      <th>newvar_p</th>\n",
       "      <th>chaining_p</th>\n",
       "    </tr>\n",
       "  </thead>\n",
       "  <tbody>\n",
       "    <tr>\n",
       "      <th>0</th>\n",
       "      <td>1</td>\n",
       "      <td>0</td>\n",
       "      <td>10</td>\n",
       "      <td>100</td>\n",
       "      <td>2</td>\n",
       "      <td>0</td>\n",
       "      <td>1</td>\n",
       "      <td>0</td>\n",
       "      <td>110.0</td>\n",
       "      <td>110</td>\n",
       "      <td>False</td>\n",
       "    </tr>\n",
       "    <tr>\n",
       "      <th>1</th>\n",
       "      <td>1</td>\n",
       "      <td>0</td>\n",
       "      <td>20</td>\n",
       "      <td>200</td>\n",
       "      <td>2</td>\n",
       "      <td>1</td>\n",
       "      <td>1</td>\n",
       "      <td>1</td>\n",
       "      <td>220.0</td>\n",
       "      <td>220</td>\n",
       "      <td>True</td>\n",
       "    </tr>\n",
       "    <tr>\n",
       "      <th>2</th>\n",
       "      <td>1</td>\n",
       "      <td>1</td>\n",
       "      <td>30</td>\n",
       "      <td>300</td>\n",
       "      <td>3</td>\n",
       "      <td>1</td>\n",
       "      <td>1</td>\n",
       "      <td>1</td>\n",
       "      <td>330.0</td>\n",
       "      <td>330</td>\n",
       "      <td>True</td>\n",
       "    </tr>\n",
       "    <tr>\n",
       "      <th>3</th>\n",
       "      <td>2</td>\n",
       "      <td>0</td>\n",
       "      <td>40</td>\n",
       "      <td>400</td>\n",
       "      <td>1</td>\n",
       "      <td>1</td>\n",
       "      <td>1</td>\n",
       "      <td>1</td>\n",
       "      <td>440.0</td>\n",
       "      <td>440</td>\n",
       "      <td>True</td>\n",
       "    </tr>\n",
       "    <tr>\n",
       "      <th>4</th>\n",
       "      <td>2</td>\n",
       "      <td>1</td>\n",
       "      <td>50</td>\n",
       "      <td>500</td>\n",
       "      <td>2</td>\n",
       "      <td>1</td>\n",
       "      <td>1</td>\n",
       "      <td>1</td>\n",
       "      <td>550.0</td>\n",
       "      <td>550</td>\n",
       "      <td>False</td>\n",
       "    </tr>\n",
       "  </tbody>\n",
       "</table>\n",
       "</div>"
      ],
      "text/plain": [
       "   Person  Exclude  Variable1  Variable2  Choice  Av1  Av2  Av3  newvar_b  \\\n",
       "0       1        0         10        100       2    0    1    0     110.0   \n",
       "1       1        0         20        200       2    1    1    1     220.0   \n",
       "2       1        1         30        300       3    1    1    1     330.0   \n",
       "3       2        0         40        400       1    1    1    1     440.0   \n",
       "4       2        1         50        500       2    1    1    1     550.0   \n",
       "\n",
       "   newvar_p  chaining_p  \n",
       "0       110       False  \n",
       "1       220        True  \n",
       "2       330        True  \n",
       "3       440        True  \n",
       "4       550       False  "
      ]
     },
     "execution_count": 14,
     "metadata": {},
     "output_type": "execute_result"
    }
   ],
   "source": [
    "myData.data"
   ]
  },
  {
   "cell_type": "markdown",
   "metadata": {},
   "source": [
    "The following type of expression is another literal, corresponding to an unknown parameter. "
   ]
  },
  {
   "cell_type": "code",
   "execution_count": 15,
   "metadata": {},
   "outputs": [],
   "source": [
    "beta1 = ex.Beta('beta1', 0.2, None, None, 0)\n",
    "beta2 = ex.Beta('beta2', 0.4, None, None, 0)\n",
    "beta3 = ex.Beta('beta3', 1, None, None, 1)\n",
    "beta4 = ex.Beta('beta4', 0, None, None, 1)"
   ]
  },
  {
   "cell_type": "markdown",
   "metadata": {},
   "source": [
    "Arithmetic operators are overloaded to allow standard manipulations of expressions. The first expression is $$e_1 = 2  \\beta_1 - \\frac{\\exp(-\\beta_2)}{\\beta_2 (\\beta_3 \\geq \\beta_4) + \\beta_1 (\\beta_3 < \\beta_4)},$$\n",
    "where $(\\beta_2 \\geq \\beta_1)$ equals 1 if $\\beta_2 \\geq \\beta_1$ and 0 otherwise."
   ]
  },
  {
   "cell_type": "code",
   "execution_count": 16,
   "metadata": {},
   "outputs": [
    {
     "name": "stdout",
     "output_type": "stream",
     "text": [
      "((`2.0` * beta1(init=0.2)) - (exp((-beta2(init=0.4))) / ((beta2(init=0.4) * (beta3(fixed=1) >= beta4(fixed=0))) + (beta1(init=0.2) * (beta3(fixed=1) < beta4(fixed=0))))))\n"
     ]
    }
   ],
   "source": [
    "expr1 = 2 * beta1 - ex.exp(-beta2) / (beta2 * (beta3 >= beta4) + beta1 * (beta3 < beta4))\n",
    "print(expr1)"
   ]
  },
  {
   "cell_type": "markdown",
   "metadata": {},
   "source": [
    "The evaluation of expressions can be done in two ways. For simple expressions, the fonction getValue(), implemented in Python, returns the value of the expression.  "
   ]
  },
  {
   "cell_type": "code",
   "execution_count": 17,
   "metadata": {},
   "outputs": [
    {
     "data": {
      "text/plain": [
       "-1.275800115089098"
      ]
     },
     "execution_count": 17,
     "metadata": {},
     "output_type": "execute_result"
    }
   ],
   "source": [
    "expr1.getValue()"
   ]
  },
  {
   "cell_type": "markdown",
   "metadata": {},
   "source": [
    "It is possible to modify the values of the parameters"
   ]
  },
  {
   "cell_type": "code",
   "execution_count": 18,
   "metadata": {},
   "outputs": [
    {
     "data": {
      "text/plain": [
       "1.9323323583816936"
      ]
     },
     "execution_count": 18,
     "metadata": {},
     "output_type": "execute_result"
    }
   ],
   "source": [
    "newvalues = {'beta1': 1, 'beta2': 2, 'beta3': 3, 'beta4': 2}\n",
    "expr1.changeInitValues(newvalues)\n",
    "expr1.getValue()"
   ]
  },
  {
   "cell_type": "markdown",
   "metadata": {},
   "source": [
    "The function getValue_c() is implemented in C++, and works for any expression. When use outside a specific context, the IDs must be explicitly prepared. "
   ]
  },
  {
   "cell_type": "code",
   "execution_count": 19,
   "metadata": {},
   "outputs": [
    {
     "data": {
      "text/plain": [
       "1.9323323583816936"
      ]
     },
     "execution_count": 19,
     "metadata": {},
     "output_type": "execute_result"
    }
   ],
   "source": [
    "expr1.getValue_c(prepareIds=True)"
   ]
  },
  {
   "cell_type": "markdown",
   "metadata": {},
   "source": [
    "It actually calls the function getValueAndDerivates(), and returns its first output (without calculating the derivatives)."
   ]
  },
  {
   "cell_type": "code",
   "execution_count": 20,
   "metadata": {},
   "outputs": [],
   "source": [
    "f, g, h, bhhh = expr1.getValueAndDerivatives(prepareIds=True)"
   ]
  },
  {
   "cell_type": "code",
   "execution_count": 21,
   "metadata": {},
   "outputs": [
    {
     "data": {
      "text/plain": [
       "1.9323323583816936"
      ]
     },
     "execution_count": 21,
     "metadata": {},
     "output_type": "execute_result"
    }
   ],
   "source": [
    "f"
   ]
  },
  {
   "cell_type": "code",
   "execution_count": 22,
   "metadata": {},
   "outputs": [
    {
     "data": {
      "text/plain": [
       "array([2.        , 0.10150146])"
      ]
     },
     "execution_count": 22,
     "metadata": {},
     "output_type": "execute_result"
    }
   ],
   "source": [
    "g"
   ]
  },
  {
   "cell_type": "code",
   "execution_count": 23,
   "metadata": {},
   "outputs": [
    {
     "data": {
      "text/plain": [
       "array([[ 0.       ,  0.       ],\n",
       "       [ 0.       , -0.1691691]])"
      ]
     },
     "execution_count": 23,
     "metadata": {},
     "output_type": "execute_result"
    }
   ],
   "source": [
    "h"
   ]
  },
  {
   "cell_type": "code",
   "execution_count": 24,
   "metadata": {},
   "outputs": [
    {
     "data": {
      "text/plain": [
       "array([[4.        , 0.20300292],\n",
       "       [0.20300292, 0.01030255]])"
      ]
     },
     "execution_count": 24,
     "metadata": {},
     "output_type": "execute_result"
    }
   ],
   "source": [
    "bhhh"
   ]
  },
  {
   "cell_type": "markdown",
   "metadata": {},
   "source": [
    "Note that the BHHH matrix is the outer product of the gradient with itself."
   ]
  },
  {
   "cell_type": "code",
   "execution_count": 25,
   "metadata": {},
   "outputs": [
    {
     "data": {
      "text/plain": [
       "array([[4.        , 0.20300292],\n",
       "       [0.20300292, 0.01030255]])"
      ]
     },
     "execution_count": 25,
     "metadata": {},
     "output_type": "execute_result"
    }
   ],
   "source": [
    "np.outer(g, g)"
   ]
  },
  {
   "cell_type": "markdown",
   "metadata": {},
   "source": [
    "If the derivatives are not needed, their calculation can be skipped. Here, we calculate the gradient, but not the hessian."
   ]
  },
  {
   "cell_type": "code",
   "execution_count": 26,
   "metadata": {},
   "outputs": [
    {
     "data": {
      "text/plain": [
       "(1.9323323583816936, array([2.        , 0.10150146]), None, None)"
      ]
     },
     "execution_count": 26,
     "metadata": {},
     "output_type": "execute_result"
    }
   ],
   "source": [
    "expr1.getValueAndDerivatives(gradient=True, hessian=False, bhhh=False, prepareIds=True)"
   ]
  },
  {
   "cell_type": "markdown",
   "metadata": {},
   "source": [
    "It can also generate a function that takes the value of the parameters as argument, and provides a tuple with the value of the expression and its derivatives. By default, it returns the value of the function, its gradient and its hessian."
   ]
  },
  {
   "cell_type": "code",
   "execution_count": 27,
   "metadata": {},
   "outputs": [],
   "source": [
    "the_function = expr1.createFunction()"
   ]
  },
  {
   "cell_type": "markdown",
   "metadata": {},
   "source": [
    "We evaluate it at one point..."
   ]
  },
  {
   "cell_type": "code",
   "execution_count": 28,
   "metadata": {},
   "outputs": [
    {
     "data": {
      "text/plain": [
       "(1.9323323583816936,\n",
       " array([2.        , 0.10150146]),\n",
       " array([[ 0.       ,  0.       ],\n",
       "        [ 0.       , -0.1691691]]))"
      ]
     },
     "execution_count": 28,
     "metadata": {},
     "output_type": "execute_result"
    }
   ],
   "source": [
    "the_function([1, 2])"
   ]
  },
  {
   "cell_type": "markdown",
   "metadata": {},
   "source": [
    "... and at another point."
   ]
  },
  {
   "cell_type": "code",
   "execution_count": 29,
   "metadata": {},
   "outputs": [
    {
     "data": {
      "text/plain": [
       "(23.694528049465326,\n",
       " array([ 2.        , -1.84726402]),\n",
       " array([[0.        , 0.        ],\n",
       "        [0.        , 1.84726402]]))"
      ]
     },
     "execution_count": 29,
     "metadata": {},
     "output_type": "execute_result"
    }
   ],
   "source": [
    "the_function([10, -2])"
   ]
  },
  {
   "cell_type": "markdown",
   "metadata": {},
   "source": [
    "We can use it to check the derivatives"
   ]
  },
  {
   "cell_type": "code",
   "execution_count": 30,
   "metadata": {},
   "outputs": [
    {
     "name": "stdout",
     "output_type": "stream",
     "text": [
      "[15:08:07] < Detailed >  x\t\tGradient\tFinDiff\t\tDifference\n",
      "[15:08:07] < Detailed >  x[0]           \t+2.000000E+00\t+2.000000E+00\t-1.167734E-09\n",
      "[15:08:07] < Detailed >  x[1]           \t+1.015015E-01\t+1.015014E-01\t+1.629049E-08\n",
      "[15:08:07] < Detailed >  Row\t\tCol\t\tHessian\tFinDiff\t\tDifference\n",
      "[15:08:07] < Detailed >  x[0]           \tx[0]           \t+0.000000E+00\t+0.000000E+00\t+0.000000E+00\n",
      "[15:08:07] < Detailed >  x[0]           \tx[1]           \t+0.000000E+00\t+0.000000E+00\t+0.000000E+00\n",
      "[15:08:07] < Detailed >  x[1]           \tx[0]           \t+0.000000E+00\t+0.000000E+00\t+0.000000E+00\n",
      "[15:08:07] < Detailed >  x[1]           \tx[1]           \t-1.691691E-01\t-1.691691E-01\t-3.203118E-08\n"
     ]
    },
    {
     "data": {
      "text/plain": [
       "(1.9323323583816936,\n",
       " array([2.        , 0.10150146]),\n",
       " array([[ 0.       ,  0.       ],\n",
       "        [ 0.       , -0.1691691]]),\n",
       " array([-1.16773435e-09,  1.62904950e-08]),\n",
       " array([[ 0.00000000e+00,  0.00000000e+00],\n",
       "        [ 0.00000000e+00, -3.20311803e-08]]))"
      ]
     },
     "execution_count": 30,
     "metadata": {},
     "output_type": "execute_result"
    }
   ],
   "source": [
    "logger = msg.bioMessage()\n",
    "logger.setDebug()\n",
    "tools.checkDerivatives(the_function, [1, 2], logg=True)"
   ]
  },
  {
   "cell_type": "markdown",
   "metadata": {},
   "source": [
    "But it is possible to also obtain the BHHH matrix."
   ]
  },
  {
   "cell_type": "code",
   "execution_count": 31,
   "metadata": {},
   "outputs": [
    {
     "data": {
      "text/plain": [
       "(1.9323323583816936,\n",
       " array([2.        , 0.10150146]),\n",
       " array([[ 0.       ,  0.       ],\n",
       "        [ 0.       , -0.1691691]]),\n",
       " array([[4.        , 0.20300292],\n",
       "        [0.20300292, 0.01030255]]))"
      ]
     },
     "execution_count": 31,
     "metadata": {},
     "output_type": "execute_result"
    }
   ],
   "source": [
    "the_function = expr1.createFunction(bhhh=True)\n",
    "the_function([1, 2])"
   ]
  },
  {
   "cell_type": "markdown",
   "metadata": {},
   "source": [
    "It can take a database as input, and evaluate the expression  and its derivatives for each entry in the database.\n",
    "In the following example, as no variable of the database is involved in the expression, the output of the expression is the same for each entry."
   ]
  },
  {
   "cell_type": "code",
   "execution_count": 32,
   "metadata": {},
   "outputs": [
    {
     "data": {
      "text/plain": [
       "(array([1.93233236, 1.93233236, 1.93233236, 1.93233236, 1.93233236]),\n",
       " array([[2.        , 0.10150146],\n",
       "        [2.        , 0.10150146],\n",
       "        [2.        , 0.10150146],\n",
       "        [2.        , 0.10150146],\n",
       "        [2.        , 0.10150146]]),\n",
       " array([[[ 0.       ,  0.       ],\n",
       "         [ 0.       , -0.1691691]],\n",
       " \n",
       "        [[ 0.       ,  0.       ],\n",
       "         [ 0.       , -0.1691691]],\n",
       " \n",
       "        [[ 0.       ,  0.       ],\n",
       "         [ 0.       , -0.1691691]],\n",
       " \n",
       "        [[ 0.       ,  0.       ],\n",
       "         [ 0.       , -0.1691691]],\n",
       " \n",
       "        [[ 0.       ,  0.       ],\n",
       "         [ 0.       , -0.1691691]]]),\n",
       " array([[[4.        , 0.20300292],\n",
       "         [0.20300292, 0.01030255]],\n",
       " \n",
       "        [[4.        , 0.20300292],\n",
       "         [0.20300292, 0.01030255]],\n",
       " \n",
       "        [[4.        , 0.20300292],\n",
       "         [0.20300292, 0.01030255]],\n",
       " \n",
       "        [[4.        , 0.20300292],\n",
       "         [0.20300292, 0.01030255]],\n",
       " \n",
       "        [[4.        , 0.20300292],\n",
       "         [0.20300292, 0.01030255]]]))"
      ]
     },
     "execution_count": 32,
     "metadata": {},
     "output_type": "execute_result"
    }
   ],
   "source": [
    "expr1.getValueAndDerivatives(database=myData, aggregation=False)"
   ]
  },
  {
   "cell_type": "markdown",
   "metadata": {},
   "source": [
    "If `aggregation`is set to `True`, the results are accumulated as a sum."
   ]
  },
  {
   "cell_type": "code",
   "execution_count": 33,
   "metadata": {},
   "outputs": [
    {
     "data": {
      "text/plain": [
       "(9.661661791908468,\n",
       " array([10.        ,  0.50750731]),\n",
       " array([[ 0.        ,  0.        ],\n",
       "        [ 0.        , -0.84584552]]),\n",
       " array([[20.        ,  1.01501462],\n",
       "        [ 1.01501462,  0.05151273]]))"
      ]
     },
     "execution_count": 33,
     "metadata": {},
     "output_type": "execute_result"
    }
   ],
   "source": [
    "expr1.getValueAndDerivatives(database=myData, aggregation=True)"
   ]
  },
  {
   "cell_type": "markdown",
   "metadata": {},
   "source": [
    "The following function scans the expression and extracts a dict with all free parameters."
   ]
  },
  {
   "cell_type": "code",
   "execution_count": 34,
   "metadata": {},
   "outputs": [
    {
     "data": {
      "text/plain": [
       "{'beta1', 'beta2'}"
      ]
     },
     "execution_count": 34,
     "metadata": {},
     "output_type": "execute_result"
    }
   ],
   "source": [
    "expr1.setOfBetas()"
   ]
  },
  {
   "cell_type": "markdown",
   "metadata": {},
   "source": [
    "Options can be set to extract free parameters, fixed parameters, or both. "
   ]
  },
  {
   "cell_type": "code",
   "execution_count": 35,
   "metadata": {},
   "outputs": [
    {
     "data": {
      "text/plain": [
       "{'beta3', 'beta4'}"
      ]
     },
     "execution_count": 35,
     "metadata": {},
     "output_type": "execute_result"
    }
   ],
   "source": [
    "expr1.setOfBetas(free=False, fixed=True)"
   ]
  },
  {
   "cell_type": "code",
   "execution_count": 36,
   "metadata": {},
   "outputs": [
    {
     "data": {
      "text/plain": [
       "{'beta1', 'beta2', 'beta3', 'beta4'}"
      ]
     },
     "execution_count": 36,
     "metadata": {},
     "output_type": "execute_result"
    }
   ],
   "source": [
    "expr1.setOfBetas(free=True, fixed=True)"
   ]
  },
  {
   "cell_type": "markdown",
   "metadata": {},
   "source": [
    "It is possible also to extract an elementary expression from its name."
   ]
  },
  {
   "cell_type": "code",
   "execution_count": 37,
   "metadata": {},
   "outputs": [
    {
     "data": {
      "text/plain": [
       "beta2(init=2)"
      ]
     },
     "execution_count": 37,
     "metadata": {},
     "output_type": "execute_result"
    }
   ],
   "source": [
    "expr1.getElementaryExpression('beta2')"
   ]
  },
  {
   "cell_type": "markdown",
   "metadata": {},
   "source": [
    "Let's consider an expression involving two variables $V_1$ and $V_2$: $$e_2 = 2  \\beta_1 V_1 - \\frac{\\exp(-\\beta_2 V_2)}{\\beta_2 (\\beta_3 \\geq \\beta_4) + \\beta_1 (\\beta_3 < \\beta_4)},$$\n",
    "where $(\\beta_2 \\geq \\beta_1)$ equals 1 if $\\beta_2 \\geq \\beta_1$ and 0 otherwise. Note that, in our example, the second term is numerically negligible with respect to the first one."
   ]
  },
  {
   "cell_type": "code",
   "execution_count": 38,
   "metadata": {},
   "outputs": [
    {
     "name": "stdout",
     "output_type": "stream",
     "text": [
      "(((`2.0` * beta1(init=1)) * Variable1) - (exp(((-beta2(init=2)) * Variable2)) / ((beta2(init=2) * (beta3(fixed=3) >= beta4(fixed=2))) + (beta1(init=1) * (beta3(fixed=3) < beta4(fixed=2))))))\n"
     ]
    }
   ],
   "source": [
    "expr2 = 2 * beta1 * Variable1 - ex.exp(-beta2 * Variable2) / (beta2 * (beta3 >= beta4) + beta1 * (beta3 < beta4))\n",
    "print(expr2)"
   ]
  },
  {
   "cell_type": "markdown",
   "metadata": {},
   "source": [
    "It is not a simple expression anymore, and only the function `getValue_c` can be invoked. If we try the `getValue`function, it raises an exception."
   ]
  },
  {
   "cell_type": "code",
   "execution_count": 39,
   "metadata": {},
   "outputs": [
    {
     "name": "stdout",
     "output_type": "stream",
     "text": [
      "Exception raised: Evaluating Variable Variable1 requires a database. Use the function getValue_c instead.\n"
     ]
    }
   ],
   "source": [
    "try:\n",
    "    expr2.getValue()\n",
    "except excep.biogemeError as e:\n",
    "    print(f'Exception raised: {e}')"
   ]
  },
  {
   "cell_type": "markdown",
   "metadata": {},
   "source": [
    "As the expression is called out of a specific context, it should be ibnstructed to prepare its IDs. Note that if no database is provided, an exception is raised when the formula contains variables. Indeed, the values of these variables cannot be found anywhere. "
   ]
  },
  {
   "cell_type": "code",
   "execution_count": 40,
   "metadata": {},
   "outputs": [
    {
     "name": "stdout",
     "output_type": "stream",
     "text": [
      "Exception raised: No database is provided and an expression contains variables: {'Variable2', 'Variable1'}\n"
     ]
    }
   ],
   "source": [
    "try:\n",
    "    expr2.getValue_c(prepareIds=True)\n",
    "except excep.biogemeError as e:\n",
    "    print(f'Exception raised: {e}')"
   ]
  },
  {
   "cell_type": "code",
   "execution_count": 41,
   "metadata": {},
   "outputs": [
    {
     "data": {
      "text/plain": [
       "array([ 20.,  40.,  60.,  80., 100.])"
      ]
     },
     "execution_count": 41,
     "metadata": {},
     "output_type": "execute_result"
    }
   ],
   "source": [
    "expr2.getValue_c(database=myData, aggregation=False, prepareIds=True)"
   ]
  },
  {
   "cell_type": "markdown",
   "metadata": {},
   "source": [
    "The following function extracts the names of the parameters apprearing in the expression"
   ]
  },
  {
   "cell_type": "code",
   "execution_count": 42,
   "metadata": {},
   "outputs": [
    {
     "data": {
      "text/plain": [
       "{'beta1', 'beta2', 'beta3', 'beta4'}"
      ]
     },
     "execution_count": 42,
     "metadata": {},
     "output_type": "execute_result"
    }
   ],
   "source": [
    "expr2.setOfBetas(free=True,fixed=True)"
   ]
  },
  {
   "cell_type": "markdown",
   "metadata": {},
   "source": [
    "The list of parameters can also be obtained in the form of a dictionary."
   ]
  },
  {
   "cell_type": "code",
   "execution_count": 43,
   "metadata": {},
   "outputs": [
    {
     "data": {
      "text/plain": [
       "{'beta1': beta1(init=1),\n",
       " 'beta2': beta2(init=2),\n",
       " 'beta3': beta3(fixed=3),\n",
       " 'beta4': beta4(fixed=2)}"
      ]
     },
     "execution_count": 43,
     "metadata": {},
     "output_type": "execute_result"
    }
   ],
   "source": [
    "expr2.dictOfBetas(free=True,fixed=True)"
   ]
  },
  {
   "cell_type": "markdown",
   "metadata": {},
   "source": [
    "The list of variables can also be obtained in the form of a dictionary"
   ]
  },
  {
   "cell_type": "code",
   "execution_count": 44,
   "metadata": {},
   "outputs": [
    {
     "data": {
      "text/plain": [
       "{'Variable1': Variable1, 'Variable2': Variable2}"
      ]
     },
     "execution_count": 44,
     "metadata": {},
     "output_type": "execute_result"
    }
   ],
   "source": [
    "expr2.dictOfVariables()"
   ]
  },
  {
   "cell_type": "markdown",
   "metadata": {},
   "source": [
    "or a set..."
   ]
  },
  {
   "cell_type": "code",
   "execution_count": 45,
   "metadata": {},
   "outputs": [
    {
     "data": {
      "text/plain": [
       "{'Variable1', 'Variable2'}"
      ]
     },
     "execution_count": 45,
     "metadata": {},
     "output_type": "execute_result"
    }
   ],
   "source": [
    "expr2.setOfVariables()"
   ]
  },
  {
   "cell_type": "markdown",
   "metadata": {},
   "source": [
    "Expressions are defined recursively, using a tree representation. The following function describes the type of the upper most node of the tree."
   ]
  },
  {
   "cell_type": "code",
   "execution_count": 46,
   "metadata": {},
   "outputs": [
    {
     "data": {
      "text/plain": [
       "'Minus'"
      ]
     },
     "execution_count": 46,
     "metadata": {},
     "output_type": "execute_result"
    }
   ],
   "source": [
    "expr2.getClassName()"
   ]
  },
  {
   "cell_type": "markdown",
   "metadata": {},
   "source": [
    "The signature is a formal representation of the expression, assigning identifiers to each node of the tree, and representing them starting from the leaves. It is easy to parse, and is passed to the C++ implementation. "
   ]
  },
  {
   "cell_type": "markdown",
   "metadata": {},
   "source": [
    "As the expression is used out of a specific context, it must be prepared before using it."
   ]
  },
  {
   "cell_type": "code",
   "execution_count": 47,
   "metadata": {},
   "outputs": [],
   "source": [
    "expr2.prepare(database=myData)"
   ]
  },
  {
   "cell_type": "code",
   "execution_count": 48,
   "metadata": {},
   "outputs": [
    {
     "data": {
      "text/plain": [
       "({'Variable1', 'Variable2', 'beta1', 'beta2', 'beta3', 'beta4'}, set())"
      ]
     },
     "execution_count": 48,
     "metadata": {},
     "output_type": "execute_result"
    }
   ],
   "source": [
    "expr2.getStatusIdManager()"
   ]
  },
  {
   "cell_type": "code",
   "execution_count": 49,
   "metadata": {},
   "outputs": [
    {
     "name": "stdout",
     "output_type": "stream",
     "text": [
      "(((`2.0` * beta1(init=1)) * Variable1) - (exp(((-beta2(init=2)) * Variable2)) / ((beta2(init=2) * (beta3(fixed=3) >= beta4(fixed=2))) + (beta1(init=1) * (beta3(fixed=3) < beta4(fixed=2))))))\n"
     ]
    }
   ],
   "source": [
    "print(expr2)"
   ]
  },
  {
   "cell_type": "code",
   "execution_count": 50,
   "metadata": {},
   "outputs": [
    {
     "data": {
      "text/plain": [
       "[b'<Numeric>{140210835855808},2.0',\n",
       " b'<Beta>{140210835449040}\"beta1\"[0],0,0',\n",
       " b'<Times>{140210835849904}(2),140210835855808,140210835449040',\n",
       " b'<Variable>{140210835158112}\"Variable1\",6,2',\n",
       " b'<Times>{140210835855232}(2),140210835849904,140210835158112',\n",
       " b'<Beta>{140210835450864}\"beta2\"[0],1,1',\n",
       " b'<UnaryMinus>{140210835855904}(1),140210835450864',\n",
       " b'<Variable>{140210835152880}\"Variable2\",7,3',\n",
       " b'<Times>{140210835855952}(2),140210835855904,140210835152880',\n",
       " b'<exp>{140210835856000}(1),140210835855952',\n",
       " b'<Beta>{140210835450864}\"beta2\"[0],1,1',\n",
       " b'<Beta>{140210835447984}\"beta3\"[1],2,0',\n",
       " b'<Beta>{140210835448032}\"beta4\"[1],3,1',\n",
       " b'<GreaterOrEqual>{140210835856048}(2),140210835447984,140210835448032',\n",
       " b'<Times>{140210835856096}(2),140210835450864,140210835856048',\n",
       " b'<Beta>{140210835449040}\"beta1\"[0],0,0',\n",
       " b'<Beta>{140210835447984}\"beta3\"[1],2,0',\n",
       " b'<Beta>{140210835448032}\"beta4\"[1],3,1',\n",
       " b'<Less>{140210835856720}(2),140210835447984,140210835448032',\n",
       " b'<Times>{140210835858304}(2),140210835449040,140210835856720',\n",
       " b'<Plus>{140210835858352}(2),140210835856096,140210835858304',\n",
       " b'<Divide>{140210835858400}(2),140210835856000,140210835858352',\n",
       " b'<Minus>{140210835855664}(2),140210835855232,140210835858400']"
      ]
     },
     "execution_count": 50,
     "metadata": {},
     "output_type": "execute_result"
    }
   ],
   "source": [
    "expr2.getSignature()"
   ]
  },
  {
   "cell_type": "markdown",
   "metadata": {},
   "source": [
    "The elementary expressions are\n",
    "- free parameters,\n",
    "- fixed parameters,\n",
    "- random variables (for numerical integration),\n",
    "- draws (for Monte-Carlo integration), and\n",
    "- variables from the database.\n",
    "\n",
    "The following function extracts all elementary expressions from a list of formulas, give them a unique numbering, and return them organized by group, as defined above (with the exception of the variables, that are directly available in the database)."
   ]
  },
  {
   "cell_type": "code",
   "execution_count": 51,
   "metadata": {},
   "outputs": [],
   "source": [
    "collectionOfFormulas = [expr1, expr2]\n",
    "formulas = IdManager(collectionOfFormulas, myData, None)\n"
   ]
  },
  {
   "cell_type": "markdown",
   "metadata": {},
   "source": [
    "Unique numbering for all elementary expressions"
   ]
  },
  {
   "cell_type": "code",
   "execution_count": 52,
   "metadata": {},
   "outputs": [
    {
     "data": {
      "text/plain": [
       "{'beta1': 0,\n",
       " 'beta2': 1,\n",
       " 'beta3': 2,\n",
       " 'beta4': 3,\n",
       " 'Person': 4,\n",
       " 'Exclude': 5,\n",
       " 'Variable1': 6,\n",
       " 'Variable2': 7,\n",
       " 'Choice': 8,\n",
       " 'Av1': 9,\n",
       " 'Av2': 10,\n",
       " 'Av3': 11,\n",
       " 'newvar_b': 12,\n",
       " 'newvar_p': 13,\n",
       " 'chaining_p': 14}"
      ]
     },
     "execution_count": 52,
     "metadata": {},
     "output_type": "execute_result"
    }
   ],
   "source": [
    "formulas.elementary_expressions.indices"
   ]
  },
  {
   "cell_type": "code",
   "execution_count": 53,
   "metadata": {},
   "outputs": [
    {
     "data": {
      "text/plain": [
       "ElementsTuple(expressions={'beta1': beta1(init=1), 'beta2': beta2(init=2)}, indices={'beta1': 0, 'beta2': 1}, names=['beta1', 'beta2'])"
      ]
     },
     "execution_count": 53,
     "metadata": {},
     "output_type": "execute_result"
    }
   ],
   "source": [
    "formulas.free_betas"
   ]
  },
  {
   "cell_type": "markdown",
   "metadata": {},
   "source": [
    "Each elementary expression has two ids. One unique index across all elementary expressions, and one unique within each specific group"
   ]
  },
  {
   "cell_type": "code",
   "execution_count": 54,
   "metadata": {},
   "outputs": [
    {
     "data": {
      "text/plain": [
       "[(0, 0), (1, 1)]"
      ]
     },
     "execution_count": 54,
     "metadata": {},
     "output_type": "execute_result"
    }
   ],
   "source": [
    "[(i.elementaryIndex, i.betaId) for k, i in formulas.free_betas.expressions.items()]"
   ]
  },
  {
   "cell_type": "code",
   "execution_count": 55,
   "metadata": {},
   "outputs": [
    {
     "data": {
      "text/plain": [
       "['beta1', 'beta2']"
      ]
     },
     "execution_count": 55,
     "metadata": {},
     "output_type": "execute_result"
    }
   ],
   "source": [
    "formulas.free_betas.names"
   ]
  },
  {
   "cell_type": "code",
   "execution_count": 56,
   "metadata": {},
   "outputs": [
    {
     "data": {
      "text/plain": [
       "ElementsTuple(expressions={'beta3': beta3(fixed=3), 'beta4': beta4(fixed=2)}, indices={'beta3': 0, 'beta4': 1}, names=['beta3', 'beta4'])"
      ]
     },
     "execution_count": 56,
     "metadata": {},
     "output_type": "execute_result"
    }
   ],
   "source": [
    "formulas.fixed_betas"
   ]
  },
  {
   "cell_type": "code",
   "execution_count": 57,
   "metadata": {},
   "outputs": [
    {
     "data": {
      "text/plain": [
       "[(2, 0), (3, 1)]"
      ]
     },
     "execution_count": 57,
     "metadata": {},
     "output_type": "execute_result"
    }
   ],
   "source": [
    "[(i.elementaryIndex, i.betaId) for k, i in formulas.fixed_betas.expressions.items()]"
   ]
  },
  {
   "cell_type": "code",
   "execution_count": 58,
   "metadata": {},
   "outputs": [
    {
     "data": {
      "text/plain": [
       "['beta3', 'beta4']"
      ]
     },
     "execution_count": 58,
     "metadata": {},
     "output_type": "execute_result"
    }
   ],
   "source": [
    "formulas.fixed_betas.names"
   ]
  },
  {
   "cell_type": "code",
   "execution_count": 59,
   "metadata": {},
   "outputs": [
    {
     "data": {
      "text/plain": [
       "ElementsTuple(expressions={}, indices={}, names=[])"
      ]
     },
     "execution_count": 59,
     "metadata": {},
     "output_type": "execute_result"
    }
   ],
   "source": [
    "formulas.random_variables"
   ]
  },
  {
   "cell_type": "markdown",
   "metadata": {},
   "source": [
    "Monte Carlo integration is based on draws. "
   ]
  },
  {
   "cell_type": "code",
   "execution_count": 60,
   "metadata": {},
   "outputs": [],
   "source": [
    "myDraws = ex.bioDraws('myDraws', 'UNIFORM')\n",
    "expr3 = ex.MonteCarlo(myDraws * myDraws)"
   ]
  },
  {
   "cell_type": "code",
   "execution_count": 61,
   "metadata": {},
   "outputs": [
    {
     "name": "stdout",
     "output_type": "stream",
     "text": [
      "MonteCarlo((bioDraws(\"myDraws\", \"UNIFORM\") * bioDraws(\"myDraws\", \"UNIFORM\")))\n"
     ]
    }
   ],
   "source": [
    "print(expr3)"
   ]
  },
  {
   "cell_type": "markdown",
   "metadata": {},
   "source": [
    "Note that draws are not random variables, used for numerical integration."
   ]
  },
  {
   "cell_type": "code",
   "execution_count": 62,
   "metadata": {},
   "outputs": [
    {
     "data": {
      "text/plain": [
       "{}"
      ]
     },
     "execution_count": 62,
     "metadata": {},
     "output_type": "execute_result"
    }
   ],
   "source": [
    "expr3.dictOfRandomVariables()"
   ]
  },
  {
   "cell_type": "markdown",
   "metadata": {},
   "source": [
    "The following function reports the draws involved in an expression."
   ]
  },
  {
   "cell_type": "code",
   "execution_count": 63,
   "metadata": {},
   "outputs": [
    {
     "data": {
      "text/plain": [
       "{'myDraws': 'UNIFORM'}"
      ]
     },
     "execution_count": 63,
     "metadata": {},
     "output_type": "execute_result"
    }
   ],
   "source": [
    "expr3.dictOfDraws()"
   ]
  },
  {
   "cell_type": "markdown",
   "metadata": {},
   "source": [
    "The following function checks if draws are defined outside MonteCarlo, and return their names."
   ]
  },
  {
   "cell_type": "code",
   "execution_count": 64,
   "metadata": {},
   "outputs": [
    {
     "data": {
      "text/plain": [
       "{'myDraws'}"
      ]
     },
     "execution_count": 64,
     "metadata": {},
     "output_type": "execute_result"
    }
   ],
   "source": [
    "wrong_expression = myDraws + ex.MonteCarlo(myDraws * myDraws)\n",
    "wrong_expression.check_draws()"
   ]
  },
  {
   "cell_type": "markdown",
   "metadata": {},
   "source": [
    "Checking the correct expression returns an empty set"
   ]
  },
  {
   "cell_type": "code",
   "execution_count": 65,
   "metadata": {},
   "outputs": [
    {
     "data": {
      "text/plain": [
       "set()"
      ]
     },
     "execution_count": 65,
     "metadata": {},
     "output_type": "execute_result"
    }
   ],
   "source": [
    "expr3.check_draws()"
   ]
  },
  {
   "cell_type": "markdown",
   "metadata": {},
   "source": [
    "The expression is a Monte-Carlo integration."
   ]
  },
  {
   "cell_type": "code",
   "execution_count": 66,
   "metadata": {},
   "outputs": [
    {
     "data": {
      "text/plain": [
       "'MonteCarlo'"
      ]
     },
     "execution_count": 66,
     "metadata": {},
     "output_type": "execute_result"
    }
   ],
   "source": [
    "expr3.getClassName()"
   ]
  },
  {
   "cell_type": "markdown",
   "metadata": {},
   "source": [
    "Note that the draws are associated with a database. Therefore, the evaluation of expressions involving Monte Carlo integration can only be done on a database. If none is provided, an exception is raised."
   ]
  },
  {
   "cell_type": "code",
   "execution_count": 67,
   "metadata": {},
   "outputs": [
    {
     "name": "stdout",
     "output_type": "stream",
     "text": [
      "Exception raised: An expression involving MonteCarlo integration must be associated with a database.\n"
     ]
    }
   ],
   "source": [
    "try:\n",
    "    expr3.getValue_c(numberOfDraws=number_of_draws)\n",
    "except excep.biogemeError as e:\n",
    "    print(f'Exception raised: {e}')"
   ]
  },
  {
   "cell_type": "markdown",
   "metadata": {},
   "source": [
    "Here is its value. It is an approximation of $\\int_0^1 x^2 dx=\\frac{1}{3}$."
   ]
  },
  {
   "cell_type": "code",
   "execution_count": 68,
   "metadata": {},
   "outputs": [
    {
     "data": {
      "text/plain": [
       "array([0.32541466, 0.31348604, 0.35098661, 0.37145928, 0.37358524])"
      ]
     },
     "execution_count": 68,
     "metadata": {},
     "output_type": "execute_result"
    }
   ],
   "source": [
    "expr3.getValue_c(database=myData, numberOfDraws=number_of_draws, prepareIds=True)"
   ]
  },
  {
   "cell_type": "markdown",
   "metadata": {},
   "source": [
    "Here is its signature."
   ]
  },
  {
   "cell_type": "code",
   "execution_count": 69,
   "metadata": {},
   "outputs": [
    {
     "data": {
      "text/plain": [
       "[b'<bioDraws>{140210835900928}\"myDraws\",0,0',\n",
       " b'<bioDraws>{140210835900928}\"myDraws\",0,0',\n",
       " b'<Times>{140210835902368}(2),140210835900928,140210835900928',\n",
       " b'<MonteCarlo>{140210835898624}(1),140210835902368']"
      ]
     },
     "execution_count": 69,
     "metadata": {},
     "output_type": "execute_result"
    }
   ],
   "source": [
    "expr3.prepare(database=myData)\n",
    "expr3.getSignature()"
   ]
  },
  {
   "cell_type": "markdown",
   "metadata": {},
   "source": [
    "The same integral can be calculated using numerical integration, declaring a random variable. "
   ]
  },
  {
   "cell_type": "code",
   "execution_count": 70,
   "metadata": {},
   "outputs": [],
   "source": [
    "omega = ex.RandomVariable('omega')"
   ]
  },
  {
   "cell_type": "markdown",
   "metadata": {},
   "source": [
    "Numerical integration calculates integrals between $-\\infty$ and $+\\infty$. Here, the interval being $[0,1]$, a change of variables is required."
   ]
  },
  {
   "cell_type": "code",
   "execution_count": 71,
   "metadata": {},
   "outputs": [],
   "source": [
    "a = 0\n",
    "b = 1\n",
    "x = a + (b - a) / ( 1 + ex.exp(-omega))\n",
    "dx = (b - a) * ex.exp(-omega) * (1 + ex.exp(-omega))**(-2) \n",
    "integrand = x * x\n",
    "expr4 = ex.Integrate(integrand * dx /(b - a), 'omega')"
   ]
  },
  {
   "cell_type": "markdown",
   "metadata": {},
   "source": [
    "In this case, omega is a random variable."
   ]
  },
  {
   "cell_type": "code",
   "execution_count": 72,
   "metadata": {},
   "outputs": [
    {
     "data": {
      "text/plain": [
       "{'omega': omega}"
      ]
     },
     "execution_count": 72,
     "metadata": {},
     "output_type": "execute_result"
    }
   ],
   "source": [
    "expr4.dictOfRandomVariables()"
   ]
  },
  {
   "cell_type": "code",
   "execution_count": 73,
   "metadata": {},
   "outputs": [
    {
     "name": "stdout",
     "output_type": "stream",
     "text": [
      "Integrate(((((`0.0` + (`1.0` / (`1.0` + exp((-omega))))) * (`0.0` + (`1.0` / (`1.0` + exp((-omega)))))) * ((`1.0` * exp((-omega))) * ((`1.0` + exp((-omega))) ** `-2.0`))) / `1.0`), \"omega\")\n"
     ]
    }
   ],
   "source": [
    "print(expr4)"
   ]
  },
  {
   "cell_type": "markdown",
   "metadata": {},
   "source": [
    "The folllowing function checks if random variables are defined outside an Integrate statement."
   ]
  },
  {
   "cell_type": "code",
   "execution_count": 74,
   "metadata": {},
   "outputs": [
    {
     "data": {
      "text/plain": [
       "{'omega'}"
      ]
     },
     "execution_count": 74,
     "metadata": {},
     "output_type": "execute_result"
    }
   ],
   "source": [
    "wrong_expression =  x * x\n",
    "wrong_expression.check_rv()"
   ]
  },
  {
   "cell_type": "markdown",
   "metadata": {},
   "source": [
    "The same function called from the correct expression returns an empty set."
   ]
  },
  {
   "cell_type": "code",
   "execution_count": 75,
   "metadata": {},
   "outputs": [
    {
     "data": {
      "text/plain": [
       "set()"
      ]
     },
     "execution_count": 75,
     "metadata": {},
     "output_type": "execute_result"
    }
   ],
   "source": [
    "expr4.check_rv()"
   ]
  },
  {
   "cell_type": "markdown",
   "metadata": {},
   "source": [
    "Calculating its value requires the C++ implementation."
   ]
  },
  {
   "cell_type": "code",
   "execution_count": 76,
   "metadata": {},
   "outputs": [
    {
     "data": {
      "text/plain": [
       "array([0.33333231, 0.33333231, 0.33333231, 0.33333231, 0.33333231])"
      ]
     },
     "execution_count": 76,
     "metadata": {},
     "output_type": "execute_result"
    }
   ],
   "source": [
    "expr4.getValue_c(myData, prepareIds=True)"
   ]
  },
  {
   "cell_type": "markdown",
   "metadata": {},
   "source": [
    "We illustrate now the Elem function. It takes two arguments: a dictionary, and a formula for the key. For each entry in the database, the formula is evaluated, and its result identifies which formula in the dictionary should be evaluated.\n",
    "Here is 'Person' is 1, the expression is $$e_1=2  \\beta_1 - \\frac{\\exp(-\\beta_2)}{\\beta_3 (\\beta_2 \\geq \\beta_1)},$$ and if 'Person' is 2, the expression is $$e_2=2 \\beta_1  V_1 - \\frac{\\exp(-\\beta_2 V_2) }{ \\beta_3  (\\beta_2 \\geq \\beta_1)}.$$ As it is a regular expression, it can be included in any formula. Here, we illustrate it by dividing the result by 10."
   ]
  },
  {
   "cell_type": "code",
   "execution_count": 77,
   "metadata": {},
   "outputs": [
    {
     "name": "stdout",
     "output_type": "stream",
     "text": [
      "({{1:((`2.0` * beta1(init=1)) - (exp((-beta2(init=2))) / ((beta2(init=2) * (beta3(fixed=3) >= beta4(fixed=2))) + (beta1(init=1) * (beta3(fixed=3) < beta4(fixed=2)))))), 2:(((`2.0` * beta1(init=1)) * Variable1) - (exp(((-beta2(init=2)) * Variable2)) / ((beta2(init=2) * (beta3(fixed=3) >= beta4(fixed=2))) + (beta1(init=1) * (beta3(fixed=3) < beta4(fixed=2))))))}[Person] / `10.0`)\n"
     ]
    }
   ],
   "source": [
    "elemExpr = ex.Elem({1: expr1, 2: expr2}, Person) \n",
    "expr5 =  elemExpr / 10\n",
    "print(expr5)"
   ]
  },
  {
   "cell_type": "code",
   "execution_count": 78,
   "metadata": {},
   "outputs": [
    {
     "data": {
      "text/plain": [
       "{'Person': Person, 'Variable1': Variable1, 'Variable2': Variable2}"
      ]
     },
     "execution_count": 78,
     "metadata": {},
     "output_type": "execute_result"
    }
   ],
   "source": [
    "expr5.dictOfVariables()"
   ]
  },
  {
   "cell_type": "markdown",
   "metadata": {},
   "source": [
    "Note that ` Variable1` and `Variable2`have previously been involved in another formula. Therefore, they have been numbered according to this formula, and this numbering is invalid for the new expression `expr5`. An error is triggered"
   ]
  },
  {
   "cell_type": "code",
   "execution_count": 79,
   "metadata": {},
   "outputs": [
    {
     "name": "stdout",
     "output_type": "stream",
     "text": [
      "Expression evaluated out of context. Set prepareIds to True.\n"
     ]
    }
   ],
   "source": [
    "try:\n",
    "    expr5.getValue_c(database=myData)\n",
    "except excep.biogemeError as e:\n",
    "    print(e)"
   ]
  },
  {
   "cell_type": "code",
   "execution_count": 80,
   "metadata": {},
   "outputs": [
    {
     "data": {
      "text/plain": [
       "array([ 0.19323324,  0.19323324,  0.19323324,  8.        , 10.        ])"
      ]
     },
     "execution_count": 80,
     "metadata": {},
     "output_type": "execute_result"
    }
   ],
   "source": [
    "expr5.getValue_c(database=myData, prepareIds=True)"
   ]
  },
  {
   "cell_type": "code",
   "execution_count": 81,
   "metadata": {},
   "outputs": [],
   "source": [
    "testElem = ex.MonteCarlo(ex.Elem({1: myDraws * myDraws}, 1))"
   ]
  },
  {
   "cell_type": "code",
   "execution_count": 82,
   "metadata": {},
   "outputs": [
    {
     "data": {
      "text/plain": [
       "([], [])"
      ]
     },
     "execution_count": 82,
     "metadata": {},
     "output_type": "execute_result"
    }
   ],
   "source": [
    "testElem.audit()"
   ]
  },
  {
   "cell_type": "markdown",
   "metadata": {},
   "source": [
    "The next expression is simply the sum of multiple expressions. The argument is a list of expressions. "
   ]
  },
  {
   "cell_type": "code",
   "execution_count": 83,
   "metadata": {},
   "outputs": [],
   "source": [
    "expr6 = ex.bioMultSum([expr1, expr2, expr4])"
   ]
  },
  {
   "cell_type": "code",
   "execution_count": 84,
   "metadata": {},
   "outputs": [
    {
     "name": "stdout",
     "output_type": "stream",
     "text": [
      "bioMultSum(((`2.0` * beta1(init=1)) - (exp((-beta2(init=2))) / ((beta2(init=2) * (beta3(fixed=3) >= beta4(fixed=2))) + (beta1(init=1) * (beta3(fixed=3) < beta4(fixed=2)))))), (((`2.0` * beta1(init=1)) * Variable1) - (exp(((-beta2(init=2)) * Variable2)) / ((beta2(init=2) * (beta3(fixed=3) >= beta4(fixed=2))) + (beta1(init=1) * (beta3(fixed=3) < beta4(fixed=2)))))), Integrate(((((`0.0` + (`1.0` / (`1.0` + exp((-omega))))) * (`0.0` + (`1.0` / (`1.0` + exp((-omega)))))) * ((`1.0` * exp((-omega))) * ((`1.0` + exp((-omega))) ** `-2.0`))) / `1.0`), \"omega\"))\n"
     ]
    }
   ],
   "source": [
    "print(expr6)"
   ]
  },
  {
   "cell_type": "code",
   "execution_count": 85,
   "metadata": {},
   "outputs": [
    {
     "data": {
      "text/plain": [
       "array([ 22.26566467,  42.26566467,  62.26566467,  82.26566467,\n",
       "       102.26566467])"
      ]
     },
     "execution_count": 85,
     "metadata": {},
     "output_type": "execute_result"
    }
   ],
   "source": [
    "expr6.getValue_c(database=myData, numberOfDraws=number_of_draws, prepareIds=True)"
   ]
  },
  {
   "cell_type": "markdown",
   "metadata": {},
   "source": [
    "We now illustrate how to calculate a logit model, that is $$ \\frac{y_1 e^{V_1}}{y_0 e^{V_0}+y_1 e^{V_1}+y_2 e^{V_2}}$$ where $V_0=-\\beta_1$, $V_1=-\\beta_2$ and $V_2=-\\beta_1$, and $y_i = 1$, $i=1,2,3$."
   ]
  },
  {
   "cell_type": "code",
   "execution_count": 86,
   "metadata": {},
   "outputs": [],
   "source": [
    "V = {0: -beta1, 1: -beta2, 2: -beta1}\n",
    "av = {0: 1, 1: 1, 2: 1}\n",
    "expr7 = ex._bioLogLogit(V, av, 1)"
   ]
  },
  {
   "cell_type": "code",
   "execution_count": 87,
   "metadata": {},
   "outputs": [
    {
     "data": {
      "text/plain": [
       "-1.861994804058251"
      ]
     },
     "execution_count": 87,
     "metadata": {},
     "output_type": "execute_result"
    }
   ],
   "source": [
    "expr7.getValue()"
   ]
  },
  {
   "cell_type": "markdown",
   "metadata": {},
   "source": [
    "If the alternative is not in the choice set, an exception is raised."
   ]
  },
  {
   "cell_type": "code",
   "execution_count": 88,
   "metadata": {},
   "outputs": [
    {
     "name": "stdout",
     "output_type": "stream",
     "text": [
      "Exception: Alternative 3 does not appear in the list of utility functions: dict_keys([0, 1, 2])\n"
     ]
    }
   ],
   "source": [
    "expr7_wrong = ex.LogLogit(V, av, 3)\n",
    "try:\n",
    "    expr7_wrong.getValue()\n",
    "except excep.biogemeError as e:\n",
    "    print(f'Exception: {e}')"
   ]
  },
  {
   "cell_type": "markdown",
   "metadata": {},
   "source": [
    "It is actually better to use the C++ implementation, available in the module models"
   ]
  },
  {
   "cell_type": "code",
   "execution_count": 89,
   "metadata": {},
   "outputs": [],
   "source": [
    "expr8 = models.loglogit(V, av, 1)"
   ]
  },
  {
   "cell_type": "code",
   "execution_count": 90,
   "metadata": {},
   "outputs": [
    {
     "data": {
      "text/plain": [
       "array([-1.8619948, -1.8619948, -1.8619948, -1.8619948, -1.8619948])"
      ]
     },
     "execution_count": 90,
     "metadata": {},
     "output_type": "execute_result"
    }
   ],
   "source": [
    "expr8.getValue_c(database=myData, prepareIds=True)"
   ]
  },
  {
   "cell_type": "markdown",
   "metadata": {},
   "source": [
    "As the result is a numpy array, it can be used for any calculation. Here, we show how to calculate the logsum"
   ]
  },
  {
   "cell_type": "code",
   "execution_count": 91,
   "metadata": {},
   "outputs": [
    {
     "name": "stdout",
     "output_type": "stream",
     "text": [
      "[-1. -1. -1. -1. -1.]\n",
      "[-2. -2. -2. -2. -2.]\n",
      "[-1. -1. -1. -1. -1.]\n"
     ]
    }
   ],
   "source": [
    "for v in V.values():\n",
    "    print(v.getValue_c(database=myData, prepareIds=True))"
   ]
  },
  {
   "cell_type": "code",
   "execution_count": 92,
   "metadata": {},
   "outputs": [
    {
     "data": {
      "text/plain": [
       "array([ 0.60943791, -0.39056209,  0.60943791])"
      ]
     },
     "execution_count": 92,
     "metadata": {},
     "output_type": "execute_result"
    }
   ],
   "source": [
    "logsum = np.log(np.sum([np.exp(v.getValue_c(database=myData, prepareIds=True)) \n",
    "                        for v in V.values()], axis=1))\n",
    "logsum"
   ]
  },
  {
   "cell_type": "markdown",
   "metadata": {},
   "source": [
    "It is possible to calculate the derivative of a formula with respect to a literal: $$e_9=\\frac{\\partial e_8}{\\partial \\beta_2}.$$"
   ]
  },
  {
   "cell_type": "code",
   "execution_count": 93,
   "metadata": {},
   "outputs": [],
   "source": [
    "expr9 = ex.Derive(expr8, 'beta2')"
   ]
  },
  {
   "cell_type": "code",
   "execution_count": 94,
   "metadata": {},
   "outputs": [
    {
     "data": {
      "text/plain": [
       "array([-0.8446376, -0.8446376, -0.8446376, -0.8446376, -0.8446376])"
      ]
     },
     "execution_count": 94,
     "metadata": {},
     "output_type": "execute_result"
    }
   ],
   "source": [
    "expr9.getValue_c(database=myData, prepareIds=True)"
   ]
  },
  {
   "cell_type": "code",
   "execution_count": 95,
   "metadata": {},
   "outputs": [
    {
     "data": {
      "text/plain": [
       "'beta2'"
      ]
     },
     "execution_count": 95,
     "metadata": {},
     "output_type": "execute_result"
    }
   ],
   "source": [
    "expr9.elementaryName"
   ]
  },
  {
   "cell_type": "markdown",
   "metadata": {},
   "source": [
    "Biogeme also provides an approximation of the CDF of the normal distribution: $$e_{10}= \\frac{1}{{\\sigma \\sqrt {2\\pi } }}\\int_{-\\infty}^t e^{{{ - \\left( {x - \\mu } \\right)^2 } \\mathord{\\left/ {\\vphantom {{ - \\left( {x - \\mu } \\right)^2 } {2\\sigma ^2 }}} \\right. } {2\\sigma ^2 }}}dx$$"
   ]
  },
  {
   "cell_type": "code",
   "execution_count": 96,
   "metadata": {},
   "outputs": [],
   "source": [
    "expr10 = ex.bioNormalCdf(Variable1 / 10 - 1)"
   ]
  },
  {
   "cell_type": "code",
   "execution_count": 97,
   "metadata": {},
   "outputs": [
    {
     "data": {
      "text/plain": [
       "array([0.5       , 0.84134475, 0.97724987, 0.9986501 , 0.99996833])"
      ]
     },
     "execution_count": 97,
     "metadata": {},
     "output_type": "execute_result"
    }
   ],
   "source": [
    "expr10.getValue_c(database=myData, prepareIds=True)"
   ]
  },
  {
   "cell_type": "markdown",
   "metadata": {},
   "source": [
    "Min and max operators are also available. To avoid any ambiguity with the Python operator, they are called bioMin and bioMax. "
   ]
  },
  {
   "cell_type": "code",
   "execution_count": 98,
   "metadata": {},
   "outputs": [
    {
     "data": {
      "text/plain": [
       "array([0.19323324, 0.19323324, 0.19323324, 0.9986501 , 0.99996833])"
      ]
     },
     "execution_count": 98,
     "metadata": {},
     "output_type": "execute_result"
    }
   ],
   "source": [
    "expr11 = ex.bioMin(expr5, expr10)\n",
    "expr11.getValue_c(database=myData, prepareIds=True)"
   ]
  },
  {
   "cell_type": "code",
   "execution_count": 99,
   "metadata": {},
   "outputs": [
    {
     "data": {
      "text/plain": [
       "array([ 0.5       ,  0.84134475,  0.97724987,  8.        , 10.        ])"
      ]
     },
     "execution_count": 99,
     "metadata": {},
     "output_type": "execute_result"
    }
   ],
   "source": [
    "expr12 = ex.bioMax(expr5, expr10)\n",
    "expr12.getValue_c(database=myData, prepareIds=True)"
   ]
  },
  {
   "cell_type": "markdown",
   "metadata": {},
   "source": [
    "For the sake of efficiency, it is possible to specify explicitly a linear function, where each term is the product of a parameter and a variable."
   ]
  },
  {
   "cell_type": "code",
   "execution_count": 100,
   "metadata": {},
   "outputs": [],
   "source": [
    "terms = [(beta1, ex.Variable('Variable1')),\n",
    "         (beta2, ex.Variable('Variable2')),\n",
    "         (beta3, ex.Variable('newvar_b'))]"
   ]
  },
  {
   "cell_type": "code",
   "execution_count": 101,
   "metadata": {},
   "outputs": [],
   "source": [
    "expr13 = ex.bioLinearUtility(terms)"
   ]
  },
  {
   "cell_type": "code",
   "execution_count": 102,
   "metadata": {},
   "outputs": [
    {
     "data": {
      "text/plain": [
       "array([ 540., 1080., 1620., 2160., 2700.])"
      ]
     },
     "execution_count": 102,
     "metadata": {},
     "output_type": "execute_result"
    }
   ],
   "source": [
    "expr13.getValue_c(database=myData, prepareIds=True)"
   ]
  },
  {
   "cell_type": "markdown",
   "metadata": {},
   "source": [
    "In terms of specification, it is equivalent to the expression below. But the calculation of the derivatives is more efficient, as the linear structure of the specification is exploited."
   ]
  },
  {
   "cell_type": "code",
   "execution_count": 103,
   "metadata": {},
   "outputs": [],
   "source": [
    "expr13bis = beta1 * Variable1 + beta2 * Variable2 + beta3 * newvar_b"
   ]
  },
  {
   "cell_type": "code",
   "execution_count": 104,
   "metadata": {},
   "outputs": [
    {
     "data": {
      "text/plain": [
       "array([ 540., 1080., 1620., 2160., 2700.])"
      ]
     },
     "execution_count": 104,
     "metadata": {},
     "output_type": "execute_result"
    }
   ],
   "source": [
    "expr13bis.getValue_c(database=myData, prepareIds=True)"
   ]
  },
  {
   "cell_type": "markdown",
   "metadata": {},
   "source": [
    "A Pythonic way to write a linear utility function"
   ]
  },
  {
   "cell_type": "code",
   "execution_count": 105,
   "metadata": {},
   "outputs": [
    {
     "name": "stdout",
     "output_type": "stream",
     "text": [
      "((((((`0.0` + (beta_v1(init=0) * v1)) + (beta_v2(init=0) * v2)) + (beta_v3(init=0) * v3)) + (beta_cost(init=0) * cost)) + (beta_time(init=0) * time)) + (beta_headway(init=0) * headway))\n"
     ]
    }
   ],
   "source": [
    "variables = ['v1', 'v2', 'v3', 'cost', 'time', 'headway']\n",
    "coefficients = {f'{v}': ex.Beta(f'beta_{v}', 0, None, None, 0) \n",
    "                for v in variables}\n",
    "terms = [coefficients[v] * ex.Variable(v) for v in variables]\n",
    "util = sum(terms)\n",
    "print(util)"
   ]
  },
  {
   "cell_type": "markdown",
   "metadata": {},
   "source": [
    "If the data is organized a panel data, it means that several rows correspond to the same individual. The expression `PanelLikelihoodTrajectory` calculates the product of the expression evaluated for each row. If Monte Carlo integration is involved, the same draws are used for each them."
   ]
  },
  {
   "cell_type": "markdown",
   "metadata": {},
   "source": [
    "Our database contains 5 observations."
   ]
  },
  {
   "cell_type": "code",
   "execution_count": 106,
   "metadata": {},
   "outputs": [
    {
     "data": {
      "text/plain": [
       "5"
      ]
     },
     "execution_count": 106,
     "metadata": {},
     "output_type": "execute_result"
    }
   ],
   "source": [
    "myData.getSampleSize()"
   ]
  },
  {
   "cell_type": "code",
   "execution_count": 107,
   "metadata": {},
   "outputs": [],
   "source": [
    "myData.panel('Person')"
   ]
  },
  {
   "cell_type": "markdown",
   "metadata": {},
   "source": [
    "Once the data has been labeled as \"panel\", it is considered that there are only two series of observations, corresponding to each person. Each of these observations is associated with several rows of observations."
   ]
  },
  {
   "cell_type": "code",
   "execution_count": 108,
   "metadata": {},
   "outputs": [
    {
     "data": {
      "text/plain": [
       "2"
      ]
     },
     "execution_count": 108,
     "metadata": {},
     "output_type": "execute_result"
    }
   ],
   "source": [
    "myData.getSampleSize()"
   ]
  },
  {
   "cell_type": "markdown",
   "metadata": {},
   "source": [
    "If we try to evaluate again the integral $\\int_0^1 x^2 dx=\\frac{1}{3}$, an exception is raised."
   ]
  },
  {
   "cell_type": "code",
   "execution_count": 109,
   "metadata": {},
   "outputs": [
    {
     "name": "stdout",
     "output_type": "stream",
     "text": [
      "[15:08:08] < Warning >   As the database is panel, the argument of MonteCarlo must contain a PanelLikelihoodTrajectory: MonteCarlo((bioDraws(\"myDraws\", \"UNIFORM\") * bioDraws(\"myDraws\", \"UNIFORM\")))\n",
      "Exception: As the database is panel, the argument of MonteCarlo must contain a PanelLikelihoodTrajectory: MonteCarlo((bioDraws(\"myDraws\", \"UNIFORM\") * bioDraws(\"myDraws\", \"UNIFORM\")))\n"
     ]
    }
   ],
   "source": [
    "try:\n",
    "    expr3.getValue_c(database=myData)\n",
    "except excep.biogemeError as e:\n",
    "    print(f'Exception: {e}')"
   ]
  },
  {
   "cell_type": "markdown",
   "metadata": {},
   "source": [
    "This is detected by the `audit` function, called before the expression is evaluated."
   ]
  },
  {
   "cell_type": "code",
   "execution_count": 110,
   "metadata": {},
   "outputs": [
    {
     "data": {
      "text/plain": [
       "(['As the database is panel, the argument of MonteCarlo must contain a PanelLikelihoodTrajectory: MonteCarlo((bioDraws(\"myDraws\", \"UNIFORM\") * bioDraws(\"myDraws\", \"UNIFORM\")))'],\n",
       " [])"
      ]
     },
     "execution_count": 110,
     "metadata": {},
     "output_type": "execute_result"
    }
   ],
   "source": [
    "expr3.audit(database=myData)"
   ]
  },
  {
   "cell_type": "markdown",
   "metadata": {},
   "source": [
    "We now evaluate an expression for panel data."
   ]
  },
  {
   "cell_type": "code",
   "execution_count": 111,
   "metadata": {},
   "outputs": [],
   "source": [
    "c1 = ex.bioDraws('draws1', 'NORMAL_HALTON2')\n",
    "c2 = ex.bioDraws('draws2', 'NORMAL_HALTON2')\n",
    "U1 = ex.Beta('beta1', 0, None, None, 0) * Variable1 + 10 * c1\n",
    "U2 = ex.Beta('beta2', 0, None, None, 0) * Variable2 + 10 * c2\n",
    "U3 = 0\n",
    "U = {1: U1, 2: U2, 3: U3}\n",
    "av = {1: Av1, 2: Av2, 3: Av3}\n",
    "expr14 = ex.log(ex.MonteCarlo(ex.PanelLikelihoodTrajectory(models.logit(U, av, Choice))))"
   ]
  },
  {
   "cell_type": "code",
   "execution_count": 112,
   "metadata": {},
   "outputs": [
    {
     "data": {
      "text/plain": [
       "log(MonteCarlo(PanelLikelihoodTrajectory(exp(_bioLogLogit[choice=Choice]U=(1:((beta1(init=0) * Variable1) + (`10.0` * bioDraws(\"draws1\", \"NORMAL_HALTON2\"))), 2:((beta2(init=0) * Variable2) + (`10.0` * bioDraws(\"draws2\", \"NORMAL_HALTON2\"))), 3:`0.0`)av=(1:Av1, 2:Av2, 3:Av3)))))"
      ]
     },
     "execution_count": 112,
     "metadata": {},
     "output_type": "execute_result"
    }
   ],
   "source": [
    "expr14.prepare(database=myData)\n",
    "expr14"
   ]
  },
  {
   "cell_type": "code",
   "execution_count": 113,
   "metadata": {},
   "outputs": [
    {
     "data": {
      "text/plain": [
       "array([-3.91914292, -2.11209896])"
      ]
     },
     "execution_count": 113,
     "metadata": {},
     "output_type": "execute_result"
    }
   ],
   "source": [
    "expr14.getValue_c(database=myData, numberOfDraws=number_of_draws, prepareIds=True)"
   ]
  },
  {
   "cell_type": "code",
   "execution_count": 114,
   "metadata": {},
   "outputs": [
    {
     "data": {
      "text/plain": [
       "(array([-3.91914292, -2.11209896]),\n",
       " array([[-12.31921998,  76.80780015],\n",
       "        [ -3.14130423,  68.58695767]]),\n",
       " array([[[  -165.65755306,   1546.42166536],\n",
       "         [  1546.42166536, -16565.75530623]],\n",
       " \n",
       "        [[  -987.62129533,   9777.04786414],\n",
       "         [  9777.04786414, -98762.12953279]]]),\n",
       " array([[[ 151.76318103, -946.21218663],\n",
       "         [-946.21218663, 5899.4381646 ]],\n",
       " \n",
       "        [[   9.86779229, -215.45250047],\n",
       "         [-215.45250047, 4704.17076195]]]))"
      ]
     },
     "execution_count": 114,
     "metadata": {},
     "output_type": "execute_result"
    }
   ],
   "source": [
    "expr14.getValueAndDerivatives(database=myData, numberOfDraws=number_of_draws, gradient=True, hessian=True, aggregation=False)"
   ]
  },
  {
   "cell_type": "code",
   "execution_count": 115,
   "metadata": {},
   "outputs": [
    {
     "data": {
      "text/plain": [
       "(-6.0312418791725335,\n",
       " array([-15.46052422, 145.39475782]),\n",
       " array([[  -1153.27884839,   11323.46952949],\n",
       "        [  11323.46952949, -115327.88483902]]),\n",
       " array([[  161.63097331, -1161.6646871 ],\n",
       "        [-1161.6646871 , 10603.60892655]]))"
      ]
     },
     "execution_count": 115,
     "metadata": {},
     "output_type": "execute_result"
    }
   ],
   "source": [
    "expr14.getValueAndDerivatives(database=myData, numberOfDraws=number_of_draws, gradient=True, hessian=True, aggregation=True)"
   ]
  },
  {
   "cell_type": "markdown",
   "metadata": {},
   "source": [
    "A Python function can also be obtained for this expression. Note that it is available only for the aggregated version, summing over the database."
   ]
  },
  {
   "cell_type": "code",
   "execution_count": 116,
   "metadata": {},
   "outputs": [],
   "source": [
    "the_function = expr14.createFunction(database=myData, numberOfDraws=number_of_draws, gradient=True, hessian=True)"
   ]
  },
  {
   "cell_type": "code",
   "execution_count": 117,
   "metadata": {},
   "outputs": [
    {
     "data": {
      "text/plain": [
       "(-6.0312418791725335,\n",
       " array([-15.46052422, 145.39475782]),\n",
       " array([[  -1153.27884839,   11323.46952949],\n",
       "        [  11323.46952949, -115327.88483902]]))"
      ]
     },
     "execution_count": 117,
     "metadata": {},
     "output_type": "execute_result"
    }
   ],
   "source": [
    "the_function([0, 0])"
   ]
  },
  {
   "cell_type": "code",
   "execution_count": 118,
   "metadata": {},
   "outputs": [
    {
     "data": {
      "text/plain": [
       "(-49.645666583910895,\n",
       " array([  39.99999992, -553.04056325]),\n",
       " array([[-1.62802916e-06,  1.46098013e-05],\n",
       "        [ 1.46098013e-05, -1.18518603e+03]]))"
      ]
     },
     "execution_count": 118,
     "metadata": {},
     "output_type": "execute_result"
    }
   ],
   "source": [
    "the_function([0.1, 0.1])"
   ]
  },
  {
   "cell_type": "markdown",
   "metadata": {},
   "source": [
    "It is possible to fix the value of some (or all) beta parameters"
   ]
  },
  {
   "cell_type": "code",
   "execution_count": 119,
   "metadata": {},
   "outputs": [
    {
     "name": "stdout",
     "output_type": "stream",
     "text": [
      "log(MonteCarlo(PanelLikelihoodTrajectory(exp(_bioLogLogit[choice=Choice]U=(1:((beta1(init=0) * Variable1) + (`10.0` * bioDraws(\"draws1\", \"NORMAL_HALTON2\"))), 2:((beta2(init=0) * Variable2) + (`10.0` * bioDraws(\"draws2\", \"NORMAL_HALTON2\"))), 3:`0.0`)av=(1:Av1, 2:Av2, 3:Av3)))))\n"
     ]
    }
   ],
   "source": [
    "print(expr14)"
   ]
  },
  {
   "cell_type": "code",
   "execution_count": 120,
   "metadata": {},
   "outputs": [],
   "source": [
    "expr14.fix_betas({'beta2': 0.123})"
   ]
  },
  {
   "cell_type": "code",
   "execution_count": 121,
   "metadata": {},
   "outputs": [
    {
     "name": "stdout",
     "output_type": "stream",
     "text": [
      "log(MonteCarlo(PanelLikelihoodTrajectory(exp(_bioLogLogit[choice=Choice]U=(1:((beta1(init=0) * Variable1) + (`10.0` * bioDraws(\"draws1\", \"NORMAL_HALTON2\"))), 2:((beta2(fixed=0.123) * Variable2) + (`10.0` * bioDraws(\"draws2\", \"NORMAL_HALTON2\"))), 3:`0.0`)av=(1:Av1, 2:Av2, 3:Av3)))))\n"
     ]
    }
   ],
   "source": [
    "print(expr14)"
   ]
  },
  {
   "cell_type": "markdown",
   "metadata": {},
   "source": [
    "The name of the parameter can also be changed while fixing its value."
   ]
  },
  {
   "cell_type": "code",
   "execution_count": 122,
   "metadata": {},
   "outputs": [],
   "source": [
    "expr14.fix_betas({'beta2': 123}, prefix='prefix_', suffix='_suffix')"
   ]
  },
  {
   "cell_type": "code",
   "execution_count": 123,
   "metadata": {},
   "outputs": [
    {
     "name": "stdout",
     "output_type": "stream",
     "text": [
      "log(MonteCarlo(PanelLikelihoodTrajectory(exp(_bioLogLogit[choice=Choice]U=(1:((beta1(init=0) * Variable1) + (`10.0` * bioDraws(\"draws1\", \"NORMAL_HALTON2\"))), 2:((prefix_beta2_suffix(fixed=123) * Variable2) + (`10.0` * bioDraws(\"draws2\", \"NORMAL_HALTON2\"))), 3:`0.0`)av=(1:Av1, 2:Av2, 3:Av3)))))\n"
     ]
    }
   ],
   "source": [
    "print(expr14)"
   ]
  },
  {
   "cell_type": "markdown",
   "metadata": {},
   "source": [
    "It can also be renamed using the following function."
   ]
  },
  {
   "cell_type": "code",
   "execution_count": 124,
   "metadata": {},
   "outputs": [],
   "source": [
    "expr14.rename_elementary(['prefix_beta2_suffix'], prefix='PREFIX_', suffix='_SUFFIX')"
   ]
  },
  {
   "cell_type": "code",
   "execution_count": 125,
   "metadata": {},
   "outputs": [
    {
     "name": "stdout",
     "output_type": "stream",
     "text": [
      "log(MonteCarlo(PanelLikelihoodTrajectory(exp(_bioLogLogit[choice=Choice]U=(1:((beta1(init=0) * Variable1) + (`10.0` * bioDraws(\"draws1\", \"NORMAL_HALTON2\"))), 2:((PREFIX_prefix_beta2_suffix_SUFFIX(fixed=123) * Variable2) + (`10.0` * bioDraws(\"draws2\", \"NORMAL_HALTON2\"))), 3:`0.0`)av=(1:Av1, 2:Av2, 3:Av3)))))\n"
     ]
    }
   ],
   "source": [
    "print(expr14)"
   ]
  },
  {
   "cell_type": "markdown",
   "metadata": {},
   "source": [
    "# Signatures"
   ]
  },
  {
   "cell_type": "markdown",
   "metadata": {},
   "source": [
    "The Python library communicates the expressions to the C++ library using a syntax called a \"signature\". We describe and illustrate now the signature for each expression. Each expression is identified by an identifier provided by Python using the function 'id'. "
   ]
  },
  {
   "cell_type": "code",
   "execution_count": 126,
   "metadata": {},
   "outputs": [
    {
     "data": {
      "text/plain": [
       "140210835447744"
      ]
     },
     "execution_count": 126,
     "metadata": {},
     "output_type": "execute_result"
    }
   ],
   "source": [
    "id(expr1)"
   ]
  },
  {
   "cell_type": "markdown",
   "metadata": {},
   "source": [
    "## Numerical expression"
   ]
  },
  {
   "cell_type": "markdown",
   "metadata": {},
   "source": [
    "&lt;Numeric&gt;{identifier},value"
   ]
  },
  {
   "cell_type": "code",
   "execution_count": 127,
   "metadata": {},
   "outputs": [
    {
     "data": {
      "text/plain": [
       "[b'<Numeric>{140210287767904},0.0']"
      ]
     },
     "execution_count": 127,
     "metadata": {},
     "output_type": "execute_result"
    }
   ],
   "source": [
    "ex.Numeric(0).getSignature()"
   ]
  },
  {
   "cell_type": "markdown",
   "metadata": {},
   "source": [
    "## Beta parameters"
   ]
  },
  {
   "cell_type": "markdown",
   "metadata": {},
   "source": [
    "&lt;Beta&gt;{identifier}\"name\"[status],uniqueId,betaId'\n",
    "where \n",
    "- status is 0 for free parameters, and non zero for fixed parameters,\n",
    "- uniqueId is a unique index given by Biogeme to all elementary expressions,\n",
    "- betaId is a unique index given by Biogeme to all free parameters, and to all fixed parameters."
   ]
  },
  {
   "cell_type": "markdown",
   "metadata": {},
   "source": [
    "As the signature requires an Id, we need to prepare the expression first. "
   ]
  },
  {
   "cell_type": "code",
   "execution_count": 128,
   "metadata": {},
   "outputs": [
    {
     "data": {
      "text/plain": [
       "[b'<Beta>{140210835449040}\"beta1\"[0],0,0']"
      ]
     },
     "execution_count": 128,
     "metadata": {},
     "output_type": "execute_result"
    }
   ],
   "source": [
    "beta1.prepare(database=myData)\n",
    "beta1.getSignature()"
   ]
  },
  {
   "cell_type": "code",
   "execution_count": 129,
   "metadata": {},
   "outputs": [
    {
     "data": {
      "text/plain": [
       "[b'<Beta>{140210835447984}\"beta3\"[1],0,0']"
      ]
     },
     "execution_count": 129,
     "metadata": {},
     "output_type": "execute_result"
    }
   ],
   "source": [
    "beta3.prepare(database=myData)\n",
    "beta3.getSignature()"
   ]
  },
  {
   "cell_type": "markdown",
   "metadata": {},
   "source": [
    "## Variables"
   ]
  },
  {
   "cell_type": "markdown",
   "metadata": {},
   "source": [
    "&lt;Variable&gt;{identifier}\"name\",uniqueId,variableId \n",
    "where\n",
    "- uniqueId is a unique index given by Biogeme to all elementary expressions,\n",
    "- variableId is a unique index given by Biogeme to all variables.\n"
   ]
  },
  {
   "cell_type": "code",
   "execution_count": 130,
   "metadata": {},
   "outputs": [
    {
     "data": {
      "text/plain": [
       "[b'<Variable>{140210835158112}\"Variable1\",6,2']"
      ]
     },
     "execution_count": 130,
     "metadata": {},
     "output_type": "execute_result"
    }
   ],
   "source": [
    "Variable1.getSignature()"
   ]
  },
  {
   "cell_type": "markdown",
   "metadata": {},
   "source": [
    "## Random variables"
   ]
  },
  {
   "cell_type": "markdown",
   "metadata": {},
   "source": [
    "&lt;RandomVariable&gt;{identifier}\"name\",uniqueId,randomVariableId\n",
    "where\n",
    "- uniqueId is a unique index given by Biogeme to all elementary expressions,\n",
    "- randomVariableId is a unique index given by Biogeme to all random variables."
   ]
  },
  {
   "cell_type": "code",
   "execution_count": 131,
   "metadata": {},
   "outputs": [
    {
     "data": {
      "text/plain": [
       "[b'<RandomVariable>{140210835906496}\"omega\",0,0']"
      ]
     },
     "execution_count": 131,
     "metadata": {},
     "output_type": "execute_result"
    }
   ],
   "source": [
    "omega.prepare(database=myData)\n",
    "omega.getSignature()"
   ]
  },
  {
   "cell_type": "markdown",
   "metadata": {},
   "source": [
    "## Draws"
   ]
  },
  {
   "cell_type": "markdown",
   "metadata": {},
   "source": [
    "&lt;bioDraws&gt;{identifier}\"name\",uniqueId,drawId\n",
    "where\n",
    "- uniqueId is a unique index given by Biogeme to all elementary expressions,\n",
    "- drawId is a unique index given by Biogeme to all draws.\n"
   ]
  },
  {
   "cell_type": "code",
   "execution_count": 132,
   "metadata": {},
   "outputs": [
    {
     "data": {
      "text/plain": [
       "[b'<bioDraws>{140210835900928}\"myDraws\",0,0']"
      ]
     },
     "execution_count": 132,
     "metadata": {},
     "output_type": "execute_result"
    }
   ],
   "source": [
    "myDraws.prepare(database=myData)\n",
    "myDraws.getSignature()"
   ]
  },
  {
   "cell_type": "markdown",
   "metadata": {},
   "source": [
    "## General expression"
   ]
  },
  {
   "cell_type": "markdown",
   "metadata": {},
   "source": [
    "<code>&lt;operator&gt;{identifier}(numberOfChildren),idFirstChild,idSecondChild,idThirdChild,</code> etc...\n",
    "where the number of identifiers given after the comma matches the reported number of children. \n",
    "\n",
    "Specific examples are reported below."
   ]
  },
  {
   "cell_type": "markdown",
   "metadata": {},
   "source": [
    "### Binary operator"
   ]
  },
  {
   "cell_type": "markdown",
   "metadata": {},
   "source": [
    "<code>&lt;operator&gt;{identifier}(2),idFirstChild,idSecondChild </code>\n",
    "where operator is one of: \n",
    "    - 'Plus'\n",
    "    - 'Minus'\n",
    "    - 'Times'\n",
    "    - 'Divide'\n",
    "    - 'Power'\n",
    "    - 'bioMin'\n",
    "    - 'bioMax'\n",
    "    - 'And'\n",
    "    - 'Or'\n",
    "    - 'Equal'\n",
    "    - 'NotEqual'\n",
    "    - 'LessOrEqual'\n",
    "    - 'GreaterOrEqual'\n",
    "    - 'Less'\n",
    "    - 'Greater'\n"
   ]
  },
  {
   "cell_type": "code",
   "execution_count": 133,
   "metadata": {},
   "outputs": [],
   "source": [
    "sum = beta1 + Variable1"
   ]
  },
  {
   "cell_type": "code",
   "execution_count": 134,
   "metadata": {},
   "outputs": [
    {
     "data": {
      "text/plain": [
       "[b'<Beta>{140210835449040}\"beta1\"[0],0,0',\n",
       " b'<Variable>{140210835158112}\"Variable1\",6,2',\n",
       " b'<Plus>{140210288033904}(2),140210835449040,140210835158112']"
      ]
     },
     "execution_count": 134,
     "metadata": {},
     "output_type": "execute_result"
    }
   ],
   "source": [
    "sum.getSignature()"
   ]
  },
  {
   "cell_type": "markdown",
   "metadata": {},
   "source": [
    "### Unary operator"
   ]
  },
  {
   "cell_type": "markdown",
   "metadata": {},
   "source": [
    "&lt;operator&gt;{identifier}(1),idChild, \n",
    "where operator is one of: \n",
    "    - 'UnaryMinus'\n",
    "    - 'MonteCarlo'\n",
    "    - 'bioNormalCdf'\n",
    "    - 'PanelLikelihoodTrajectory'\n",
    "    - 'exp'\n",
    "    - 'log'"
   ]
  },
  {
   "cell_type": "code",
   "execution_count": 135,
   "metadata": {},
   "outputs": [],
   "source": [
    "m = -beta1"
   ]
  },
  {
   "cell_type": "code",
   "execution_count": 136,
   "metadata": {},
   "outputs": [
    {
     "data": {
      "text/plain": [
       "[b'<Beta>{140210835449040}\"beta1\"[0],0,0',\n",
       " b'<UnaryMinus>{140210288034720}(1),140210835449040']"
      ]
     },
     "execution_count": 136,
     "metadata": {},
     "output_type": "execute_result"
    }
   ],
   "source": [
    "m.getSignature()"
   ]
  },
  {
   "cell_type": "markdown",
   "metadata": {},
   "source": [
    "## LogLogit"
   ]
  },
  {
   "cell_type": "markdown",
   "metadata": {},
   "source": [
    "&lt;LogLogit&gt;{identifier}(nbrOfAlternatives),chosenAlt,altNumber,utility,availability,altNumber,utility,availability, etc."
   ]
  },
  {
   "cell_type": "code",
   "execution_count": 137,
   "metadata": {},
   "outputs": [
    {
     "data": {
      "text/plain": [
       "[b'<Numeric>{140210835446592},1.0',\n",
       " b'<Beta>{140210835449040}\"beta1\"[0],0,0',\n",
       " b'<UnaryMinus>{140210835450336}(1),140210835449040',\n",
       " b'<Beta>{140210835450864}\"beta2\"[0],1,1',\n",
       " b'<UnaryMinus>{140210835447360}(1),140210835450864',\n",
       " b'<Beta>{140210835449040}\"beta1\"[0],0,0',\n",
       " b'<UnaryMinus>{140210835449520}(1),140210835449040',\n",
       " b'<Numeric>{140210835440544},1.0',\n",
       " b'<Numeric>{140210835444768},1.0',\n",
       " b'<Numeric>{140210835448512},1.0',\n",
       " b'<_bioLogLogit>{140210835440928}(3),140210835446592,0,140210835450336,140210835440544,1,140210835447360,140210835444768,2,140210835449520,140210835448512']"
      ]
     },
     "execution_count": 137,
     "metadata": {},
     "output_type": "execute_result"
    }
   ],
   "source": [
    "expr7.prepare(database=myData)\n",
    "expr7.getSignature()"
   ]
  },
  {
   "cell_type": "markdown",
   "metadata": {},
   "source": [
    "## Derive"
   ]
  },
  {
   "cell_type": "markdown",
   "metadata": {},
   "source": [
    "&lt;Derive&gt;{identifier},id of expression to derive,unique index of elementary expression"
   ]
  },
  {
   "cell_type": "code",
   "execution_count": 138,
   "metadata": {},
   "outputs": [
    {
     "data": {
      "text/plain": [
       "[b'<Numeric>{140210835448560},1.0',\n",
       " b'<Beta>{140210835449040}\"beta1\"[0],0,0',\n",
       " b'<UnaryMinus>{140210835450336}(1),140210835449040',\n",
       " b'<Beta>{140210835450864}\"beta2\"[0],1,1',\n",
       " b'<UnaryMinus>{140210835447360}(1),140210835450864',\n",
       " b'<Beta>{140210835449040}\"beta1\"[0],0,0',\n",
       " b'<UnaryMinus>{140210835449520}(1),140210835449040',\n",
       " b'<Numeric>{140210835448176},1.0',\n",
       " b'<Numeric>{140210835441168},1.0',\n",
       " b'<Numeric>{140210835446976},1.0',\n",
       " b'<_bioLogLogit>{140210835442224}(3),140210835448560,0,140210835450336,140210835448176,1,140210835447360,140210835441168,2,140210835449520,140210835446976',\n",
       " b'<Derive>{140210835901456},140210835442224,1']"
      ]
     },
     "execution_count": 138,
     "metadata": {},
     "output_type": "execute_result"
    }
   ],
   "source": [
    "expr9.prepare(database=myData)\n",
    "expr9.getSignature()"
   ]
  },
  {
   "cell_type": "markdown",
   "metadata": {},
   "source": [
    "## Integrate"
   ]
  },
  {
   "cell_type": "markdown",
   "metadata": {},
   "source": [
    "&lt;Integrate&gt;{identifier},id of expression to derive,index of random variable"
   ]
  },
  {
   "cell_type": "code",
   "execution_count": 139,
   "metadata": {},
   "outputs": [
    {
     "data": {
      "text/plain": [
       "[b'<Numeric>{140210835910864},0.0',\n",
       " b'<Numeric>{140210835910384},1.0',\n",
       " b'<Numeric>{140210835910192},1.0',\n",
       " b'<RandomVariable>{140210835906496}\"omega\",0,0',\n",
       " b'<UnaryMinus>{140210835905536}(1),140210835906496',\n",
       " b'<exp>{140210835908080}(1),140210835905536',\n",
       " b'<Plus>{140210835910288}(2),140210835910192,140210835908080',\n",
       " b'<Divide>{140210835910336}(2),140210835910384,140210835910288',\n",
       " b'<Plus>{140210835910432}(2),140210835910864,140210835910336',\n",
       " b'<Numeric>{140210835910864},0.0',\n",
       " b'<Numeric>{140210835910384},1.0',\n",
       " b'<Numeric>{140210835910192},1.0',\n",
       " b'<RandomVariable>{140210835906496}\"omega\",0,0',\n",
       " b'<UnaryMinus>{140210835905536}(1),140210835906496',\n",
       " b'<exp>{140210835908080}(1),140210835905536',\n",
       " b'<Plus>{140210835910288}(2),140210835910192,140210835908080',\n",
       " b'<Divide>{140210835910336}(2),140210835910384,140210835910288',\n",
       " b'<Plus>{140210835910432}(2),140210835910864,140210835910336',\n",
       " b'<Times>{140210835908896}(2),140210835910432,140210835910432',\n",
       " b'<Numeric>{140210835914416},1.0',\n",
       " b'<RandomVariable>{140210835906496}\"omega\",0,0',\n",
       " b'<UnaryMinus>{140210835905488}(1),140210835906496',\n",
       " b'<exp>{140210835910240}(1),140210835905488',\n",
       " b'<Times>{140210835914368}(2),140210835914416,140210835910240',\n",
       " b'<Numeric>{140210835910048},1.0',\n",
       " b'<RandomVariable>{140210835906496}\"omega\",0,0',\n",
       " b'<UnaryMinus>{140210835914464}(1),140210835906496',\n",
       " b'<exp>{140210835914512}(1),140210835914464',\n",
       " b'<Plus>{140210835910096}(2),140210835910048,140210835914512',\n",
       " b'<Numeric>{140210835909952},-2.0',\n",
       " b'<Power>{140210835910000}(2),140210835910096,140210835909952',\n",
       " b'<Times>{140210835909904}(2),140210835914368,140210835910000',\n",
       " b'<Times>{140210835909856}(2),140210835908896,140210835909904',\n",
       " b'<Numeric>{140210835909760},1.0',\n",
       " b'<Divide>{140210835908848}(2),140210835909856,140210835909760',\n",
       " b'<Integrate>{140210835909664},140210835908848,0']"
      ]
     },
     "execution_count": 139,
     "metadata": {},
     "output_type": "execute_result"
    }
   ],
   "source": [
    "expr4.prepare(database=myData)\n",
    "expr4.getSignature()"
   ]
  },
  {
   "cell_type": "markdown",
   "metadata": {},
   "source": [
    "## Elem"
   ]
  },
  {
   "cell_type": "markdown",
   "metadata": {},
   "source": [
    "&lt;Elem&gt;{identifier}(numberOfExpressions),keyId,value1,expression1,value2,expression2, etc...\n",
    "\n",
    "where\n",
    "- keyId is the identifier of the expression calculating the key,\n",
    "- the number of pairs valuex,expressionx must correspond to the value of numberOfExpressions"
   ]
  },
  {
   "cell_type": "code",
   "execution_count": 140,
   "metadata": {},
   "outputs": [
    {
     "data": {
      "text/plain": [
       "[b'<Variable>{140210835158784}\"Person\",4,0',\n",
       " b'<Numeric>{140210835451536},2.0',\n",
       " b'<Beta>{140210835449040}\"beta1\"[0],0,0',\n",
       " b'<Times>{140210835448272}(2),140210835451536,140210835449040',\n",
       " b'<Beta>{140210835450864}\"beta2\"[0],1,1',\n",
       " b'<UnaryMinus>{140210835450960}(1),140210835450864',\n",
       " b'<exp>{140210835445008}(1),140210835450960',\n",
       " b'<Beta>{140210835450864}\"beta2\"[0],1,1',\n",
       " b'<Beta>{140210835447984}\"beta3\"[1],2,0',\n",
       " b'<Beta>{140210835448032}\"beta4\"[1],3,1',\n",
       " b'<GreaterOrEqual>{140210835445488}(2),140210835447984,140210835448032',\n",
       " b'<Times>{140210835442752}(2),140210835450864,140210835445488',\n",
       " b'<Beta>{140210835449040}\"beta1\"[0],0,0',\n",
       " b'<Beta>{140210835447984}\"beta3\"[1],2,0',\n",
       " b'<Beta>{140210835448032}\"beta4\"[1],3,1',\n",
       " b'<Less>{140210835447600}(2),140210835447984,140210835448032',\n",
       " b'<Times>{140210835447648}(2),140210835449040,140210835447600',\n",
       " b'<Plus>{140210835447264}(2),140210835442752,140210835447648',\n",
       " b'<Divide>{140210835447216}(2),140210835445008,140210835447264',\n",
       " b'<Minus>{140210835447744}(2),140210835448272,140210835447216',\n",
       " b'<Numeric>{140210835855808},2.0',\n",
       " b'<Beta>{140210835449040}\"beta1\"[0],0,0',\n",
       " b'<Times>{140210835849904}(2),140210835855808,140210835449040',\n",
       " b'<Variable>{140210835158112}\"Variable1\",6,2',\n",
       " b'<Times>{140210835855232}(2),140210835849904,140210835158112',\n",
       " b'<Beta>{140210835450864}\"beta2\"[0],1,1',\n",
       " b'<UnaryMinus>{140210835855904}(1),140210835450864',\n",
       " b'<Variable>{140210835152880}\"Variable2\",7,3',\n",
       " b'<Times>{140210835855952}(2),140210835855904,140210835152880',\n",
       " b'<exp>{140210835856000}(1),140210835855952',\n",
       " b'<Beta>{140210835450864}\"beta2\"[0],1,1',\n",
       " b'<Beta>{140210835447984}\"beta3\"[1],2,0',\n",
       " b'<Beta>{140210835448032}\"beta4\"[1],3,1',\n",
       " b'<GreaterOrEqual>{140210835856048}(2),140210835447984,140210835448032',\n",
       " b'<Times>{140210835856096}(2),140210835450864,140210835856048',\n",
       " b'<Beta>{140210835449040}\"beta1\"[0],0,0',\n",
       " b'<Beta>{140210835447984}\"beta3\"[1],2,0',\n",
       " b'<Beta>{140210835448032}\"beta4\"[1],3,1',\n",
       " b'<Less>{140210835856720}(2),140210835447984,140210835448032',\n",
       " b'<Times>{140210835858304}(2),140210835449040,140210835856720',\n",
       " b'<Plus>{140210835858352}(2),140210835856096,140210835858304',\n",
       " b'<Divide>{140210835858400}(2),140210835856000,140210835858352',\n",
       " b'<Minus>{140210835855664}(2),140210835855232,140210835858400',\n",
       " b'<Elem>{140210835907984}(2),140210835158784,1,140210835447744,2,140210835855664']"
      ]
     },
     "execution_count": 140,
     "metadata": {},
     "output_type": "execute_result"
    }
   ],
   "source": [
    "elemExpr.prepare(database=myData)\n",
    "elemExpr.getSignature()"
   ]
  },
  {
   "cell_type": "markdown",
   "metadata": {},
   "source": [
    "## bioLinearUtility"
   ]
  },
  {
   "cell_type": "markdown",
   "metadata": {},
   "source": [
    "&lt;bioLinearUtility&gt;{identifier}(numberOfTerms), beta1_exprId, beta1_uniqueId, beta1_name, variable1_exprId, variable1_uniqueId, variable1_name, etc...\n",
    "\n",
    "where 6 entries are provided for each term:\n",
    "    - beta1_exprId is the expression id of the beta parameter\n",
    "    - beta1_uniqueId is the unique id of the beta parameter\n",
    "    - beta1_name is the name of the parameter\n",
    "    - variable1_exprId is the expression id of the variable\n",
    "    - variable1_uniqueId is the unique id of the variable\n",
    "    - variable1_name is the name of the variable\n"
   ]
  },
  {
   "cell_type": "code",
   "execution_count": 141,
   "metadata": {},
   "outputs": [
    {
     "data": {
      "text/plain": [
       "[b'<Beta>{140210835449040}\"beta1\"[0],0,0',\n",
       " b'<Beta>{140210835450864}\"beta2\"[0],1,1',\n",
       " b'<Beta>{140210835447984}\"beta3\"[1],2,0',\n",
       " b'<Variable>{140210287755904}\"Variable1\",5,2',\n",
       " b'<Variable>{140210287757824}\"Variable2\",6,3',\n",
       " b'<Variable>{140210287757200}\"newvar_b\",11,8',\n",
       " b'<bioLinearUtility>{140210287759552}(3),140210835449040,0,beta1,140210287755904,5,Variable1,140210835450864,1,beta2,140210287757824,6,Variable2,140210835447984,2,beta3,140210287757200,11,newvar_b']"
      ]
     },
     "execution_count": 141,
     "metadata": {},
     "output_type": "execute_result"
    }
   ],
   "source": [
    "expr13.prepare(database=myData)\n",
    "expr13.getSignature()"
   ]
  },
  {
   "cell_type": "code",
   "execution_count": null,
   "metadata": {},
   "outputs": [],
   "source": []
  }
 ],
 "metadata": {
  "kernelspec": {
   "display_name": "Python 3 (ipykernel)",
   "language": "python",
   "name": "python3"
  },
  "language_info": {
   "codemirror_mode": {
    "name": "ipython",
    "version": 3
   },
   "file_extension": ".py",
   "mimetype": "text/x-python",
   "name": "python",
   "nbconvert_exporter": "python",
   "pygments_lexer": "ipython3",
   "version": "3.10.4"
  }
 },
 "nbformat": 4,
 "nbformat_minor": 2
}
