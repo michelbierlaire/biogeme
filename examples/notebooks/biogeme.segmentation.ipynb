{
 "cells": [
  {
   "cell_type": "markdown",
   "id": "04317e3f",
   "metadata": {},
   "source": [
    "# biogeme.segmentation"
   ]
  },
  {
   "cell_type": "markdown",
   "id": "c1485b0f",
   "metadata": {},
   "source": [
    "## Examples of use"
   ]
  },
  {
   "cell_type": "markdown",
   "id": "ff6ad736",
   "metadata": {},
   "source": [
    "This webpage is for programmers who need examples of use of the functions of the module. The examples are designed to illustrate the syntax. They do not correspond to any meaningful model. For examples of models, visit  [biogeme.epfl.ch](http://biogeme.epfl.ch)."
   ]
  },
  {
   "cell_type": "code",
   "execution_count": 1,
   "id": "3ba33b9a",
   "metadata": {},
   "outputs": [
    {
     "name": "stdout",
     "output_type": "stream",
     "text": [
      "2022-04-10 18:24:28.464255\n"
     ]
    }
   ],
   "source": [
    "import datetime\n",
    "print(datetime.datetime.now())"
   ]
  },
  {
   "cell_type": "code",
   "execution_count": 2,
   "id": "c2cd8a20",
   "metadata": {},
   "outputs": [
    {
     "name": "stdout",
     "output_type": "stream",
     "text": [
      "biogeme 3.2.9a [2022-04-10]\n",
      "Version entirely written in Python\n",
      "Home page: http://biogeme.epfl.ch\n",
      "Submit questions to https://groups.google.com/d/forum/biogeme\n",
      "Michel Bierlaire, Transport and Mobility Laboratory, Ecole Polytechnique Fédérale de Lausanne (EPFL)\n",
      "\n"
     ]
    }
   ],
   "source": [
    "import biogeme.version as ver\n",
    "print(ver.getText())"
   ]
  },
  {
   "cell_type": "code",
   "execution_count": 3,
   "id": "8ac43332",
   "metadata": {},
   "outputs": [],
   "source": [
    "import biogeme.segmentation as seg\n",
    "from biogeme.expressions import Variable, Beta"
   ]
  },
  {
   "cell_type": "code",
   "execution_count": 4,
   "id": "69141a70",
   "metadata": {},
   "outputs": [],
   "source": [
    "socio_eco_1 = Variable('socio_eco_1')"
   ]
  },
  {
   "cell_type": "code",
   "execution_count": 5,
   "id": "4efc6035",
   "metadata": {},
   "outputs": [],
   "source": [
    "segmentation_1 = seg.SegmentationTuple(\n",
    "    variable=socio_eco_1,\n",
    "    mapping={\n",
    "        1: 'high',\n",
    "        2: 'medium',\n",
    "        3: 'low',\n",
    "    }\n",
    ")"
   ]
  },
  {
   "cell_type": "code",
   "execution_count": 6,
   "id": "1e3e4eea",
   "metadata": {},
   "outputs": [],
   "source": [
    "socio_eco_2 = Variable('socio_eco_2')"
   ]
  },
  {
   "cell_type": "code",
   "execution_count": 7,
   "id": "5087957f",
   "metadata": {},
   "outputs": [],
   "source": [
    "segmentation_2 = seg.SegmentationTuple(\n",
    "    variable=socio_eco_2,\n",
    "    mapping={\n",
    "        1: 'level_1',\n",
    "        2: 'level_2',\n",
    "        3: 'level_3',\n",
    "        4: 'level_4',\n",
    "    }\n",
    ")"
   ]
  },
  {
   "cell_type": "code",
   "execution_count": 8,
   "id": "432f5fa0",
   "metadata": {},
   "outputs": [],
   "source": [
    "beta_x = Beta('beta_x', 0, None, None, 0)"
   ]
  },
  {
   "cell_type": "code",
   "execution_count": 9,
   "id": "a2d2ac30",
   "metadata": {},
   "outputs": [
    {
     "data": {
      "text/plain": [
       "{1: beta_x_high(0), 2: beta_x_medium(0), 3: beta_x_low(0)}"
      ]
     },
     "execution_count": 9,
     "metadata": {},
     "output_type": "execute_result"
    }
   ],
   "source": [
    "segmented_parameter = seg.create_segmented_parameter(beta_x, segmentation_1.mapping)\n",
    "segmented_parameter"
   ]
  },
  {
   "cell_type": "code",
   "execution_count": 10,
   "id": "870fd141",
   "metadata": {},
   "outputs": [
    {
     "data": {
      "text/plain": [
       "bioMultSum((beta_x_high(0) * (socio_eco_1 == `1`)), (beta_x_medium(0) * (socio_eco_1 == `2`)), (beta_x_low(0) * (socio_eco_1 == `3`)))"
      ]
     },
     "execution_count": 10,
     "metadata": {},
     "output_type": "execute_result"
    }
   ],
   "source": [
    "expr = seg.combine_segmented_expressions(socio_eco_1, segmented_parameter)\n",
    "expr"
   ]
  },
  {
   "cell_type": "code",
   "execution_count": 11,
   "id": "389b4063",
   "metadata": {},
   "outputs": [
    {
     "name": "stdout",
     "output_type": "stream",
     "text": [
      "beta_socio_eco_1_1 = beta * (socio_eco_1 == 1)\n",
      "beta_socio_eco_1_2 = beta * (socio_eco_1 == 2)\n",
      "beta_socio_eco_1_3 = beta * (socio_eco_1 == 3)\n",
      "beta_socio_eco_1 = bioMultSum([beta_socio_eco_1_1, beta_socio_eco_1_2, beta_socio_eco_1_3])\n",
      "\n"
     ]
    }
   ],
   "source": [
    "code = seg.code_to_combine_segmented_expressions(socio_eco_1, segmented_parameter, 'beta')\n",
    "print(code)"
   ]
  },
  {
   "cell_type": "code",
   "execution_count": 12,
   "id": "bfddf82a",
   "metadata": {},
   "outputs": [
    {
     "data": {
      "text/plain": [
       "bioMultSum((bioMultSum((beta_x_level_1_high(0) * (socio_eco_1 == `1`)), (beta_x_level_1_medium(0) * (socio_eco_1 == `2`)), (beta_x_level_1_low(0) * (socio_eco_1 == `3`))) * (socio_eco_2 == `1`)), (bioMultSum((beta_x_level_2_high(0) * (socio_eco_1 == `1`)), (beta_x_level_2_medium(0) * (socio_eco_1 == `2`)), (beta_x_level_2_low(0) * (socio_eco_1 == `3`))) * (socio_eco_2 == `2`)), (bioMultSum((beta_x_level_3_high(0) * (socio_eco_1 == `1`)), (beta_x_level_3_medium(0) * (socio_eco_1 == `2`)), (beta_x_level_3_low(0) * (socio_eco_1 == `3`))) * (socio_eco_2 == `3`)), (bioMultSum((beta_x_level_4_high(0) * (socio_eco_1 == `1`)), (beta_x_level_4_medium(0) * (socio_eco_1 == `2`)), (beta_x_level_4_low(0) * (socio_eco_1 == `3`))) * (socio_eco_2 == `4`)))"
      ]
     },
     "execution_count": 12,
     "metadata": {},
     "output_type": "execute_result"
    }
   ],
   "source": [
    "segmented_parameter_comb = seg.segment_parameter(beta_x, [segmentation_1, segmentation_2], combinatorial=True)\n",
    "segmented_parameter_comb"
   ]
  },
  {
   "cell_type": "code",
   "execution_count": 13,
   "id": "74af915e",
   "metadata": {},
   "outputs": [
    {
     "data": {
      "text/plain": [
       "bioMultSum((beta_x_high(0) * (socio_eco_1 == `1`)), (beta_x_medium(0) * (socio_eco_1 == `2`)), (beta_x_low(0) * (socio_eco_1 == `3`)), (beta_x_level_1(0) * (socio_eco_2 == `1`)), (beta_x_level_2(0) * (socio_eco_2 == `2`)), (beta_x_level_3(0) * (socio_eco_2 == `3`)), (beta_x_level_4(0) * (socio_eco_2 == `4`)))"
      ]
     },
     "execution_count": 13,
     "metadata": {},
     "output_type": "execute_result"
    }
   ],
   "source": [
    "segmented_parameter_lin = seg.segment_parameter(beta_x, [segmentation_1, segmentation_2], combinatorial=False)\n",
    "segmented_parameter_lin"
   ]
  },
  {
   "cell_type": "code",
   "execution_count": null,
   "id": "d2508e16",
   "metadata": {},
   "outputs": [],
   "source": []
  }
 ],
 "metadata": {
  "kernelspec": {
   "display_name": "Python 3 (ipykernel)",
   "language": "python",
   "name": "python3"
  },
  "language_info": {
   "codemirror_mode": {
    "name": "ipython",
    "version": 3
   },
   "file_extension": ".py",
   "mimetype": "text/x-python",
   "name": "python",
   "nbconvert_exporter": "python",
   "pygments_lexer": "ipython3",
   "version": "3.10.0"
  }
 },
 "nbformat": 4,
 "nbformat_minor": 5
}
