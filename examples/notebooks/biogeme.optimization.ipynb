{
 "cells": [
  {
   "cell_type": "markdown",
   "metadata": {},
   "source": [
    "# Module biogeme.optimization "
   ]
  },
  {
   "cell_type": "markdown",
   "metadata": {},
   "source": [
    "## Examples of use of each function"
   ]
  },
  {
   "cell_type": "markdown",
   "metadata": {},
   "source": [
    "This webpage is for programmers who need examples of use of the functions of the class. The examples are designed to illustrate the syntax. They do not correspond to any meaningful model. For examples of models, visit  [biogeme.epfl.ch](http://biogeme.epfl.ch)."
   ]
  },
  {
   "cell_type": "code",
   "execution_count": 1,
   "metadata": {},
   "outputs": [
    {
     "name": "stdout",
     "output_type": "stream",
     "text": [
      "2021-10-26 16:03:50.675276\n"
     ]
    }
   ],
   "source": [
    "import datetime\n",
    "print(datetime.datetime.now())"
   ]
  },
  {
   "cell_type": "code",
   "execution_count": 2,
   "metadata": {},
   "outputs": [
    {
     "name": "stdout",
     "output_type": "stream",
     "text": [
      "biogeme 3.2.9a [2021-10-26]\n",
      "Version entirely written in Python\n",
      "Home page: http://biogeme.epfl.ch\n",
      "Submit questions to https://groups.google.com/d/forum/biogeme\n",
      "Michel Bierlaire, Transport and Mobility Laboratory, Ecole Polytechnique Fédérale de Lausanne (EPFL)\n",
      "\n"
     ]
    }
   ],
   "source": [
    "import biogeme.version as ver\n",
    "print(ver.getText())"
   ]
  },
  {
   "cell_type": "code",
   "execution_count": 3,
   "metadata": {},
   "outputs": [],
   "source": [
    "import numpy as np\n",
    "import pandas as pd"
   ]
  },
  {
   "cell_type": "code",
   "execution_count": 4,
   "metadata": {},
   "outputs": [],
   "source": [
    "%matplotlib inline\n",
    "import matplotlib\n",
    "import matplotlib.pyplot as plt"
   ]
  },
  {
   "cell_type": "code",
   "execution_count": 5,
   "metadata": {},
   "outputs": [],
   "source": [
    "import biogeme.optimization as opt\n",
    "import biogeme.biogeme as bio\n",
    "import biogeme.database as db\n",
    "import biogeme.models as models\n",
    "from biogeme.expressions import Beta, Variable\n"
   ]
  },
  {
   "cell_type": "markdown",
   "metadata": {},
   "source": [
    "Define the verbosity of Biogeme"
   ]
  },
  {
   "cell_type": "code",
   "execution_count": 6,
   "metadata": {},
   "outputs": [],
   "source": [
    "import biogeme.messaging as msg\n",
    "logger = msg.bioMessage()\n",
    "logger.setSilent()\n",
    "#logger.setDetailed()\n",
    "#logger.setDebug()"
   ]
  },
  {
   "cell_type": "markdown",
   "metadata": {},
   "source": [
    "# Biogeme example"
   ]
  },
  {
   "cell_type": "code",
   "execution_count": 7,
   "metadata": {},
   "outputs": [
    {
     "name": "stdout",
     "output_type": "stream",
     "text": [
      "simpleExample: database [test]{'loglike': _bioLogLogitFullChoiceSet(1:(beta1(0) * Variable1), 2:(beta2(0) * Variable2), 3:`0`)}\n",
      "simpleExample: database [test]{'loglike': _bioLogLogitFullChoiceSet(1:(beta1(0) * Variable1), 2:(beta2(0) * Variable2), 3:`0`)}\n"
     ]
    }
   ],
   "source": [
    "df = pd.DataFrame({'Person': [1, 1, 1, 2, 2],\n",
    "                   'Exclude': [0, 0, 1, 0, 1],\n",
    "                   'Variable1': [1, 2, 3, 4, 5],\n",
    "                   'Variable2': [10, 20, 30,40, 50],\n",
    "                   'Choice': [1, 2, 3, 1, 2],\n",
    "                   'Av1': [0, 1, 1, 1, 1],\n",
    "                   'Av2': [1, 1, 1, 1, 1],\n",
    "                   'Av3': [0, 1, 1, 1, 1]})\n",
    "myData = db.Database('test', df)\n",
    "\n",
    "Choice = Variable('Choice')\n",
    "Variable1 = Variable('Variable1')\n",
    "Variable2 = Variable('Variable2')\n",
    "beta1 = Beta('beta1', 0, None, None, 0)\n",
    "beta2 = Beta('beta2', 0, None, None, 0)\n",
    "V1 = beta1 * Variable1\n",
    "V2 = beta2 * Variable2\n",
    "V3 = 0\n",
    "V ={1: V1,2: V2,3: V3}\n",
    "\n",
    "likelihood = models.loglogit(V, av=None, i=Choice)\n",
    "myBiogeme = bio.BIOGEME(myData, likelihood)\n",
    "myBiogeme.modelName = 'simpleExample'\n",
    "myBiogeme.saveIterations = False\n",
    "myBiogeme.generateHtml = False\n",
    "myBiogeme.generatePickle = False\n",
    "print(myBiogeme)"
   ]
  },
  {
   "cell_type": "code",
   "execution_count": 8,
   "metadata": {},
   "outputs": [],
   "source": [
    "f, g, h, gdiff, hdiff = myBiogeme.checkDerivatives(verbose=True)"
   ]
  },
  {
   "cell_type": "code",
   "execution_count": 9,
   "metadata": {},
   "outputs": [
    {
     "data": {
      "text/plain": [
       "array([6.03961326e-07, 6.11038797e-05])"
      ]
     },
     "execution_count": 9,
     "metadata": {},
     "output_type": "execute_result"
    }
   ],
   "source": [
    "gdiff"
   ]
  },
  {
   "cell_type": "code",
   "execution_count": 10,
   "metadata": {},
   "outputs": [
    {
     "data": {
      "text/plain": [
       "array([[ 8.31415072e-07, -4.16670705e-05],\n",
       "       [-4.27475899e-06,  8.33270355e-04]])"
      ]
     },
     "execution_count": 10,
     "metadata": {},
     "output_type": "execute_result"
    }
   ],
   "source": [
    "hdiff"
   ]
  },
  {
   "cell_type": "markdown",
   "metadata": {},
   "source": [
    "## scipy"
   ]
  },
  {
   "cell_type": "markdown",
   "metadata": {},
   "source": [
    "This is the optimization algorithm from scipy. It is possible to transfer parameters to the algorithm. We include here an irrelevant parameter to illustrate the warning. "
   ]
  },
  {
   "cell_type": "code",
   "execution_count": 11,
   "metadata": {},
   "outputs": [
    {
     "name": "stderr",
     "output_type": "stream",
     "text": [
      "/Users/michelbierlaire/opt/anaconda3/envs/python39/lib/python3.9/site-packages/biogeme-3.2.9a0-py3.9-macosx-10.9-x86_64.egg/biogeme/optimization.py:74: OptimizeWarning: Unknown solver options: myparam\n",
      "  results = sc.minimize(\n"
     ]
    },
    {
     "data": {
      "text/html": [
       "<div>\n",
       "<style scoped>\n",
       "    .dataframe tbody tr th:only-of-type {\n",
       "        vertical-align: middle;\n",
       "    }\n",
       "\n",
       "    .dataframe tbody tr th {\n",
       "        vertical-align: top;\n",
       "    }\n",
       "\n",
       "    .dataframe thead th {\n",
       "        text-align: right;\n",
       "    }\n",
       "</style>\n",
       "<table border=\"1\" class=\"dataframe\">\n",
       "  <thead>\n",
       "    <tr style=\"text-align: right;\">\n",
       "      <th></th>\n",
       "      <th>Value</th>\n",
       "      <th>Std err</th>\n",
       "      <th>t-test</th>\n",
       "      <th>p-value</th>\n",
       "      <th>Rob. Std err</th>\n",
       "      <th>Rob. t-test</th>\n",
       "      <th>Rob. p-value</th>\n",
       "    </tr>\n",
       "  </thead>\n",
       "  <tbody>\n",
       "    <tr>\n",
       "      <th>beta1</th>\n",
       "      <td>0.144546</td>\n",
       "      <td>0.391017</td>\n",
       "      <td>0.369666</td>\n",
       "      <td>0.711632</td>\n",
       "      <td>0.366198</td>\n",
       "      <td>0.394720</td>\n",
       "      <td>0.693049</td>\n",
       "    </tr>\n",
       "    <tr>\n",
       "      <th>beta2</th>\n",
       "      <td>0.023502</td>\n",
       "      <td>0.036947</td>\n",
       "      <td>0.636086</td>\n",
       "      <td>0.524720</td>\n",
       "      <td>0.034280</td>\n",
       "      <td>0.685574</td>\n",
       "      <td>0.492982</td>\n",
       "    </tr>\n",
       "  </tbody>\n",
       "</table>\n",
       "</div>"
      ],
      "text/plain": [
       "          Value   Std err    t-test   p-value  Rob. Std err  Rob. t-test  \\\n",
       "beta1  0.144546  0.391017  0.369666  0.711632      0.366198     0.394720   \n",
       "beta2  0.023502  0.036947  0.636086  0.524720      0.034280     0.685574   \n",
       "\n",
       "       Rob. p-value  \n",
       "beta1      0.693049  \n",
       "beta2      0.492982  "
      ]
     },
     "execution_count": 11,
     "metadata": {},
     "output_type": "execute_result"
    }
   ],
   "source": [
    "results = myBiogeme.estimate(algorithm=opt.scipy, \n",
    "                             algoParameters={'myparam':3})\n",
    "results.getEstimatedParameters()"
   ]
  },
  {
   "cell_type": "code",
   "execution_count": 12,
   "metadata": {},
   "outputs": [
    {
     "name": "stdout",
     "output_type": "stream",
     "text": [
      "Algorithm:\tscipy.optimize\n",
      "Cause of termination:\tCONVERGENCE: NORM_OF_PROJECTED_GRADIENT_<=_PGTOL\n",
      "Number of iterations:\t13\n",
      "Number of function evaluations:\t16\n",
      "Optimization time:\t0:00:00.005071\n"
     ]
    }
   ],
   "source": [
    "for k, v in results.data.optimizationMessages.items():\n",
    "    print(f'{k}:\\t{v}')"
   ]
  },
  {
   "cell_type": "markdown",
   "metadata": {},
   "source": [
    "## Newton with linesearch"
   ]
  },
  {
   "cell_type": "code",
   "execution_count": 13,
   "metadata": {},
   "outputs": [
    {
     "data": {
      "text/html": [
       "<div>\n",
       "<style scoped>\n",
       "    .dataframe tbody tr th:only-of-type {\n",
       "        vertical-align: middle;\n",
       "    }\n",
       "\n",
       "    .dataframe tbody tr th {\n",
       "        vertical-align: top;\n",
       "    }\n",
       "\n",
       "    .dataframe thead th {\n",
       "        text-align: right;\n",
       "    }\n",
       "</style>\n",
       "<table border=\"1\" class=\"dataframe\">\n",
       "  <thead>\n",
       "    <tr style=\"text-align: right;\">\n",
       "      <th></th>\n",
       "      <th>Value</th>\n",
       "      <th>Std err</th>\n",
       "      <th>t-test</th>\n",
       "      <th>p-value</th>\n",
       "      <th>Rob. Std err</th>\n",
       "      <th>Rob. t-test</th>\n",
       "      <th>Rob. p-value</th>\n",
       "    </tr>\n",
       "  </thead>\n",
       "  <tbody>\n",
       "    <tr>\n",
       "      <th>beta1</th>\n",
       "      <td>0.144545</td>\n",
       "      <td>0.391017</td>\n",
       "      <td>0.369665</td>\n",
       "      <td>0.711632</td>\n",
       "      <td>0.366198</td>\n",
       "      <td>0.394720</td>\n",
       "      <td>0.693050</td>\n",
       "    </tr>\n",
       "    <tr>\n",
       "      <th>beta2</th>\n",
       "      <td>0.023502</td>\n",
       "      <td>0.036947</td>\n",
       "      <td>0.636086</td>\n",
       "      <td>0.524720</td>\n",
       "      <td>0.034280</td>\n",
       "      <td>0.685573</td>\n",
       "      <td>0.492982</td>\n",
       "    </tr>\n",
       "  </tbody>\n",
       "</table>\n",
       "</div>"
      ],
      "text/plain": [
       "          Value   Std err    t-test   p-value  Rob. Std err  Rob. t-test  \\\n",
       "beta1  0.144545  0.391017  0.369665  0.711632      0.366198     0.394720   \n",
       "beta2  0.023502  0.036947  0.636086  0.524720      0.034280     0.685573   \n",
       "\n",
       "       Rob. p-value  \n",
       "beta1      0.693050  \n",
       "beta2      0.492982  "
      ]
     },
     "execution_count": 13,
     "metadata": {},
     "output_type": "execute_result"
    }
   ],
   "source": [
    "results = myBiogeme.estimate(algorithm=opt.newtonLineSearchForBiogeme)\n",
    "results.getEstimatedParameters()"
   ]
  },
  {
   "cell_type": "code",
   "execution_count": 14,
   "metadata": {},
   "outputs": [
    {
     "name": "stdout",
     "output_type": "stream",
     "text": [
      "Algorithm:\tUnconstrained Newton with line search\n",
      "Relative gradient:\t3.43067908440321e-07\n",
      "Number of iterations:\t3\n",
      "Number of function evaluations:\t10\n",
      "Number of gradient evaluations:\t10\n",
      "Number of hessian evaluations:\t4\n",
      "Cause of termination:\tRelative gradient = 3.4e-07 <= 6.1e-06\n",
      "Optimization time:\t0:00:00.003244\n"
     ]
    }
   ],
   "source": [
    "for k, v in results.data.optimizationMessages.items():\n",
    "    print(f'{k}:\\t{v}')"
   ]
  },
  {
   "cell_type": "markdown",
   "metadata": {},
   "source": [
    "Changing the requested precision\n"
   ]
  },
  {
   "cell_type": "code",
   "execution_count": 15,
   "metadata": {},
   "outputs": [
    {
     "data": {
      "text/html": [
       "<div>\n",
       "<style scoped>\n",
       "    .dataframe tbody tr th:only-of-type {\n",
       "        vertical-align: middle;\n",
       "    }\n",
       "\n",
       "    .dataframe tbody tr th {\n",
       "        vertical-align: top;\n",
       "    }\n",
       "\n",
       "    .dataframe thead th {\n",
       "        text-align: right;\n",
       "    }\n",
       "</style>\n",
       "<table border=\"1\" class=\"dataframe\">\n",
       "  <thead>\n",
       "    <tr style=\"text-align: right;\">\n",
       "      <th></th>\n",
       "      <th>Value</th>\n",
       "      <th>Std err</th>\n",
       "      <th>t-test</th>\n",
       "      <th>p-value</th>\n",
       "      <th>Rob. Std err</th>\n",
       "      <th>Rob. t-test</th>\n",
       "      <th>Rob. p-value</th>\n",
       "    </tr>\n",
       "  </thead>\n",
       "  <tbody>\n",
       "    <tr>\n",
       "      <th>beta1</th>\n",
       "      <td>0.144317</td>\n",
       "      <td>0.390742</td>\n",
       "      <td>0.369340</td>\n",
       "      <td>0.711874</td>\n",
       "      <td>0.365691</td>\n",
       "      <td>0.394641</td>\n",
       "      <td>0.693108</td>\n",
       "    </tr>\n",
       "    <tr>\n",
       "      <th>beta2</th>\n",
       "      <td>0.023428</td>\n",
       "      <td>0.036930</td>\n",
       "      <td>0.634377</td>\n",
       "      <td>0.525835</td>\n",
       "      <td>0.034256</td>\n",
       "      <td>0.683887</td>\n",
       "      <td>0.494047</td>\n",
       "    </tr>\n",
       "  </tbody>\n",
       "</table>\n",
       "</div>"
      ],
      "text/plain": [
       "          Value   Std err    t-test   p-value  Rob. Std err  Rob. t-test  \\\n",
       "beta1  0.144317  0.390742  0.369340  0.711874      0.365691     0.394641   \n",
       "beta2  0.023428  0.036930  0.634377  0.525835      0.034256     0.683887   \n",
       "\n",
       "       Rob. p-value  \n",
       "beta1      0.693108  \n",
       "beta2      0.494047  "
      ]
     },
     "execution_count": 15,
     "metadata": {},
     "output_type": "execute_result"
    }
   ],
   "source": [
    "results = myBiogeme.\\\n",
    "estimate(algorithm=opt.newtonLineSearchForBiogeme,\n",
    "         algoParameters={'tolerance': 0.1})\n",
    "results.getEstimatedParameters()"
   ]
  },
  {
   "cell_type": "code",
   "execution_count": 16,
   "metadata": {},
   "outputs": [
    {
     "name": "stdout",
     "output_type": "stream",
     "text": [
      "Algorithm:\tUnconstrained Newton with line search\n",
      "Relative gradient:\t0.015380029144206175\n",
      "Number of iterations:\t2\n",
      "Number of function evaluations:\t7\n",
      "Number of gradient evaluations:\t7\n",
      "Number of hessian evaluations:\t3\n",
      "Cause of termination:\tRelative gradient = 0.015 <= 0.1\n",
      "Optimization time:\t0:00:00.001905\n"
     ]
    }
   ],
   "source": [
    "for k, v in results.data.optimizationMessages.items():\n",
    "    print(f'{k}:\\t{v}')"
   ]
  },
  {
   "cell_type": "markdown",
   "metadata": {},
   "source": [
    "## Newton with trust region"
   ]
  },
  {
   "cell_type": "code",
   "execution_count": 17,
   "metadata": {},
   "outputs": [
    {
     "data": {
      "text/html": [
       "<div>\n",
       "<style scoped>\n",
       "    .dataframe tbody tr th:only-of-type {\n",
       "        vertical-align: middle;\n",
       "    }\n",
       "\n",
       "    .dataframe tbody tr th {\n",
       "        vertical-align: top;\n",
       "    }\n",
       "\n",
       "    .dataframe thead th {\n",
       "        text-align: right;\n",
       "    }\n",
       "</style>\n",
       "<table border=\"1\" class=\"dataframe\">\n",
       "  <thead>\n",
       "    <tr style=\"text-align: right;\">\n",
       "      <th></th>\n",
       "      <th>Value</th>\n",
       "      <th>Std err</th>\n",
       "      <th>t-test</th>\n",
       "      <th>p-value</th>\n",
       "      <th>Rob. Std err</th>\n",
       "      <th>Rob. t-test</th>\n",
       "      <th>Rob. p-value</th>\n",
       "    </tr>\n",
       "  </thead>\n",
       "  <tbody>\n",
       "    <tr>\n",
       "      <th>beta1</th>\n",
       "      <td>0.144545</td>\n",
       "      <td>0.391017</td>\n",
       "      <td>0.369665</td>\n",
       "      <td>0.711632</td>\n",
       "      <td>0.366198</td>\n",
       "      <td>0.394720</td>\n",
       "      <td>0.693050</td>\n",
       "    </tr>\n",
       "    <tr>\n",
       "      <th>beta2</th>\n",
       "      <td>0.023502</td>\n",
       "      <td>0.036947</td>\n",
       "      <td>0.636086</td>\n",
       "      <td>0.524720</td>\n",
       "      <td>0.034280</td>\n",
       "      <td>0.685573</td>\n",
       "      <td>0.492982</td>\n",
       "    </tr>\n",
       "  </tbody>\n",
       "</table>\n",
       "</div>"
      ],
      "text/plain": [
       "          Value   Std err    t-test   p-value  Rob. Std err  Rob. t-test  \\\n",
       "beta1  0.144545  0.391017  0.369665  0.711632      0.366198     0.394720   \n",
       "beta2  0.023502  0.036947  0.636086  0.524720      0.034280     0.685573   \n",
       "\n",
       "       Rob. p-value  \n",
       "beta1      0.693050  \n",
       "beta2      0.492982  "
      ]
     },
     "execution_count": 17,
     "metadata": {},
     "output_type": "execute_result"
    }
   ],
   "source": [
    "results = myBiogeme.estimate(algorithm=opt.newtonTrustRegionForBiogeme)\n",
    "results.getEstimatedParameters()"
   ]
  },
  {
   "cell_type": "code",
   "execution_count": 18,
   "metadata": {},
   "outputs": [
    {
     "name": "stdout",
     "output_type": "stream",
     "text": [
      "Algorithm:\tUnconstrained Newton with trust region\n",
      "Relative gradient:\t3.289367618372832e-07\n",
      "Cause of termination:\tRelative gradient = 3.3e-07 <= 6.1e-06\n",
      "Number of iterations:\t3\n",
      "Number of function evaluations:\t6\n",
      "Number of gradient evaluations:\t4\n",
      "Number of hessian evaluations:\t4\n",
      "Optimization time:\t0:00:00.001830\n"
     ]
    }
   ],
   "source": [
    "for k, v in results.data.optimizationMessages.items():\n",
    "    print(f'{k}:\\t{v}')"
   ]
  },
  {
   "cell_type": "markdown",
   "metadata": {},
   "source": [
    "We illustrate the parameters. We use the truncated conjugate gradient instead of dogleg for the trust region subproblem, starting with a small trust region of radius 0.001, and a maximum of 3 iterations."
   ]
  },
  {
   "cell_type": "code",
   "execution_count": 19,
   "metadata": {},
   "outputs": [
    {
     "data": {
      "text/html": [
       "<div>\n",
       "<style scoped>\n",
       "    .dataframe tbody tr th:only-of-type {\n",
       "        vertical-align: middle;\n",
       "    }\n",
       "\n",
       "    .dataframe tbody tr th {\n",
       "        vertical-align: top;\n",
       "    }\n",
       "\n",
       "    .dataframe thead th {\n",
       "        text-align: right;\n",
       "    }\n",
       "</style>\n",
       "<table border=\"1\" class=\"dataframe\">\n",
       "  <thead>\n",
       "    <tr style=\"text-align: right;\">\n",
       "      <th></th>\n",
       "      <th>Value</th>\n",
       "      <th>Std err</th>\n",
       "      <th>t-test</th>\n",
       "      <th>p-value</th>\n",
       "      <th>Rob. Std err</th>\n",
       "      <th>Rob. t-test</th>\n",
       "      <th>Rob. p-value</th>\n",
       "    </tr>\n",
       "  </thead>\n",
       "  <tbody>\n",
       "    <tr>\n",
       "      <th>beta1</th>\n",
       "      <td>0.000053</td>\n",
       "      <td>0.348093</td>\n",
       "      <td>0.000151</td>\n",
       "      <td>0.99988</td>\n",
       "      <td>0.308910</td>\n",
       "      <td>0.000170</td>\n",
       "      <td>0.999864</td>\n",
       "    </tr>\n",
       "    <tr>\n",
       "      <th>beta2</th>\n",
       "      <td>0.007000</td>\n",
       "      <td>0.032583</td>\n",
       "      <td>0.214830</td>\n",
       "      <td>0.82990</td>\n",
       "      <td>0.030019</td>\n",
       "      <td>0.233173</td>\n",
       "      <td>0.815627</td>\n",
       "    </tr>\n",
       "  </tbody>\n",
       "</table>\n",
       "</div>"
      ],
      "text/plain": [
       "          Value   Std err    t-test  p-value  Rob. Std err  Rob. t-test  \\\n",
       "beta1  0.000053  0.348093  0.000151  0.99988      0.308910     0.000170   \n",
       "beta2  0.007000  0.032583  0.214830  0.82990      0.030019     0.233173   \n",
       "\n",
       "       Rob. p-value  \n",
       "beta1      0.999864  \n",
       "beta2      0.815627  "
      ]
     },
     "execution_count": 19,
     "metadata": {},
     "output_type": "execute_result"
    }
   ],
   "source": [
    "results = myBiogeme.\\\n",
    "estimate(algorithm=opt.newtonTrustRegionForBiogeme,\n",
    "         algoParameters={'dogleg':False,\n",
    "                         'radius':0.001,\n",
    "                         'maxiter':3})\n",
    "results.getEstimatedParameters()"
   ]
  },
  {
   "cell_type": "code",
   "execution_count": 20,
   "metadata": {},
   "outputs": [
    {
     "name": "stdout",
     "output_type": "stream",
     "text": [
      "Algorithm:\tUnconstrained Newton with trust region\n",
      "Relative gradient:\t2.0182963630997235\n",
      "Cause of termination:\tMaximum number of iterations reached: 3\n",
      "Number of iterations:\t3\n",
      "Number of function evaluations:\t6\n",
      "Number of gradient evaluations:\t4\n",
      "Number of hessian evaluations:\t4\n",
      "Optimization time:\t0:00:00.002176\n"
     ]
    }
   ],
   "source": [
    "for k, v in results.data.optimizationMessages.items():\n",
    "    print(f'{k}:\\t{v}')"
   ]
  },
  {
   "cell_type": "markdown",
   "metadata": {},
   "source": [
    "Changing the requested precision\n"
   ]
  },
  {
   "cell_type": "code",
   "execution_count": 21,
   "metadata": {},
   "outputs": [
    {
     "data": {
      "text/html": [
       "<div>\n",
       "<style scoped>\n",
       "    .dataframe tbody tr th:only-of-type {\n",
       "        vertical-align: middle;\n",
       "    }\n",
       "\n",
       "    .dataframe tbody tr th {\n",
       "        vertical-align: top;\n",
       "    }\n",
       "\n",
       "    .dataframe thead th {\n",
       "        text-align: right;\n",
       "    }\n",
       "</style>\n",
       "<table border=\"1\" class=\"dataframe\">\n",
       "  <thead>\n",
       "    <tr style=\"text-align: right;\">\n",
       "      <th></th>\n",
       "      <th>Value</th>\n",
       "      <th>Std err</th>\n",
       "      <th>t-test</th>\n",
       "      <th>p-value</th>\n",
       "      <th>Rob. Std err</th>\n",
       "      <th>Rob. t-test</th>\n",
       "      <th>Rob. p-value</th>\n",
       "    </tr>\n",
       "  </thead>\n",
       "  <tbody>\n",
       "    <tr>\n",
       "      <th>beta1</th>\n",
       "      <td>0.144317</td>\n",
       "      <td>0.390742</td>\n",
       "      <td>0.369340</td>\n",
       "      <td>0.711874</td>\n",
       "      <td>0.365691</td>\n",
       "      <td>0.394641</td>\n",
       "      <td>0.693108</td>\n",
       "    </tr>\n",
       "    <tr>\n",
       "      <th>beta2</th>\n",
       "      <td>0.023428</td>\n",
       "      <td>0.036930</td>\n",
       "      <td>0.634377</td>\n",
       "      <td>0.525835</td>\n",
       "      <td>0.034256</td>\n",
       "      <td>0.683887</td>\n",
       "      <td>0.494047</td>\n",
       "    </tr>\n",
       "  </tbody>\n",
       "</table>\n",
       "</div>"
      ],
      "text/plain": [
       "          Value   Std err    t-test   p-value  Rob. Std err  Rob. t-test  \\\n",
       "beta1  0.144317  0.390742  0.369340  0.711874      0.365691     0.394641   \n",
       "beta2  0.023428  0.036930  0.634377  0.525835      0.034256     0.683887   \n",
       "\n",
       "       Rob. p-value  \n",
       "beta1      0.693108  \n",
       "beta2      0.494047  "
      ]
     },
     "execution_count": 21,
     "metadata": {},
     "output_type": "execute_result"
    }
   ],
   "source": [
    "results = myBiogeme.\\\n",
    "estimate(algorithm=opt.newtonTrustRegionForBiogeme,\n",
    "         algoParameters={'tolerance':0.1})\n",
    "results.getEstimatedParameters()"
   ]
  },
  {
   "cell_type": "code",
   "execution_count": 22,
   "metadata": {},
   "outputs": [
    {
     "name": "stdout",
     "output_type": "stream",
     "text": [
      "Algorithm:\tUnconstrained Newton with trust region\n",
      "Relative gradient:\t0.014746524905603029\n",
      "Cause of termination:\tRelative gradient = 0.015 <= 0.1\n",
      "Number of iterations:\t2\n",
      "Number of function evaluations:\t4\n",
      "Number of gradient evaluations:\t3\n",
      "Number of hessian evaluations:\t3\n",
      "Optimization time:\t0:00:00.001590\n"
     ]
    }
   ],
   "source": [
    "for k, v in results.data.optimizationMessages.items():\n",
    "    print(f'{k}:\\t{v}')"
   ]
  },
  {
   "cell_type": "markdown",
   "metadata": {},
   "source": [
    "## BFGS with line search"
   ]
  },
  {
   "cell_type": "code",
   "execution_count": 23,
   "metadata": {},
   "outputs": [
    {
     "data": {
      "text/html": [
       "<div>\n",
       "<style scoped>\n",
       "    .dataframe tbody tr th:only-of-type {\n",
       "        vertical-align: middle;\n",
       "    }\n",
       "\n",
       "    .dataframe tbody tr th {\n",
       "        vertical-align: top;\n",
       "    }\n",
       "\n",
       "    .dataframe thead th {\n",
       "        text-align: right;\n",
       "    }\n",
       "</style>\n",
       "<table border=\"1\" class=\"dataframe\">\n",
       "  <thead>\n",
       "    <tr style=\"text-align: right;\">\n",
       "      <th></th>\n",
       "      <th>Value</th>\n",
       "      <th>Std err</th>\n",
       "      <th>t-test</th>\n",
       "      <th>p-value</th>\n",
       "      <th>Rob. Std err</th>\n",
       "      <th>Rob. t-test</th>\n",
       "      <th>Rob. p-value</th>\n",
       "    </tr>\n",
       "  </thead>\n",
       "  <tbody>\n",
       "    <tr>\n",
       "      <th>beta1</th>\n",
       "      <td>0.144545</td>\n",
       "      <td>0.391017</td>\n",
       "      <td>0.369665</td>\n",
       "      <td>0.711632</td>\n",
       "      <td>0.366198</td>\n",
       "      <td>0.394720</td>\n",
       "      <td>0.693050</td>\n",
       "    </tr>\n",
       "    <tr>\n",
       "      <th>beta2</th>\n",
       "      <td>0.023502</td>\n",
       "      <td>0.036947</td>\n",
       "      <td>0.636086</td>\n",
       "      <td>0.524720</td>\n",
       "      <td>0.034280</td>\n",
       "      <td>0.685573</td>\n",
       "      <td>0.492982</td>\n",
       "    </tr>\n",
       "  </tbody>\n",
       "</table>\n",
       "</div>"
      ],
      "text/plain": [
       "          Value   Std err    t-test   p-value  Rob. Std err  Rob. t-test  \\\n",
       "beta1  0.144545  0.391017  0.369665  0.711632      0.366198     0.394720   \n",
       "beta2  0.023502  0.036947  0.636086  0.524720      0.034280     0.685573   \n",
       "\n",
       "       Rob. p-value  \n",
       "beta1      0.693050  \n",
       "beta2      0.492982  "
      ]
     },
     "execution_count": 23,
     "metadata": {},
     "output_type": "execute_result"
    }
   ],
   "source": [
    "results = myBiogeme.estimate(algorithm=opt.bfgsLineSearchForBiogeme)\n",
    "results.getEstimatedParameters()"
   ]
  },
  {
   "cell_type": "code",
   "execution_count": 24,
   "metadata": {},
   "outputs": [
    {
     "name": "stdout",
     "output_type": "stream",
     "text": [
      "Algorithm:\tInverse BFGS with line search\n",
      "Relative gradient:\t5.933646980468922e-07\n",
      "Cause of termination:\tRelative gradient = 5.9e-07 <= 6.1e-06\n",
      "Number of iterations:\t5\n",
      "Number of function evaluations:\t28\n",
      "Number of gradient evaluations:\t6\n",
      "Optimization time:\t0:00:00.003693\n"
     ]
    }
   ],
   "source": [
    "for k, v in results.data.optimizationMessages.items():\n",
    "    print(f'{k}:\\t{v}')"
   ]
  },
  {
   "cell_type": "markdown",
   "metadata": {},
   "source": [
    "## BFGS with trust region"
   ]
  },
  {
   "cell_type": "code",
   "execution_count": 25,
   "metadata": {},
   "outputs": [
    {
     "data": {
      "text/html": [
       "<div>\n",
       "<style scoped>\n",
       "    .dataframe tbody tr th:only-of-type {\n",
       "        vertical-align: middle;\n",
       "    }\n",
       "\n",
       "    .dataframe tbody tr th {\n",
       "        vertical-align: top;\n",
       "    }\n",
       "\n",
       "    .dataframe thead th {\n",
       "        text-align: right;\n",
       "    }\n",
       "</style>\n",
       "<table border=\"1\" class=\"dataframe\">\n",
       "  <thead>\n",
       "    <tr style=\"text-align: right;\">\n",
       "      <th></th>\n",
       "      <th>Value</th>\n",
       "      <th>Std err</th>\n",
       "      <th>t-test</th>\n",
       "      <th>p-value</th>\n",
       "      <th>Rob. Std err</th>\n",
       "      <th>Rob. t-test</th>\n",
       "      <th>Rob. p-value</th>\n",
       "    </tr>\n",
       "  </thead>\n",
       "  <tbody>\n",
       "    <tr>\n",
       "      <th>beta1</th>\n",
       "      <td>0.144546</td>\n",
       "      <td>0.391018</td>\n",
       "      <td>0.369667</td>\n",
       "      <td>0.711631</td>\n",
       "      <td>0.366198</td>\n",
       "      <td>0.394721</td>\n",
       "      <td>0.693048</td>\n",
       "    </tr>\n",
       "    <tr>\n",
       "      <th>beta2</th>\n",
       "      <td>0.023502</td>\n",
       "      <td>0.036947</td>\n",
       "      <td>0.636087</td>\n",
       "      <td>0.524720</td>\n",
       "      <td>0.034280</td>\n",
       "      <td>0.685574</td>\n",
       "      <td>0.492982</td>\n",
       "    </tr>\n",
       "  </tbody>\n",
       "</table>\n",
       "</div>"
      ],
      "text/plain": [
       "          Value   Std err    t-test   p-value  Rob. Std err  Rob. t-test  \\\n",
       "beta1  0.144546  0.391018  0.369667  0.711631      0.366198     0.394721   \n",
       "beta2  0.023502  0.036947  0.636087  0.524720      0.034280     0.685574   \n",
       "\n",
       "       Rob. p-value  \n",
       "beta1      0.693048  \n",
       "beta2      0.492982  "
      ]
     },
     "execution_count": 25,
     "metadata": {},
     "output_type": "execute_result"
    }
   ],
   "source": [
    "results = myBiogeme.estimate(algorithm=opt.bfgsTrustRegionForBiogeme)\n",
    "results.getEstimatedParameters()"
   ]
  },
  {
   "cell_type": "code",
   "execution_count": 26,
   "metadata": {},
   "outputs": [
    {
     "name": "stdout",
     "output_type": "stream",
     "text": [
      "Algorithm:\tBFGS with trust region\n",
      "Relative gradient:\t5.039394505504404e-07\n",
      "Cause of termination:\tRelative gradient = 5e-07 <= 6.1e-06\n",
      "Number of iterations:\t14\n",
      "Number of function evaluations:\t23\n",
      "Number of gradient evaluations:\t9\n",
      "Optimization time:\t0:00:00.007478\n"
     ]
    }
   ],
   "source": [
    "for k, v in results.data.optimizationMessages.items():\n",
    "    print(f'{k}:\\t{v}')"
   ]
  },
  {
   "cell_type": "markdown",
   "metadata": {},
   "source": [
    "## Newton/BFGS with trust region for simple bounds"
   ]
  },
  {
   "cell_type": "markdown",
   "metadata": {},
   "source": [
    "This is the default algorithm used by Biogeme. It is the implementation of the algorithm proposed by [Conn et al. (1988)](https://www.ams.org/journals/mcom/1988-50-182/S0025-5718-1988-0929544-3/S0025-5718-1988-0929544-3.pdf)."
   ]
  },
  {
   "cell_type": "code",
   "execution_count": 27,
   "metadata": {},
   "outputs": [
    {
     "data": {
      "text/html": [
       "<div>\n",
       "<style scoped>\n",
       "    .dataframe tbody tr th:only-of-type {\n",
       "        vertical-align: middle;\n",
       "    }\n",
       "\n",
       "    .dataframe tbody tr th {\n",
       "        vertical-align: top;\n",
       "    }\n",
       "\n",
       "    .dataframe thead th {\n",
       "        text-align: right;\n",
       "    }\n",
       "</style>\n",
       "<table border=\"1\" class=\"dataframe\">\n",
       "  <thead>\n",
       "    <tr style=\"text-align: right;\">\n",
       "      <th></th>\n",
       "      <th>Value</th>\n",
       "      <th>Std err</th>\n",
       "      <th>t-test</th>\n",
       "      <th>p-value</th>\n",
       "      <th>Rob. Std err</th>\n",
       "      <th>Rob. t-test</th>\n",
       "      <th>Rob. p-value</th>\n",
       "    </tr>\n",
       "  </thead>\n",
       "  <tbody>\n",
       "    <tr>\n",
       "      <th>beta1</th>\n",
       "      <td>0.144545</td>\n",
       "      <td>0.391017</td>\n",
       "      <td>0.369665</td>\n",
       "      <td>0.711632</td>\n",
       "      <td>0.366198</td>\n",
       "      <td>0.394720</td>\n",
       "      <td>0.693050</td>\n",
       "    </tr>\n",
       "    <tr>\n",
       "      <th>beta2</th>\n",
       "      <td>0.023502</td>\n",
       "      <td>0.036947</td>\n",
       "      <td>0.636086</td>\n",
       "      <td>0.524720</td>\n",
       "      <td>0.034280</td>\n",
       "      <td>0.685573</td>\n",
       "      <td>0.492982</td>\n",
       "    </tr>\n",
       "  </tbody>\n",
       "</table>\n",
       "</div>"
      ],
      "text/plain": [
       "          Value   Std err    t-test   p-value  Rob. Std err  Rob. t-test  \\\n",
       "beta1  0.144545  0.391017  0.369665  0.711632      0.366198     0.394720   \n",
       "beta2  0.023502  0.036947  0.636086  0.524720      0.034280     0.685573   \n",
       "\n",
       "       Rob. p-value  \n",
       "beta1      0.693050  \n",
       "beta2      0.492982  "
      ]
     },
     "execution_count": 27,
     "metadata": {},
     "output_type": "execute_result"
    }
   ],
   "source": [
    "results = myBiogeme.\\\n",
    "estimate(algorithm=opt.simpleBoundsNewtonAlgorithmForBiogeme)\n",
    "results.getEstimatedParameters()"
   ]
  },
  {
   "cell_type": "code",
   "execution_count": 28,
   "metadata": {},
   "outputs": [
    {
     "name": "stdout",
     "output_type": "stream",
     "text": [
      "Algorithm:\tNewton with trust region for simple bound constraints\n",
      "Proportion analytical hessian:\t100.0%\n",
      "Relative projected gradient:\t3.2893676168569793e-07\n",
      "Relative change:\t0.00022882036808896666\n",
      "Number of iterations:\t3\n",
      "Number of function evaluations:\t10\n",
      "Number of gradient evaluations:\t4\n",
      "Number of hessian evaluations:\t4\n",
      "Cause of termination:\tRelative gradient = 3.3e-07 <= 6.1e-06\n",
      "Optimization time:\t0:00:00.003137\n"
     ]
    }
   ],
   "source": [
    "for k, v in results.data.optimizationMessages.items():\n",
    "    print(f'{k}:\\t{v}')"
   ]
  },
  {
   "cell_type": "markdown",
   "metadata": {},
   "source": [
    "When the second derivatives are too computationally expensive to calculate, it is possible to avoid calculating them at each successful iteration. The parameter 'proportionAnalyticalHessian' allows to control that."
   ]
  },
  {
   "cell_type": "code",
   "execution_count": 29,
   "metadata": {},
   "outputs": [
    {
     "data": {
      "text/html": [
       "<div>\n",
       "<style scoped>\n",
       "    .dataframe tbody tr th:only-of-type {\n",
       "        vertical-align: middle;\n",
       "    }\n",
       "\n",
       "    .dataframe tbody tr th {\n",
       "        vertical-align: top;\n",
       "    }\n",
       "\n",
       "    .dataframe thead th {\n",
       "        text-align: right;\n",
       "    }\n",
       "</style>\n",
       "<table border=\"1\" class=\"dataframe\">\n",
       "  <thead>\n",
       "    <tr style=\"text-align: right;\">\n",
       "      <th></th>\n",
       "      <th>Value</th>\n",
       "      <th>Std err</th>\n",
       "      <th>t-test</th>\n",
       "      <th>p-value</th>\n",
       "      <th>Rob. Std err</th>\n",
       "      <th>Rob. t-test</th>\n",
       "      <th>Rob. p-value</th>\n",
       "    </tr>\n",
       "  </thead>\n",
       "  <tbody>\n",
       "    <tr>\n",
       "      <th>beta1</th>\n",
       "      <td>0.144545</td>\n",
       "      <td>0.391017</td>\n",
       "      <td>0.369665</td>\n",
       "      <td>0.711632</td>\n",
       "      <td>0.366198</td>\n",
       "      <td>0.394720</td>\n",
       "      <td>0.693050</td>\n",
       "    </tr>\n",
       "    <tr>\n",
       "      <th>beta2</th>\n",
       "      <td>0.023502</td>\n",
       "      <td>0.036947</td>\n",
       "      <td>0.636086</td>\n",
       "      <td>0.524721</td>\n",
       "      <td>0.034280</td>\n",
       "      <td>0.685573</td>\n",
       "      <td>0.492982</td>\n",
       "    </tr>\n",
       "  </tbody>\n",
       "</table>\n",
       "</div>"
      ],
      "text/plain": [
       "          Value   Std err    t-test   p-value  Rob. Std err  Rob. t-test  \\\n",
       "beta1  0.144545  0.391017  0.369665  0.711632      0.366198     0.394720   \n",
       "beta2  0.023502  0.036947  0.636086  0.524721      0.034280     0.685573   \n",
       "\n",
       "       Rob. p-value  \n",
       "beta1      0.693050  \n",
       "beta2      0.492982  "
      ]
     },
     "execution_count": 29,
     "metadata": {},
     "output_type": "execute_result"
    }
   ],
   "source": [
    "results = myBiogeme.\\\n",
    "estimate(algorithm=opt.simpleBoundsNewtonAlgorithmForBiogeme,\n",
    "         algoParameters = {'proportionAnalyticalHessian': 0.5})\n",
    "results.getEstimatedParameters()"
   ]
  },
  {
   "cell_type": "code",
   "execution_count": 30,
   "metadata": {},
   "outputs": [
    {
     "name": "stdout",
     "output_type": "stream",
     "text": [
      "Algorithm:\tHybrid Newton [50.0%] with trust region for simple bound constraints\n",
      "Proportion analytical hessian:\t60.0%\n",
      "Relative projected gradient:\t2.790944329115531e-06\n",
      "Relative change:\t4.2680917955839615e-05\n",
      "Number of iterations:\t4\n",
      "Number of function evaluations:\t13\n",
      "Number of gradient evaluations:\t5\n",
      "Number of hessian evaluations:\t3\n",
      "Cause of termination:\tRelative gradient = 2.8e-06 <= 6.1e-06\n",
      "Optimization time:\t0:00:00.003492\n"
     ]
    }
   ],
   "source": [
    "for k, v in results.data.optimizationMessages.items():\n",
    "    print(f'{k}:\\t{v}')"
   ]
  },
  {
   "cell_type": "markdown",
   "metadata": {},
   "source": [
    "If the parameter is set to zero, the second derivatives are not used at all, and the algorithm relies only on the BFGS update."
   ]
  },
  {
   "cell_type": "code",
   "execution_count": 31,
   "metadata": {},
   "outputs": [
    {
     "data": {
      "text/html": [
       "<div>\n",
       "<style scoped>\n",
       "    .dataframe tbody tr th:only-of-type {\n",
       "        vertical-align: middle;\n",
       "    }\n",
       "\n",
       "    .dataframe tbody tr th {\n",
       "        vertical-align: top;\n",
       "    }\n",
       "\n",
       "    .dataframe thead th {\n",
       "        text-align: right;\n",
       "    }\n",
       "</style>\n",
       "<table border=\"1\" class=\"dataframe\">\n",
       "  <thead>\n",
       "    <tr style=\"text-align: right;\">\n",
       "      <th></th>\n",
       "      <th>Value</th>\n",
       "      <th>Std err</th>\n",
       "      <th>t-test</th>\n",
       "      <th>p-value</th>\n",
       "      <th>Rob. Std err</th>\n",
       "      <th>Rob. t-test</th>\n",
       "      <th>Rob. p-value</th>\n",
       "    </tr>\n",
       "  </thead>\n",
       "  <tbody>\n",
       "    <tr>\n",
       "      <th>beta1</th>\n",
       "      <td>0.144547</td>\n",
       "      <td>0.391018</td>\n",
       "      <td>0.369669</td>\n",
       "      <td>0.711629</td>\n",
       "      <td>0.366198</td>\n",
       "      <td>0.394723</td>\n",
       "      <td>0.693047</td>\n",
       "    </tr>\n",
       "    <tr>\n",
       "      <th>beta2</th>\n",
       "      <td>0.023502</td>\n",
       "      <td>0.036947</td>\n",
       "      <td>0.636088</td>\n",
       "      <td>0.524719</td>\n",
       "      <td>0.034280</td>\n",
       "      <td>0.685574</td>\n",
       "      <td>0.492981</td>\n",
       "    </tr>\n",
       "  </tbody>\n",
       "</table>\n",
       "</div>"
      ],
      "text/plain": [
       "          Value   Std err    t-test   p-value  Rob. Std err  Rob. t-test  \\\n",
       "beta1  0.144547  0.391018  0.369669  0.711629      0.366198     0.394723   \n",
       "beta2  0.023502  0.036947  0.636088  0.524719      0.034280     0.685574   \n",
       "\n",
       "       Rob. p-value  \n",
       "beta1      0.693047  \n",
       "beta2      0.492981  "
      ]
     },
     "execution_count": 31,
     "metadata": {},
     "output_type": "execute_result"
    }
   ],
   "source": [
    "results = myBiogeme.\\\n",
    "estimate(algorithm=opt.simpleBoundsNewtonAlgorithmForBiogeme,\n",
    "         algoParameters = {'proportionAnalyticalHessian': 0})\n",
    "results.getEstimatedParameters()"
   ]
  },
  {
   "cell_type": "code",
   "execution_count": 32,
   "metadata": {},
   "outputs": [
    {
     "name": "stdout",
     "output_type": "stream",
     "text": [
      "Algorithm:\tBFGS with trust region for simple bound constraints\n",
      "Proportion analytical hessian:\t0.0%\n",
      "Relative projected gradient:\t1.3873770983933678e-06\n",
      "Relative change:\t6.637427884398361e-08\n",
      "Number of iterations:\t14\n",
      "Number of function evaluations:\t31\n",
      "Number of gradient evaluations:\t9\n",
      "Number of hessian evaluations:\t0\n",
      "Cause of termination:\tRelative change = 6.64e-08 <= 1e-05\n",
      "Optimization time:\t0:00:00.008565\n"
     ]
    }
   ],
   "source": [
    "for k, v in results.data.optimizationMessages.items():\n",
    "    print(f'{k}:\\t{v}')"
   ]
  },
  {
   "cell_type": "markdown",
   "metadata": {},
   "source": [
    "There are shortcuts to call the BFGS and the Newton versions"
   ]
  },
  {
   "cell_type": "code",
   "execution_count": 33,
   "metadata": {},
   "outputs": [
    {
     "data": {
      "text/html": [
       "<div>\n",
       "<style scoped>\n",
       "    .dataframe tbody tr th:only-of-type {\n",
       "        vertical-align: middle;\n",
       "    }\n",
       "\n",
       "    .dataframe tbody tr th {\n",
       "        vertical-align: top;\n",
       "    }\n",
       "\n",
       "    .dataframe thead th {\n",
       "        text-align: right;\n",
       "    }\n",
       "</style>\n",
       "<table border=\"1\" class=\"dataframe\">\n",
       "  <thead>\n",
       "    <tr style=\"text-align: right;\">\n",
       "      <th></th>\n",
       "      <th>Value</th>\n",
       "      <th>Std err</th>\n",
       "      <th>t-test</th>\n",
       "      <th>p-value</th>\n",
       "      <th>Rob. Std err</th>\n",
       "      <th>Rob. t-test</th>\n",
       "      <th>Rob. p-value</th>\n",
       "    </tr>\n",
       "  </thead>\n",
       "  <tbody>\n",
       "    <tr>\n",
       "      <th>beta1</th>\n",
       "      <td>0.144545</td>\n",
       "      <td>0.391017</td>\n",
       "      <td>0.369665</td>\n",
       "      <td>0.711632</td>\n",
       "      <td>0.366198</td>\n",
       "      <td>0.394720</td>\n",
       "      <td>0.693050</td>\n",
       "    </tr>\n",
       "    <tr>\n",
       "      <th>beta2</th>\n",
       "      <td>0.023502</td>\n",
       "      <td>0.036947</td>\n",
       "      <td>0.636086</td>\n",
       "      <td>0.524720</td>\n",
       "      <td>0.034280</td>\n",
       "      <td>0.685573</td>\n",
       "      <td>0.492982</td>\n",
       "    </tr>\n",
       "  </tbody>\n",
       "</table>\n",
       "</div>"
      ],
      "text/plain": [
       "          Value   Std err    t-test   p-value  Rob. Std err  Rob. t-test  \\\n",
       "beta1  0.144545  0.391017  0.369665  0.711632      0.366198     0.394720   \n",
       "beta2  0.023502  0.036947  0.636086  0.524720      0.034280     0.685573   \n",
       "\n",
       "       Rob. p-value  \n",
       "beta1      0.693050  \n",
       "beta2      0.492982  "
      ]
     },
     "execution_count": 33,
     "metadata": {},
     "output_type": "execute_result"
    }
   ],
   "source": [
    "results = myBiogeme.\\\n",
    "estimate(algorithm=opt.bioNewton)\n",
    "results.getEstimatedParameters()"
   ]
  },
  {
   "cell_type": "code",
   "execution_count": 34,
   "metadata": {},
   "outputs": [
    {
     "name": "stdout",
     "output_type": "stream",
     "text": [
      "Algorithm:\tNewton with trust region for simple bound constraints\n",
      "Proportion analytical hessian:\t100.0%\n",
      "Relative projected gradient:\t3.2893676168569793e-07\n",
      "Relative change:\t0.00022882036808896666\n",
      "Number of iterations:\t3\n",
      "Number of function evaluations:\t10\n",
      "Number of gradient evaluations:\t4\n",
      "Number of hessian evaluations:\t4\n",
      "Cause of termination:\tRelative gradient = 3.3e-07 <= 6.1e-06\n",
      "Optimization time:\t0:00:00.002522\n"
     ]
    }
   ],
   "source": [
    "for k, v in results.data.optimizationMessages.items():\n",
    "    print(f'{k}:\\t{v}')"
   ]
  },
  {
   "cell_type": "code",
   "execution_count": 35,
   "metadata": {},
   "outputs": [
    {
     "data": {
      "text/html": [
       "<div>\n",
       "<style scoped>\n",
       "    .dataframe tbody tr th:only-of-type {\n",
       "        vertical-align: middle;\n",
       "    }\n",
       "\n",
       "    .dataframe tbody tr th {\n",
       "        vertical-align: top;\n",
       "    }\n",
       "\n",
       "    .dataframe thead th {\n",
       "        text-align: right;\n",
       "    }\n",
       "</style>\n",
       "<table border=\"1\" class=\"dataframe\">\n",
       "  <thead>\n",
       "    <tr style=\"text-align: right;\">\n",
       "      <th></th>\n",
       "      <th>Value</th>\n",
       "      <th>Std err</th>\n",
       "      <th>t-test</th>\n",
       "      <th>p-value</th>\n",
       "      <th>Rob. Std err</th>\n",
       "      <th>Rob. t-test</th>\n",
       "      <th>Rob. p-value</th>\n",
       "    </tr>\n",
       "  </thead>\n",
       "  <tbody>\n",
       "    <tr>\n",
       "      <th>beta1</th>\n",
       "      <td>0.144547</td>\n",
       "      <td>0.391018</td>\n",
       "      <td>0.369669</td>\n",
       "      <td>0.711629</td>\n",
       "      <td>0.366198</td>\n",
       "      <td>0.394723</td>\n",
       "      <td>0.693047</td>\n",
       "    </tr>\n",
       "    <tr>\n",
       "      <th>beta2</th>\n",
       "      <td>0.023502</td>\n",
       "      <td>0.036947</td>\n",
       "      <td>0.636088</td>\n",
       "      <td>0.524719</td>\n",
       "      <td>0.034280</td>\n",
       "      <td>0.685574</td>\n",
       "      <td>0.492981</td>\n",
       "    </tr>\n",
       "  </tbody>\n",
       "</table>\n",
       "</div>"
      ],
      "text/plain": [
       "          Value   Std err    t-test   p-value  Rob. Std err  Rob. t-test  \\\n",
       "beta1  0.144547  0.391018  0.369669  0.711629      0.366198     0.394723   \n",
       "beta2  0.023502  0.036947  0.636088  0.524719      0.034280     0.685574   \n",
       "\n",
       "       Rob. p-value  \n",
       "beta1      0.693047  \n",
       "beta2      0.492981  "
      ]
     },
     "execution_count": 35,
     "metadata": {},
     "output_type": "execute_result"
    }
   ],
   "source": [
    "results = myBiogeme.\\\n",
    "estimate(algorithm=opt.bioBfgs)\n",
    "results.getEstimatedParameters()"
   ]
  },
  {
   "cell_type": "code",
   "execution_count": 36,
   "metadata": {},
   "outputs": [
    {
     "name": "stdout",
     "output_type": "stream",
     "text": [
      "Algorithm:\tBFGS with trust region for simple bound constraints\n",
      "Proportion analytical hessian:\t0.0%\n",
      "Relative projected gradient:\t1.3873770983933678e-06\n",
      "Relative change:\t6.637427884398361e-08\n",
      "Number of iterations:\t14\n",
      "Number of function evaluations:\t31\n",
      "Number of gradient evaluations:\t9\n",
      "Number of hessian evaluations:\t0\n",
      "Cause of termination:\tRelative change = 6.64e-08 <= 1e-05\n",
      "Optimization time:\t0:00:00.008666\n"
     ]
    }
   ],
   "source": [
    "for k, v in results.data.optimizationMessages.items():\n",
    "    print(f'{k}:\\t{v}')"
   ]
  },
  {
   "cell_type": "code",
   "execution_count": null,
   "metadata": {},
   "outputs": [],
   "source": []
  }
 ],
 "metadata": {
  "kernelspec": {
   "display_name": "Python 3",
   "language": "python",
   "name": "python3"
  },
  "language_info": {
   "codemirror_mode": {
    "name": "ipython",
    "version": 3
   },
   "file_extension": ".py",
   "mimetype": "text/x-python",
   "name": "python",
   "nbconvert_exporter": "python",
   "pygments_lexer": "ipython3",
   "version": "3.9.5"
  }
 },
 "nbformat": 4,
 "nbformat_minor": 2
}
