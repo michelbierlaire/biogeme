{
 "cells": [
  {
   "cell_type": "markdown",
   "id": "103d0ff2",
   "metadata": {},
   "source": [
    "# Module biogeme.cnl"
   ]
  },
  {
   "cell_type": "markdown",
   "id": "70f2838b",
   "metadata": {},
   "source": [
    "## Examples of use of each function"
   ]
  },
  {
   "cell_type": "markdown",
   "id": "b629d510",
   "metadata": {},
   "source": [
    "This webpage is for programmers who need examples of use of the functions of the class. The examples are designed to illustrate the syntax. "
   ]
  },
  {
   "cell_type": "code",
   "execution_count": 1,
   "id": "69ad741c",
   "metadata": {},
   "outputs": [],
   "source": [
    "import numpy as np\n",
    "import biogeme.cnl as cnl\n",
    "import biogeme.messaging as msg\n",
    "import biogeme.tools as tools"
   ]
  },
  {
   "cell_type": "code",
   "execution_count": 2,
   "id": "6b45f852",
   "metadata": {},
   "outputs": [],
   "source": [
    "mu_nest_1 = 1.4\n",
    "alphas_1 =  {'i': 1, 'j': 0.5, 'k':0.2}\n",
    "nest_1 = mu_nest_1, alphas_1\n",
    "mu_nest_2 = 1.2\n",
    "alphas_2 = {'j': 0.5, 'k': 0.8, 'ell': 1}\n",
    "nest_2 = mu_nest_2, alphas_2\n",
    "nests = nest_1, nest_2"
   ]
  },
  {
   "cell_type": "markdown",
   "id": "fe75ffd3",
   "metadata": {},
   "source": [
    "We retrieve the G function of the cross-nested logit, and verify numerically the implementation of the derivatives."
   ]
  },
  {
   "cell_type": "code",
   "execution_count": 18,
   "id": "1bd540f8",
   "metadata": {},
   "outputs": [],
   "source": [
    "G = cnl.cnl_G(['i', 'j', 'k', 'ell'], nests)"
   ]
  },
  {
   "cell_type": "code",
   "execution_count": 19,
   "id": "b4e0147f",
   "metadata": {},
   "outputs": [
    {
     "data": {
      "text/plain": [
       "array([1.26498847, 0.86501032, 1.23483638, 1.29073711])"
      ]
     },
     "execution_count": 19,
     "metadata": {},
     "output_type": "execute_result"
    }
   ],
   "source": [
    "y = np.random.uniform(low=0.01, high=2, size=4)\n",
    "y"
   ]
  },
  {
   "cell_type": "code",
   "execution_count": 20,
   "id": "2284341f",
   "metadata": {},
   "outputs": [
    {
     "name": "stdout",
     "output_type": "stream",
     "text": [
      "[17:16:38] < Detailed >  x\t\tGradient\tFinDiff\t\tDifference\n",
      "[17:16:38] < Detailed >  x[0]           \t+9.229147E-01\t+9.229147E-01\t-8.109996E-09\n",
      "[17:16:38] < Detailed >  x[1]           \t+6.585075E-01\t+6.585075E-01\t-1.513496E-08\n",
      "[17:16:38] < Detailed >  x[2]           \t+7.719282E-01\t+7.719282E-01\t-1.018377E-08\n",
      "[17:16:38] < Detailed >  x[3]           \t+8.912882E-01\t+8.912882E-01\t-6.747357E-09\n",
      "[17:16:38] < Detailed >  Row\t\tCol\t\tHessian\tFinDiff\t\tDifference\n",
      "[17:16:38] < Detailed >  x[0]           \tx[0]           \t+7.143906E-02\t+7.143905E-02\t+6.916559E-09\n",
      "[17:16:38] < Detailed >  x[0]           \tx[1]           \t-7.173520E-02\t-7.173520E-02\t-2.697517E-10\n",
      "[17:16:38] < Detailed >  x[0]           \tx[2]           \t-2.293251E-02\t-2.293251E-02\t+4.380567E-10\n",
      "[17:16:38] < Detailed >  x[0]           \tx[3]           \t+0.000000E+00\t+0.000000E+00\t+0.000000E+00\n",
      "[17:16:38] < Detailed >  x[1]           \tx[0]           \t-7.173520E-02\t-7.173520E-02\t-2.948741E-09\n",
      "[17:16:38] < Detailed >  x[1]           \tx[1]           \t+1.871834E-01\t+1.871834E-01\t+1.089504E-08\n",
      "[17:16:38] < Detailed >  x[1]           \tx[2]           \t-2.855934E-02\t-2.855934E-02\t-3.463394E-10\n",
      "[17:16:38] < Detailed >  x[1]           \tx[3]           \t-2.781762E-02\t-2.781762E-02\t-7.206592E-11\n",
      "[17:16:38] < Detailed >  x[2]           \tx[0]           \t-2.293251E-02\t-2.293251E-02\t-9.150844E-10\n",
      "[17:16:38] < Detailed >  x[2]           \tx[1]           \t-2.855934E-02\t-2.855934E-02\t+6.824687E-10\n",
      "[17:16:38] < Detailed >  x[2]           \tx[2]           \t+9.837794E-02\t+9.837793E-02\t+5.974176E-09\n",
      "[17:16:38] < Detailed >  x[2]           \tx[3]           \t-5.250270E-02\t-5.250270E-02\t-3.211659E-11\n",
      "[17:16:38] < Detailed >  x[3]           \tx[0]           \t+0.000000E+00\t+0.000000E+00\t+0.000000E+00\n",
      "[17:16:38] < Detailed >  x[3]           \tx[1]           \t-2.781762E-02\t-2.781762E-02\t+4.072093E-12\n",
      "[17:16:38] < Detailed >  x[3]           \tx[2]           \t-5.250270E-02\t-5.250270E-02\t-1.104745E-09\n",
      "[17:16:38] < Detailed >  x[3]           \tx[3]           \t+6.887132E-02\t+6.887132E-02\t+6.959925E-09\n"
     ]
    }
   ],
   "source": [
    "logger = msg.bioMessage()\n",
    "logger.setDetailed()\n",
    "\n",
    "f, g, h, gdiff, hdiff = \\\n",
    "    tools.checkDerivatives(G, y, names=None, logg=True)"
   ]
  },
  {
   "cell_type": "markdown",
   "id": "d85f3c22",
   "metadata": {},
   "source": [
    "We do the same for the CDF. "
   ]
  },
  {
   "cell_type": "code",
   "execution_count": 21,
   "id": "8d8bd34a",
   "metadata": {},
   "outputs": [
    {
     "data": {
      "text/plain": [
       "array([-0.4219077 , -6.91053975, -1.13157782, -5.00539027])"
      ]
     },
     "execution_count": 21,
     "metadata": {},
     "output_type": "execute_result"
    }
   ],
   "source": [
    "xi = np.random.uniform(low=-10, high=10, size=4)\n",
    "xi"
   ]
  },
  {
   "cell_type": "code",
   "execution_count": 22,
   "id": "4a75e1b4",
   "metadata": {},
   "outputs": [],
   "source": [
    "F = cnl.cnl_CDF(['i', 'j', 'k', 'ell'], nests)"
   ]
  },
  {
   "cell_type": "code",
   "execution_count": 24,
   "id": "96b665c2",
   "metadata": {},
   "outputs": [
    {
     "name": "stdout",
     "output_type": "stream",
     "text": [
      "[17:17:01] < Detailed >  x\t\tGradient\tFinDiff\t\tDifference\n",
      "[17:17:01] < Detailed >  x[0]           \t+8.609240E-02\t+8.609240E-02\t+5.093121E-09\n",
      "[17:17:01] < Detailed >  x[1]           \t+1.184717E-01\t+1.184717E-01\t+5.322030E-09\n",
      "[17:17:01] < Detailed >  x[2]           \t+7.863446E-02\t+7.863445E-02\t+4.508777E-09\n",
      "[17:17:01] < Detailed >  x[3]           \t+8.457892E-02\t+8.457892E-02\t+4.973530E-09\n",
      "[17:17:01] < Detailed >  Row\t\tCol\t\tHessian\tFinDiff\t\tDifference\n",
      "[17:17:01] < Detailed >  x[0]           \tx[0]           \t-8.047433E-02\t-8.047433E-02\t-2.554314E-09\n",
      "[17:17:01] < Detailed >  x[0]           \tx[1]           \t+4.127580E-02\t+4.127580E-02\t+1.437038E-09\n",
      "[17:17:01] < Detailed >  x[0]           \tx[2]           \t+2.097290E-02\t+2.097290E-02\t+1.282845E-09\n",
      "[17:17:01] < Detailed >  x[0]           \tx[3]           \t+2.026882E-02\t+2.026882E-02\t+1.192378E-09\n",
      "[17:17:01] < Detailed >  x[1]           \tx[0]           \t+4.127580E-02\t+4.127580E-02\t+1.559282E-09\n",
      "[17:17:01] < Detailed >  x[1]           \tx[1]           \t-1.024717E-01\t-1.024717E-01\t-1.715368E-09\n",
      "[17:17:01] < Detailed >  x[1]           \tx[2]           \t+3.129100E-02\t+3.129099E-02\t+1.613449E-09\n",
      "[17:17:01] < Detailed >  x[1]           \tx[3]           \t+3.271656E-02\t+3.271656E-02\t+1.579439E-09\n",
      "[17:17:01] < Detailed >  x[2]           \tx[0]           \t+2.097290E-02\t+2.097290E-02\t+1.114912E-09\n",
      "[17:17:01] < Detailed >  x[2]           \tx[1]           \t+3.129100E-02\t+3.129099E-02\t+1.231937E-09\n",
      "[17:17:01] < Detailed >  x[2]           \tx[2]           \t-7.435163E-02\t-7.435163E-02\t-3.096984E-09\n",
      "[17:17:01] < Detailed >  x[2]           \tx[3]           \t+2.395393E-02\t+2.395393E-02\t+1.083758E-09\n",
      "[17:17:01] < Detailed >  x[3]           \tx[0]           \t+2.026882E-02\t+2.026882E-02\t+1.216681E-09\n",
      "[17:17:01] < Detailed >  x[3]           \tx[1]           \t+3.271656E-02\t+3.271656E-02\t+1.209604E-09\n",
      "[17:17:01] < Detailed >  x[3]           \tx[2]           \t+2.395393E-02\t+2.395393E-02\t+9.495046E-10\n",
      "[17:17:01] < Detailed >  x[3]           \tx[3]           \t-7.493203E-02\t-7.493203E-02\t-2.670754E-09\n"
     ]
    }
   ],
   "source": [
    "f, g, h, gdiff, hdiff = \\\n",
    "    tools.checkDerivatives(F, y, names=None, logg=True)"
   ]
  }
 ],
 "metadata": {
  "kernelspec": {
   "display_name": "Python 3 (ipykernel)",
   "language": "python",
   "name": "python3"
  },
  "language_info": {
   "codemirror_mode": {
    "name": "ipython",
    "version": 3
   },
   "file_extension": ".py",
   "mimetype": "text/x-python",
   "name": "python",
   "nbconvert_exporter": "python",
   "pygments_lexer": "ipython3",
   "version": "3.10.0"
  }
 },
 "nbformat": 4,
 "nbformat_minor": 5
}
