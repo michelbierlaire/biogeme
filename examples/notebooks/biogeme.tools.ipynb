{
 "cells": [
  {
   "cell_type": "markdown",
   "metadata": {},
   "source": [
    "# Module biogeme.tools"
   ]
  },
  {
   "cell_type": "markdown",
   "metadata": {},
   "source": [
    "## Examples of use of each function"
   ]
  },
  {
   "cell_type": "markdown",
   "metadata": {},
   "source": [
    "This webpage is for programmers who need examples of use of the functions of the class. The examples are designed to illustrate the syntax. They do not correspond to any meaningful model. For examples of models, visit  [biogeme.epfl.ch](http://biogeme.epfl.ch)."
   ]
  },
  {
   "cell_type": "code",
   "execution_count": 1,
   "metadata": {},
   "outputs": [
    {
     "name": "stdout",
     "output_type": "stream",
     "text": [
      "2022-08-09 11:20:29.267097\n"
     ]
    }
   ],
   "source": [
    "import datetime\n",
    "print(datetime.datetime.now())"
   ]
  },
  {
   "cell_type": "code",
   "execution_count": 2,
   "metadata": {},
   "outputs": [
    {
     "name": "stdout",
     "output_type": "stream",
     "text": [
      "biogeme 3.2.9b [2022-08-09]\n",
      "Version entirely written in Python\n",
      "Home page: http://biogeme.epfl.ch\n",
      "Submit questions to https://groups.google.com/d/forum/biogeme\n",
      "Michel Bierlaire, Transport and Mobility Laboratory, Ecole Polytechnique Fédérale de Lausanne (EPFL)\n",
      "\n"
     ]
    }
   ],
   "source": [
    "import biogeme.version as ver\n",
    "print(ver.getText())"
   ]
  },
  {
   "cell_type": "code",
   "execution_count": 3,
   "metadata": {},
   "outputs": [],
   "source": [
    "import numpy as np\n",
    "import pandas as pd"
   ]
  },
  {
   "cell_type": "code",
   "execution_count": 4,
   "metadata": {},
   "outputs": [],
   "source": [
    "import biogeme.tools as tools\n",
    "import biogeme.messaging as msg\n",
    "import biogeme.exceptions as excep"
   ]
  },
  {
   "cell_type": "markdown",
   "metadata": {},
   "source": [
    "Define a function and its derivatives: $$f = \\log(x_0) + \\exp(x_1),$$ $$g = \\left( \\begin{array}{c} \\frac{1}{x_0} \\\\ \\exp(x_1)\\end{array}\\right),$$ $$h=\\left( \\begin{array}{cc} -\\frac{1}{x_0^2} & 0 \\\\ 0 & \\exp(x_1)\\end{array}\\right).$$"
   ]
  },
  {
   "cell_type": "code",
   "execution_count": 5,
   "metadata": {},
   "outputs": [],
   "source": [
    "def myFunction(x):\n",
    "    f = np.log(x[0]) + np.exp(x[1])\n",
    "    g = np.empty(2)\n",
    "    g[0] = 1.0 / x[0]\n",
    "    g[1] = np.exp(x[1])\n",
    "    H = np.empty((2, 2))\n",
    "    H[0,0] = - 1.0 / x[0]**2\n",
    "    H[0,1] = 0.0\n",
    "    H[1,0] = 0.0\n",
    "    H[1,1] = np.exp(x[1])\n",
    "    return f, g, H"
   ]
  },
  {
   "cell_type": "markdown",
   "metadata": {},
   "source": [
    "Evaluate the function at the point $$x = \\left( \\begin{array}{c}1 \\\\ 1 \\end{array}\\right).$$"
   ]
  },
  {
   "cell_type": "code",
   "execution_count": 6,
   "metadata": {},
   "outputs": [],
   "source": [
    "x = np.array([1.1, 1.1])\n",
    "f, g, H = myFunction(x)"
   ]
  },
  {
   "cell_type": "code",
   "execution_count": 7,
   "metadata": {},
   "outputs": [
    {
     "data": {
      "text/plain": [
       "3.099476203750758"
      ]
     },
     "execution_count": 7,
     "metadata": {},
     "output_type": "execute_result"
    }
   ],
   "source": [
    "f"
   ]
  },
  {
   "cell_type": "code",
   "execution_count": 8,
   "metadata": {},
   "outputs": [
    {
     "data": {
      "text/plain": [
       "array([0.90909091, 3.00416602])"
      ]
     },
     "execution_count": 8,
     "metadata": {},
     "output_type": "execute_result"
    }
   ],
   "source": [
    "g"
   ]
  },
  {
   "cell_type": "code",
   "execution_count": 9,
   "metadata": {},
   "outputs": [
    {
     "data": {
      "text/plain": [
       "array([[-0.82644628,  0.        ],\n",
       "       [ 0.        ,  3.00416602]])"
      ]
     },
     "execution_count": 9,
     "metadata": {},
     "output_type": "execute_result"
    }
   ],
   "source": [
    "H"
   ]
  },
  {
   "cell_type": "markdown",
   "metadata": {},
   "source": [
    "Calculates an approximation of the gradient by finite differences."
   ]
  },
  {
   "cell_type": "code",
   "execution_count": 10,
   "metadata": {},
   "outputs": [],
   "source": [
    "g_fd = tools.findiff_g(myFunction, x)"
   ]
  },
  {
   "cell_type": "code",
   "execution_count": 11,
   "metadata": {},
   "outputs": [
    {
     "data": {
      "text/plain": [
       "array([0.90909087, 3.00416619])"
      ]
     },
     "execution_count": 11,
     "metadata": {},
     "output_type": "execute_result"
    }
   ],
   "source": [
    "g_fd"
   ]
  },
  {
   "cell_type": "markdown",
   "metadata": {},
   "source": [
    "Check the precision of the approximation"
   ]
  },
  {
   "cell_type": "code",
   "execution_count": 12,
   "metadata": {},
   "outputs": [
    {
     "data": {
      "text/plain": [
       "array([ 4.18595454e-08, -1.64594663e-07])"
      ]
     },
     "execution_count": 12,
     "metadata": {},
     "output_type": "execute_result"
    }
   ],
   "source": [
    "g - g_fd"
   ]
  },
  {
   "cell_type": "markdown",
   "metadata": {},
   "source": [
    "Calculates an approximation of the Hessian by finite differences."
   ]
  },
  {
   "cell_type": "code",
   "execution_count": 13,
   "metadata": {},
   "outputs": [],
   "source": [
    "H_fd = tools.findiff_H(myFunction, x)"
   ]
  },
  {
   "cell_type": "code",
   "execution_count": 14,
   "metadata": {},
   "outputs": [
    {
     "data": {
      "text/plain": [
       "array([[-0.8264462 ,  0.        ],\n",
       "       [ 0.        ,  3.00416619]])"
      ]
     },
     "execution_count": 14,
     "metadata": {},
     "output_type": "execute_result"
    }
   ],
   "source": [
    "H_fd"
   ]
  },
  {
   "cell_type": "markdown",
   "metadata": {},
   "source": [
    "Check the precision of the approximation"
   ]
  },
  {
   "cell_type": "code",
   "execution_count": 15,
   "metadata": {},
   "outputs": [
    {
     "data": {
      "text/plain": [
       "array([[-8.26465610e-08,  0.00000000e+00],\n",
       "       [ 0.00000000e+00, -1.64594663e-07]])"
      ]
     },
     "execution_count": 15,
     "metadata": {},
     "output_type": "execute_result"
    }
   ],
   "source": [
    "H - H_fd"
   ]
  },
  {
   "cell_type": "markdown",
   "metadata": {},
   "source": [
    "There is a function that checks the analytical derivatives by comparing them to their finite difference approximation."
   ]
  },
  {
   "cell_type": "code",
   "execution_count": 16,
   "metadata": {},
   "outputs": [
    {
     "name": "stdout",
     "output_type": "stream",
     "text": [
      "[11:20:30] < Detailed >  x\t\tGradient\tFinDiff\t\tDifference\n",
      "[11:20:30] < Detailed >  x[0]           \t+9.090909E-01\t+9.090909E-01\t+4.185955E-08\n",
      "[11:20:30] < Detailed >  x[1]           \t+3.004166E+00\t+3.004166E+00\t-1.645947E-07\n",
      "[11:20:30] < Detailed >  Row\t\tCol\t\tHessian\tFinDiff\t\tDifference\n",
      "[11:20:30] < Detailed >  x[0]           \tx[0]           \t-8.264463E-01\t-8.264462E-01\t-8.264656E-08\n",
      "[11:20:30] < Detailed >  x[0]           \tx[1]           \t+0.000000E+00\t+0.000000E+00\t+0.000000E+00\n",
      "[11:20:30] < Detailed >  x[1]           \tx[0]           \t+0.000000E+00\t+0.000000E+00\t+0.000000E+00\n",
      "[11:20:30] < Detailed >  x[1]           \tx[1]           \t+3.004166E+00\t+3.004166E+00\t-1.645947E-07\n"
     ]
    }
   ],
   "source": [
    "logger = msg.bioMessage()\n",
    "logger.setDetailed()\n",
    "f, g, h, gdiff, hdiff = \\\n",
    "    tools.checkDerivatives(myFunction, x, names=None, logg=True)"
   ]
  },
  {
   "cell_type": "markdown",
   "metadata": {},
   "source": [
    "To help reading the reporting, it is possible to give names to variables."
   ]
  },
  {
   "cell_type": "code",
   "execution_count": 17,
   "metadata": {},
   "outputs": [
    {
     "name": "stdout",
     "output_type": "stream",
     "text": [
      "[11:20:30] < Detailed >  x\t\tGradient\tFinDiff\t\tDifference\n",
      "[11:20:30] < Detailed >  First          \t+9.090909E-01\t+9.090909E-01\t+4.185955E-08\n",
      "[11:20:30] < Detailed >  Second         \t+3.004166E+00\t+3.004166E+00\t-1.645947E-07\n",
      "[11:20:30] < Detailed >  Row\t\tCol\t\tHessian\tFinDiff\t\tDifference\n",
      "[11:20:30] < Detailed >  First          \tFirst          \t-8.264463E-01\t-8.264462E-01\t-8.264656E-08\n",
      "[11:20:30] < Detailed >  First          \tSecond         \t+0.000000E+00\t+0.000000E+00\t+0.000000E+00\n",
      "[11:20:30] < Detailed >  Second         \tFirst          \t+0.000000E+00\t+0.000000E+00\t+0.000000E+00\n",
      "[11:20:30] < Detailed >  Second         \tSecond         \t+3.004166E+00\t+3.004166E+00\t-1.645947E-07\n"
     ]
    }
   ],
   "source": [
    "f, g, h, gdiff, hdiff = tools.checkDerivatives(myFunction,\n",
    "                                               x,\n",
    "                                               names=['First',\n",
    "                                                      'Second'],\n",
    "                                               logg=True)"
   ]
  },
  {
   "cell_type": "code",
   "execution_count": 18,
   "metadata": {},
   "outputs": [
    {
     "data": {
      "text/plain": [
       "array([ 4.18595454e-08, -1.64594663e-07])"
      ]
     },
     "execution_count": 18,
     "metadata": {},
     "output_type": "execute_result"
    }
   ],
   "source": [
    "gdiff"
   ]
  },
  {
   "cell_type": "code",
   "execution_count": 19,
   "metadata": {},
   "outputs": [
    {
     "data": {
      "text/plain": [
       "array([[-8.26465610e-08,  0.00000000e+00],\n",
       "       [ 0.00000000e+00, -1.64594663e-07]])"
      ]
     },
     "execution_count": 19,
     "metadata": {},
     "output_type": "execute_result"
    }
   ],
   "source": [
    "hdiff"
   ]
  },
  {
   "cell_type": "markdown",
   "metadata": {},
   "source": [
    "# Prime numbers"
   ]
  },
  {
   "cell_type": "markdown",
   "metadata": {},
   "source": [
    "Calculate prime numbers lesser or equal to an upper bound"
   ]
  },
  {
   "cell_type": "code",
   "execution_count": 20,
   "metadata": {},
   "outputs": [],
   "source": [
    "myprimes = tools.calculatePrimeNumbers(10)"
   ]
  },
  {
   "cell_type": "code",
   "execution_count": 21,
   "metadata": {},
   "outputs": [
    {
     "data": {
      "text/plain": [
       "[2, 3, 5, 7]"
      ]
     },
     "execution_count": 21,
     "metadata": {},
     "output_type": "execute_result"
    }
   ],
   "source": [
    "myprimes"
   ]
  },
  {
   "cell_type": "code",
   "execution_count": 22,
   "metadata": {},
   "outputs": [],
   "source": [
    "myprimes = tools.calculatePrimeNumbers(100)"
   ]
  },
  {
   "cell_type": "code",
   "execution_count": 23,
   "metadata": {},
   "outputs": [
    {
     "data": {
      "text/plain": [
       "[2,\n",
       " 3,\n",
       " 5,\n",
       " 7,\n",
       " 11,\n",
       " 13,\n",
       " 17,\n",
       " 19,\n",
       " 23,\n",
       " 29,\n",
       " 31,\n",
       " 37,\n",
       " 41,\n",
       " 43,\n",
       " 47,\n",
       " 53,\n",
       " 59,\n",
       " 61,\n",
       " 67,\n",
       " 71,\n",
       " 73,\n",
       " 79,\n",
       " 83,\n",
       " 89,\n",
       " 97]"
      ]
     },
     "execution_count": 23,
     "metadata": {},
     "output_type": "execute_result"
    }
   ],
   "source": [
    "myprimes"
   ]
  },
  {
   "cell_type": "markdown",
   "metadata": {},
   "source": [
    "Calculate a given number of prime numbers"
   ]
  },
  {
   "cell_type": "code",
   "execution_count": 24,
   "metadata": {},
   "outputs": [
    {
     "data": {
      "text/plain": [
       "[2, 3, 5, 7, 11, 13, 17]"
      ]
     },
     "execution_count": 24,
     "metadata": {},
     "output_type": "execute_result"
    }
   ],
   "source": [
    "myprimes = tools.getPrimeNumbers(7)\n",
    "myprimes"
   ]
  },
  {
   "cell_type": "markdown",
   "metadata": {},
   "source": [
    "# Counting groups of data"
   ]
  },
  {
   "cell_type": "code",
   "execution_count": 25,
   "metadata": {},
   "outputs": [],
   "source": [
    "alist = [1, 2, 2, 3, 3, 3, 4, 1, 1]"
   ]
  },
  {
   "cell_type": "code",
   "execution_count": 26,
   "metadata": {},
   "outputs": [],
   "source": [
    "df = pd.DataFrame({'ID': [1, 1, 2, 3, 3, 1, 2, 3], \n",
    "                   'value':[1000, \n",
    "                            2000, \n",
    "                            3000, \n",
    "                            4000, \n",
    "                            5000, \n",
    "                            5000, \n",
    "                            10000, \n",
    "                            20000]})"
   ]
  },
  {
   "cell_type": "code",
   "execution_count": 27,
   "metadata": {},
   "outputs": [
    {
     "data": {
      "text/plain": [
       "6"
      ]
     },
     "execution_count": 27,
     "metadata": {},
     "output_type": "execute_result"
    }
   ],
   "source": [
    "tools.countNumberOfGroups(df,'ID')"
   ]
  },
  {
   "cell_type": "code",
   "execution_count": 28,
   "metadata": {},
   "outputs": [
    {
     "data": {
      "text/plain": [
       "7"
      ]
     },
     "execution_count": 28,
     "metadata": {},
     "output_type": "execute_result"
    }
   ],
   "source": [
    "tools.countNumberOfGroups(df,'value')"
   ]
  },
  {
   "cell_type": "markdown",
   "metadata": {},
   "source": [
    "# Likelihood ratio test"
   ]
  },
  {
   "cell_type": "code",
   "execution_count": 29,
   "metadata": {},
   "outputs": [],
   "source": [
    "model1 = (-1340.8, 5)\n",
    "model2 = (-1338.49, 7)"
   ]
  },
  {
   "cell_type": "markdown",
   "metadata": {},
   "source": [
    "A likelihood ratio test is performed. The function returns the outcome of the test, the statistic, and the threshold. "
   ]
  },
  {
   "cell_type": "code",
   "execution_count": 30,
   "metadata": {},
   "outputs": [
    {
     "data": {
      "text/plain": [
       "LRTuple(message='H0 cannot be rejected at level 5.0%', statistic=4.619999999999891, threshold=5.991464547107979)"
      ]
     },
     "execution_count": 30,
     "metadata": {},
     "output_type": "execute_result"
    }
   ],
   "source": [
    "tools.likelihood_ratio_test(model1, model2)"
   ]
  },
  {
   "cell_type": "markdown",
   "metadata": {},
   "source": [
    "The default level of significance is 0.95. It can be changed. "
   ]
  },
  {
   "cell_type": "code",
   "execution_count": 31,
   "metadata": {},
   "outputs": [
    {
     "data": {
      "text/plain": [
       "LRTuple(message='H0 can be rejected at level 90.0%', statistic=4.619999999999891, threshold=0.21072103131565265)"
      ]
     },
     "execution_count": 31,
     "metadata": {},
     "output_type": "execute_result"
    }
   ],
   "source": [
    "tools.likelihood_ratio_test(model1, model2, significance_level=0.9)"
   ]
  },
  {
   "cell_type": "markdown",
   "metadata": {},
   "source": [
    "The order in which the models are presented is irrelevant"
   ]
  },
  {
   "cell_type": "code",
   "execution_count": 32,
   "metadata": {},
   "outputs": [
    {
     "data": {
      "text/plain": [
       "LRTuple(message='H0 cannot be rejected at level 5.0%', statistic=4.619999999999891, threshold=5.991464547107979)"
      ]
     },
     "execution_count": 32,
     "metadata": {},
     "output_type": "execute_result"
    }
   ],
   "source": [
    "tools.likelihood_ratio_test(model2, model1)"
   ]
  },
  {
   "cell_type": "markdown",
   "metadata": {},
   "source": [
    "But the unrestricted model must have a higher loglikelihood than the restricted one."
   ]
  },
  {
   "cell_type": "code",
   "execution_count": 33,
   "metadata": {},
   "outputs": [],
   "source": [
    "model1 = (-1340.8, 7)\n",
    "model2 = (-1338.49, 5)"
   ]
  },
  {
   "cell_type": "code",
   "execution_count": 34,
   "metadata": {},
   "outputs": [
    {
     "name": "stdout",
     "output_type": "stream",
     "text": [
      "The unrestricted model (-1340.8, 7) has a lower log likelihood than the restricted one (-1338.49, 5)\n"
     ]
    }
   ],
   "source": [
    "try:\n",
    "    tools.likelihood_ratio_test(model1, model2)\n",
    "except excep.biogemeError as e:\n",
    "    print(e)"
   ]
  },
  {
   "cell_type": "markdown",
   "metadata": {},
   "source": [
    "# Covariance and correlation between two alternatives of a cross-nested logit model"
   ]
  },
  {
   "cell_type": "markdown",
   "metadata": {},
   "source": [
    "First, we document the special case of a logit model."
   ]
  },
  {
   "cell_type": "code",
   "execution_count": 35,
   "metadata": {},
   "outputs": [],
   "source": [
    "mu_nest_1 = 1.0\n",
    "alphas_1 =  {'i': 1, 'j': 1}\n",
    "nest_1 = mu_nest_1, alphas_1\n",
    "mu_nest_2 = 1.0\n",
    "alphas_2 = {'j': 0.0, 'k': 1, 'm': 1}\n",
    "nest_2 = mu_nest_2, alphas_2\n",
    "nests = nest_1, nest_2"
   ]
  },
  {
   "cell_type": "code",
   "execution_count": 36,
   "metadata": {},
   "outputs": [
    {
     "data": {
      "text/html": [
       "<div>\n",
       "<style scoped>\n",
       "    .dataframe tbody tr th:only-of-type {\n",
       "        vertical-align: middle;\n",
       "    }\n",
       "\n",
       "    .dataframe tbody tr th {\n",
       "        vertical-align: top;\n",
       "    }\n",
       "\n",
       "    .dataframe thead th {\n",
       "        text-align: right;\n",
       "    }\n",
       "</style>\n",
       "<table border=\"1\" class=\"dataframe\">\n",
       "  <thead>\n",
       "    <tr style=\"text-align: right;\">\n",
       "      <th></th>\n",
       "      <th>i</th>\n",
       "      <th>j</th>\n",
       "      <th>k</th>\n",
       "      <th>m</th>\n",
       "    </tr>\n",
       "  </thead>\n",
       "  <tbody>\n",
       "    <tr>\n",
       "      <th>i</th>\n",
       "      <td>1.000000e+00</td>\n",
       "      <td>8.267275e-12</td>\n",
       "      <td>8.267275e-12</td>\n",
       "      <td>8.267275e-12</td>\n",
       "    </tr>\n",
       "    <tr>\n",
       "      <th>j</th>\n",
       "      <td>8.267275e-12</td>\n",
       "      <td>1.000000e+00</td>\n",
       "      <td>8.267275e-12</td>\n",
       "      <td>8.267275e-12</td>\n",
       "    </tr>\n",
       "    <tr>\n",
       "      <th>k</th>\n",
       "      <td>8.267275e-12</td>\n",
       "      <td>8.267275e-12</td>\n",
       "      <td>1.000000e+00</td>\n",
       "      <td>8.267275e-12</td>\n",
       "    </tr>\n",
       "    <tr>\n",
       "      <th>m</th>\n",
       "      <td>8.267275e-12</td>\n",
       "      <td>8.267275e-12</td>\n",
       "      <td>8.267275e-12</td>\n",
       "      <td>1.000000e+00</td>\n",
       "    </tr>\n",
       "  </tbody>\n",
       "</table>\n",
       "</div>"
      ],
      "text/plain": [
       "              i             j             k             m\n",
       "i  1.000000e+00  8.267275e-12  8.267275e-12  8.267275e-12\n",
       "j  8.267275e-12  1.000000e+00  8.267275e-12  8.267275e-12\n",
       "k  8.267275e-12  8.267275e-12  1.000000e+00  8.267275e-12\n",
       "m  8.267275e-12  8.267275e-12  8.267275e-12  1.000000e+00"
      ]
     },
     "execution_count": 36,
     "metadata": {},
     "output_type": "execute_result"
    }
   ],
   "source": [
    "tools.correlation_cross_nested(nests)"
   ]
  },
  {
   "cell_type": "markdown",
   "metadata": {},
   "source": [
    "Second, a nested logit model"
   ]
  },
  {
   "cell_type": "code",
   "execution_count": 37,
   "metadata": {},
   "outputs": [],
   "source": [
    "mu_nest_1 = 1.5\n",
    "alphas_1 =  {'i': 1, 'j': 1}\n",
    "nest_1 = mu_nest_1, alphas_1\n",
    "mu_nest_2 = 2.0\n",
    "alphas_2 = {'j': 0.0, 'k': 1, 'm': 1}\n",
    "nest_2 = mu_nest_2, alphas_2\n",
    "nests = nest_1, nest_2"
   ]
  },
  {
   "cell_type": "markdown",
   "metadata": {},
   "source": [
    "Theoretical value for the correlation"
   ]
  },
  {
   "cell_type": "code",
   "execution_count": 38,
   "metadata": {},
   "outputs": [
    {
     "data": {
      "text/plain": [
       "0.5555555555555556"
      ]
     },
     "execution_count": 38,
     "metadata": {},
     "output_type": "execute_result"
    }
   ],
   "source": [
    "correl_nest_1 = 1 - (1 / mu_nest_1**2)\n",
    "correl_nest_1"
   ]
  },
  {
   "cell_type": "code",
   "execution_count": 39,
   "metadata": {},
   "outputs": [
    {
     "data": {
      "text/plain": [
       "0.75"
      ]
     },
     "execution_count": 39,
     "metadata": {},
     "output_type": "execute_result"
    }
   ],
   "source": [
    "correl_nest_2 = 1 - (1 / mu_nest_2**2)\n",
    "correl_nest_2"
   ]
  },
  {
   "cell_type": "code",
   "execution_count": 40,
   "metadata": {},
   "outputs": [
    {
     "name": "stderr",
     "output_type": "stream",
     "text": [
      "/Users/michelbierlaire/anaconda3/envs/python310/lib/python3.10/site-packages/scipy/integrate/_quadpack_py.py:1151: IntegrationWarning: The integral is probably divergent, or slowly convergent.\n",
      "  quad_r = quad(f, low, high, args=args, full_output=self.full_output,\n",
      "/Users/michelbierlaire/anaconda3/envs/python310/lib/python3.10/site-packages/scipy/integrate/_quadpack_py.py:1151: IntegrationWarning: The algorithm does not converge.  Roundoff error is detected\n",
      "  in the extrapolation table.  It is assumed that the requested tolerance\n",
      "  cannot be achieved, and that the returned result (if full_output = 1) is \n",
      "  the best which can be obtained.\n",
      "  quad_r = quad(f, low, high, args=args, full_output=self.full_output,\n"
     ]
    },
    {
     "data": {
      "text/html": [
       "<div>\n",
       "<style scoped>\n",
       "    .dataframe tbody tr th:only-of-type {\n",
       "        vertical-align: middle;\n",
       "    }\n",
       "\n",
       "    .dataframe tbody tr th {\n",
       "        vertical-align: top;\n",
       "    }\n",
       "\n",
       "    .dataframe thead th {\n",
       "        text-align: right;\n",
       "    }\n",
       "</style>\n",
       "<table border=\"1\" class=\"dataframe\">\n",
       "  <thead>\n",
       "    <tr style=\"text-align: right;\">\n",
       "      <th></th>\n",
       "      <th>i</th>\n",
       "      <th>j</th>\n",
       "      <th>k</th>\n",
       "      <th>m</th>\n",
       "    </tr>\n",
       "  </thead>\n",
       "  <tbody>\n",
       "    <tr>\n",
       "      <th>i</th>\n",
       "      <td>1.000000e+00</td>\n",
       "      <td>5.555556e-01</td>\n",
       "      <td>8.239265e-12</td>\n",
       "      <td>8.239265e-12</td>\n",
       "    </tr>\n",
       "    <tr>\n",
       "      <th>j</th>\n",
       "      <td>5.555556e-01</td>\n",
       "      <td>1.000000e+00</td>\n",
       "      <td>8.239265e-12</td>\n",
       "      <td>8.239265e-12</td>\n",
       "    </tr>\n",
       "    <tr>\n",
       "      <th>k</th>\n",
       "      <td>8.239265e-12</td>\n",
       "      <td>8.239265e-12</td>\n",
       "      <td>1.000000e+00</td>\n",
       "      <td>7.500000e-01</td>\n",
       "    </tr>\n",
       "    <tr>\n",
       "      <th>m</th>\n",
       "      <td>8.239265e-12</td>\n",
       "      <td>8.239265e-12</td>\n",
       "      <td>7.500000e-01</td>\n",
       "      <td>1.000000e+00</td>\n",
       "    </tr>\n",
       "  </tbody>\n",
       "</table>\n",
       "</div>"
      ],
      "text/plain": [
       "              i             j             k             m\n",
       "i  1.000000e+00  5.555556e-01  8.239265e-12  8.239265e-12\n",
       "j  5.555556e-01  1.000000e+00  8.239265e-12  8.239265e-12\n",
       "k  8.239265e-12  8.239265e-12  1.000000e+00  7.500000e-01\n",
       "m  8.239265e-12  8.239265e-12  7.500000e-01  1.000000e+00"
      ]
     },
     "execution_count": 40,
     "metadata": {},
     "output_type": "execute_result"
    }
   ],
   "source": [
    "tools.correlation_cross_nested(nests)"
   ]
  },
  {
   "cell_type": "markdown",
   "metadata": {},
   "source": [
    "Finally, a cross-nested logit model"
   ]
  },
  {
   "cell_type": "code",
   "execution_count": 41,
   "metadata": {},
   "outputs": [],
   "source": [
    "mu_nest_1 = 1.5\n",
    "alphas_1 =  {'i': 1, 'j': 0.5}\n",
    "nest_1 = mu_nest_1, alphas_1\n",
    "mu_nest_2 = 2.0\n",
    "alphas_2 = {'j': 0.5, 'k': 1, 'm': 1}\n",
    "nest_2 = mu_nest_2, alphas_2\n",
    "nests = nest_1, nest_2"
   ]
  },
  {
   "cell_type": "code",
   "execution_count": 42,
   "metadata": {},
   "outputs": [
    {
     "name": "stderr",
     "output_type": "stream",
     "text": [
      "/Users/michelbierlaire/anaconda3/envs/python310/lib/python3.10/site-packages/scipy/integrate/_quadpack_py.py:1151: IntegrationWarning: The integral is probably divergent, or slowly convergent.\n",
      "  quad_r = quad(f, low, high, args=args, full_output=self.full_output,\n",
      "/Users/michelbierlaire/anaconda3/envs/python310/lib/python3.10/site-packages/scipy/integrate/_quadpack_py.py:1151: IntegrationWarning: The algorithm does not converge.  Roundoff error is detected\n",
      "  in the extrapolation table.  It is assumed that the requested tolerance\n",
      "  cannot be achieved, and that the returned result (if full_output = 1) is \n",
      "  the best which can be obtained.\n",
      "  quad_r = quad(f, low, high, args=args, full_output=self.full_output,\n"
     ]
    },
    {
     "data": {
      "text/html": [
       "<div>\n",
       "<style scoped>\n",
       "    .dataframe tbody tr th:only-of-type {\n",
       "        vertical-align: middle;\n",
       "    }\n",
       "\n",
       "    .dataframe tbody tr th {\n",
       "        vertical-align: top;\n",
       "    }\n",
       "\n",
       "    .dataframe thead th {\n",
       "        text-align: right;\n",
       "    }\n",
       "</style>\n",
       "<table border=\"1\" class=\"dataframe\">\n",
       "  <thead>\n",
       "    <tr style=\"text-align: right;\">\n",
       "      <th></th>\n",
       "      <th>i</th>\n",
       "      <th>j</th>\n",
       "      <th>k</th>\n",
       "      <th>m</th>\n",
       "    </tr>\n",
       "  </thead>\n",
       "  <tbody>\n",
       "    <tr>\n",
       "      <th>i</th>\n",
       "      <td>1.000000e+00</td>\n",
       "      <td>0.37618</td>\n",
       "      <td>8.239265e-12</td>\n",
       "      <td>8.239265e-12</td>\n",
       "    </tr>\n",
       "    <tr>\n",
       "      <th>j</th>\n",
       "      <td>3.761799e-01</td>\n",
       "      <td>1.00000</td>\n",
       "      <td>5.000000e-01</td>\n",
       "      <td>5.000000e-01</td>\n",
       "    </tr>\n",
       "    <tr>\n",
       "      <th>k</th>\n",
       "      <td>8.239265e-12</td>\n",
       "      <td>0.50000</td>\n",
       "      <td>1.000000e+00</td>\n",
       "      <td>7.500000e-01</td>\n",
       "    </tr>\n",
       "    <tr>\n",
       "      <th>m</th>\n",
       "      <td>8.239265e-12</td>\n",
       "      <td>0.50000</td>\n",
       "      <td>7.500000e-01</td>\n",
       "      <td>1.000000e+00</td>\n",
       "    </tr>\n",
       "  </tbody>\n",
       "</table>\n",
       "</div>"
      ],
      "text/plain": [
       "              i        j             k             m\n",
       "i  1.000000e+00  0.37618  8.239265e-12  8.239265e-12\n",
       "j  3.761799e-01  1.00000  5.000000e-01  5.000000e-01\n",
       "k  8.239265e-12  0.50000  1.000000e+00  7.500000e-01\n",
       "m  8.239265e-12  0.50000  7.500000e-01  1.000000e+00"
      ]
     },
     "execution_count": 42,
     "metadata": {},
     "output_type": "execute_result"
    }
   ],
   "source": [
    "tools.correlation_cross_nested(nests)"
   ]
  }
 ],
 "metadata": {
  "kernelspec": {
   "display_name": "Python 3 (ipykernel)",
   "language": "python",
   "name": "python3"
  },
  "language_info": {
   "codemirror_mode": {
    "name": "ipython",
    "version": 3
   },
   "file_extension": ".py",
   "mimetype": "text/x-python",
   "name": "python",
   "nbconvert_exporter": "python",
   "pygments_lexer": "ipython3",
   "version": "3.10.4"
  }
 },
 "nbformat": 4,
 "nbformat_minor": 2
}
