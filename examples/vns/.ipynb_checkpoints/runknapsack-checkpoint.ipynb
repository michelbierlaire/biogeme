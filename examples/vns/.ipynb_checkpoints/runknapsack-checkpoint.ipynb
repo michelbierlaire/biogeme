{
 "cells": [
  {
   "cell_type": "code",
   "execution_count": null,
   "metadata": {},
   "outputs": [],
   "source": [
    "#%%\n",
    "import numpy as np\n",
    "from biogeme import vns\n",
    "from knapsack import knapsack, oneSack\n",
    "### Run one instance\n",
    "\n",
    "utility = np.array([80, 31, 48, 17, 27, 84, 34, 39, 46, 58, 23, 67])\n",
    "weight = np.array([84, 27, 47, 22, 21, 96, 42, 46, 54, 53, 32, 78])\n",
    "capacity = 300\n",
    "\n",
    "theKnapsack = knapsack(utility, weight, capacity)\n",
    "emptySack = theKnapsack.emptySack()\n",
    "\n",
    "thePareto = vns.vns(\n",
    "    theKnapsack,\n",
    "    [emptySack],\n",
    "    maxNeighborhood=12,\n",
    "    numberOfNeighbors=10,\n",
    "    archiveInputFile='knapsackPareto.pickle',\n",
    "    pickleOutputFile='knapsackPareto.pickle',\n",
    ")\n",
    "\n",
    "print(f'Number of pareto solutions: {len(thePareto.pareto)}')\n",
    "print(f'Pareto solutions: {thePareto.pareto}')\n",
    "\n",
    "for p in thePareto.pareto.keys():\n",
    "    obj = [f'{t}: {r} ' for t, r in zip(p.objectivesNames, p.objectives)]\n",
    "    print(f'{p} {obj}')\n",
    "    \n"
   ]
  }
 ],
 "metadata": {
  "anaconda-cloud": {},
  "kernelspec": {
   "display_name": "Python 3",
   "language": "python",
   "name": "python3"
  },
  "language_info": {
   "codemirror_mode": {
    "name": "ipython",
    "version": 3
   },
   "file_extension": ".py",
   "mimetype": "text/x-python",
   "name": "python",
   "nbconvert_exporter": "python",
   "pygments_lexer": "ipython3",
   "version": "3.8.8"
  }
 },
 "nbformat": 4,
 "nbformat_minor": 4
}
